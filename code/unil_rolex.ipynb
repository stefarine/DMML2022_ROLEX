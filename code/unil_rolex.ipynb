{
  "nbformat": 4,
  "nbformat_minor": 0,
  "metadata": {
    "colab": {
      "provenance": [],
      "include_colab_link": true
    },
    "kernelspec": {
      "name": "python3",
      "display_name": "Python 3"
    },
    "language_info": {
      "name": "python"
    }
  },
  "cells": [
    {
      "cell_type": "markdown",
      "metadata": {
        "id": "view-in-github",
        "colab_type": "text"
      },
      "source": [
        "<a href=\"https://colab.research.google.com/github/stefarine/DMML2022_ROLEX/blob/main/code/unil_rolex.ipynb\" target=\"_parent\"><img src=\"https://colab.research.google.com/assets/colab-badge.svg\" alt=\"Open In Colab\"/></a>"
      ]
    },
    {
      "cell_type": "code",
      "execution_count": null,
      "metadata": {
        "id": "8N5qak4RLcly"
      },
      "outputs": [],
      "source": [
        "HELLO"
      ]
    },
    {
      "cell_type": "code",
      "source": [
        "salut"
      ],
      "metadata": {
        "id": "2IbxCUGzQYzO"
      },
      "execution_count": null,
      "outputs": []
    },
    {
      "cell_type": "markdown",
      "source": [
        "YOOOOOOO"
      ],
      "metadata": {
        "id": "Yk98G9ktP3Xu"
      }
    },
    {
      "cell_type": "markdown",
      "source": [
        "yoyoyoy"
      ],
      "metadata": {
        "id": "0-8eQytNPGLz"
      }
    },
    {
      "cell_type": "markdown",
      "source": [
        "UNIL_ROLEX"
      ],
      "metadata": {
        "id": "vx2QclddLhHp"
      }
    }
  ]
}