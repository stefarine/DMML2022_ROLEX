{
  "nbformat": 4,
  "nbformat_minor": 0,
  "metadata": {
    "colab": {
      "provenance": [],
      "include_colab_link": true
    },
    "kernelspec": {
      "name": "python3",
      "display_name": "Python 3"
    },
    "language_info": {
      "name": "python"
    }
  },
  "cells": [
    {
      "cell_type": "markdown",
      "metadata": {
        "id": "view-in-github",
        "colab_type": "text"
      },
      "source": [
        "<a href=\"https://colab.research.google.com/github/stefarine/DMML2022_ROLEX/blob/main/code/UNIL_ROLEX.ipynb\" target=\"_parent\"><img src=\"https://colab.research.google.com/assets/colab-badge.svg\" alt=\"Open In Colab\"/></a>"
      ]
    },
    {
      "cell_type": "markdown",
      "source": [
        "# Data Importation"
      ],
      "metadata": {
        "id": "W13Q5dmEWEGf"
      }
    },
    {
      "cell_type": "code",
      "execution_count": 22,
      "metadata": {
        "id": "7DTMc8x6SBXo"
      },
      "outputs": [],
      "source": [
        "import pandas as pd\n",
        "import numpy as np\n",
        "\n",
        "df = pd.read_csv('training_data.csv')\n",
        "df_pred = pd.read_csv('unlabelled_test_data.csv')"
      ]
    },
    {
      "cell_type": "code",
      "source": [
        "df.head()"
      ],
      "metadata": {
        "id": "Hh3vpynrWLgi",
        "outputId": "6f09af80-5dc2-45f5-8999-791526d102ab",
        "colab": {
          "base_uri": "https://localhost:8080/",
          "height": 206
        }
      },
      "execution_count": 3,
      "outputs": [
        {
          "output_type": "execute_result",
          "data": {
            "text/plain": [
              "   id                                           sentence difficulty\n",
              "0   0  Les coûts kilométriques réels peuvent diverger...         C1\n",
              "1   1  Le bleu, c'est ma couleur préférée mais je n'a...         A1\n",
              "2   2  Le test de niveau en français est sur le site ...         A1\n",
              "3   3           Est-ce que ton mari est aussi de Boston?         A1\n",
              "4   4  Dans les écoles de commerce, dans les couloirs...         B1"
            ],
            "text/html": [
              "\n",
              "  <div id=\"df-251abc28-c3a8-4b75-8378-415beb76d570\">\n",
              "    <div class=\"colab-df-container\">\n",
              "      <div>\n",
              "<style scoped>\n",
              "    .dataframe tbody tr th:only-of-type {\n",
              "        vertical-align: middle;\n",
              "    }\n",
              "\n",
              "    .dataframe tbody tr th {\n",
              "        vertical-align: top;\n",
              "    }\n",
              "\n",
              "    .dataframe thead th {\n",
              "        text-align: right;\n",
              "    }\n",
              "</style>\n",
              "<table border=\"1\" class=\"dataframe\">\n",
              "  <thead>\n",
              "    <tr style=\"text-align: right;\">\n",
              "      <th></th>\n",
              "      <th>id</th>\n",
              "      <th>sentence</th>\n",
              "      <th>difficulty</th>\n",
              "    </tr>\n",
              "  </thead>\n",
              "  <tbody>\n",
              "    <tr>\n",
              "      <th>0</th>\n",
              "      <td>0</td>\n",
              "      <td>Les coûts kilométriques réels peuvent diverger...</td>\n",
              "      <td>C1</td>\n",
              "    </tr>\n",
              "    <tr>\n",
              "      <th>1</th>\n",
              "      <td>1</td>\n",
              "      <td>Le bleu, c'est ma couleur préférée mais je n'a...</td>\n",
              "      <td>A1</td>\n",
              "    </tr>\n",
              "    <tr>\n",
              "      <th>2</th>\n",
              "      <td>2</td>\n",
              "      <td>Le test de niveau en français est sur le site ...</td>\n",
              "      <td>A1</td>\n",
              "    </tr>\n",
              "    <tr>\n",
              "      <th>3</th>\n",
              "      <td>3</td>\n",
              "      <td>Est-ce que ton mari est aussi de Boston?</td>\n",
              "      <td>A1</td>\n",
              "    </tr>\n",
              "    <tr>\n",
              "      <th>4</th>\n",
              "      <td>4</td>\n",
              "      <td>Dans les écoles de commerce, dans les couloirs...</td>\n",
              "      <td>B1</td>\n",
              "    </tr>\n",
              "  </tbody>\n",
              "</table>\n",
              "</div>\n",
              "      <button class=\"colab-df-convert\" onclick=\"convertToInteractive('df-251abc28-c3a8-4b75-8378-415beb76d570')\"\n",
              "              title=\"Convert this dataframe to an interactive table.\"\n",
              "              style=\"display:none;\">\n",
              "        \n",
              "  <svg xmlns=\"http://www.w3.org/2000/svg\" height=\"24px\"viewBox=\"0 0 24 24\"\n",
              "       width=\"24px\">\n",
              "    <path d=\"M0 0h24v24H0V0z\" fill=\"none\"/>\n",
              "    <path d=\"M18.56 5.44l.94 2.06.94-2.06 2.06-.94-2.06-.94-.94-2.06-.94 2.06-2.06.94zm-11 1L8.5 8.5l.94-2.06 2.06-.94-2.06-.94L8.5 2.5l-.94 2.06-2.06.94zm10 10l.94 2.06.94-2.06 2.06-.94-2.06-.94-.94-2.06-.94 2.06-2.06.94z\"/><path d=\"M17.41 7.96l-1.37-1.37c-.4-.4-.92-.59-1.43-.59-.52 0-1.04.2-1.43.59L10.3 9.45l-7.72 7.72c-.78.78-.78 2.05 0 2.83L4 21.41c.39.39.9.59 1.41.59.51 0 1.02-.2 1.41-.59l7.78-7.78 2.81-2.81c.8-.78.8-2.07 0-2.86zM5.41 20L4 18.59l7.72-7.72 1.47 1.35L5.41 20z\"/>\n",
              "  </svg>\n",
              "      </button>\n",
              "      \n",
              "  <style>\n",
              "    .colab-df-container {\n",
              "      display:flex;\n",
              "      flex-wrap:wrap;\n",
              "      gap: 12px;\n",
              "    }\n",
              "\n",
              "    .colab-df-convert {\n",
              "      background-color: #E8F0FE;\n",
              "      border: none;\n",
              "      border-radius: 50%;\n",
              "      cursor: pointer;\n",
              "      display: none;\n",
              "      fill: #1967D2;\n",
              "      height: 32px;\n",
              "      padding: 0 0 0 0;\n",
              "      width: 32px;\n",
              "    }\n",
              "\n",
              "    .colab-df-convert:hover {\n",
              "      background-color: #E2EBFA;\n",
              "      box-shadow: 0px 1px 2px rgba(60, 64, 67, 0.3), 0px 1px 3px 1px rgba(60, 64, 67, 0.15);\n",
              "      fill: #174EA6;\n",
              "    }\n",
              "\n",
              "    [theme=dark] .colab-df-convert {\n",
              "      background-color: #3B4455;\n",
              "      fill: #D2E3FC;\n",
              "    }\n",
              "\n",
              "    [theme=dark] .colab-df-convert:hover {\n",
              "      background-color: #434B5C;\n",
              "      box-shadow: 0px 1px 3px 1px rgba(0, 0, 0, 0.15);\n",
              "      filter: drop-shadow(0px 1px 2px rgba(0, 0, 0, 0.3));\n",
              "      fill: #FFFFFF;\n",
              "    }\n",
              "  </style>\n",
              "\n",
              "      <script>\n",
              "        const buttonEl =\n",
              "          document.querySelector('#df-251abc28-c3a8-4b75-8378-415beb76d570 button.colab-df-convert');\n",
              "        buttonEl.style.display =\n",
              "          google.colab.kernel.accessAllowed ? 'block' : 'none';\n",
              "\n",
              "        async function convertToInteractive(key) {\n",
              "          const element = document.querySelector('#df-251abc28-c3a8-4b75-8378-415beb76d570');\n",
              "          const dataTable =\n",
              "            await google.colab.kernel.invokeFunction('convertToInteractive',\n",
              "                                                     [key], {});\n",
              "          if (!dataTable) return;\n",
              "\n",
              "          const docLinkHtml = 'Like what you see? Visit the ' +\n",
              "            '<a target=\"_blank\" href=https://colab.research.google.com/notebooks/data_table.ipynb>data table notebook</a>'\n",
              "            + ' to learn more about interactive tables.';\n",
              "          element.innerHTML = '';\n",
              "          dataTable['output_type'] = 'display_data';\n",
              "          await google.colab.output.renderOutput(dataTable, element);\n",
              "          const docLink = document.createElement('div');\n",
              "          docLink.innerHTML = docLinkHtml;\n",
              "          element.appendChild(docLink);\n",
              "        }\n",
              "      </script>\n",
              "    </div>\n",
              "  </div>\n",
              "  "
            ]
          },
          "metadata": {},
          "execution_count": 3
        }
      ]
    },
    {
      "cell_type": "code",
      "source": [
        "df_pred.head()\n",
        "X_pred = df_pred['sentence']\n",
        "X_pred"
      ],
      "metadata": {
        "id": "NFlTAKsIjBMS",
        "outputId": "c98a9a17-c999-4302-c002-6e4013f78a3f",
        "colab": {
          "base_uri": "https://localhost:8080/"
        }
      },
      "execution_count": 4,
      "outputs": [
        {
          "output_type": "execute_result",
          "data": {
            "text/plain": [
              "0       Nous dûmes nous excuser des propos que nous eû...\n",
              "1       Vous ne pouvez pas savoir le plaisir que j'ai ...\n",
              "2       Et, paradoxalement, boire froid n'est pas la b...\n",
              "3       Ce n'est pas étonnant, car c'est une saison my...\n",
              "4       Le corps de Golo lui-même, d'une essence aussi...\n",
              "                              ...                        \n",
              "1195    C'est un phénomène qui trouve une accélération...\n",
              "1196    Je vais parler au serveur et voir si on peut d...\n",
              "1197    Il n'était pas comme tant de gens qui par pare...\n",
              "1198        Ils deviennent dangereux pour notre économie.\n",
              "1199    Son succès a généré beaucoup de réactions néga...\n",
              "Name: sentence, Length: 1200, dtype: object"
            ]
          },
          "metadata": {},
          "execution_count": 4
        }
      ]
    },
    {
      "cell_type": "code",
      "source": [
        "np.random.seed = 0"
      ],
      "metadata": {
        "id": "x8jCm9ZHWV-B"
      },
      "execution_count": 5,
      "outputs": []
    },
    {
      "cell_type": "code",
      "source": [
        "y = df['difficulty']\n",
        "X = df['sentence']"
      ],
      "metadata": {
        "id": "lOKAN5MvXjTO"
      },
      "execution_count": 6,
      "outputs": []
    },
    {
      "cell_type": "markdown",
      "source": [
        "# Baseline"
      ],
      "metadata": {
        "id": "dwbHmmYiWab5"
      }
    },
    {
      "cell_type": "code",
      "source": [
        "base_rate = (df['difficulty'].value_counts().max()/df['difficulty'].shape[0]).round(4)\n",
        "base_rate"
      ],
      "metadata": {
        "id": "Na9oFoNHWj9U",
        "outputId": "3e06c698-fa2b-4f43-85a8-90fb2bbfe990",
        "colab": {
          "base_uri": "https://localhost:8080/"
        }
      },
      "execution_count": 7,
      "outputs": [
        {
          "output_type": "execute_result",
          "data": {
            "text/plain": [
              "0.1694"
            ]
          },
          "metadata": {},
          "execution_count": 7
        }
      ]
    },
    {
      "cell_type": "markdown",
      "source": [
        "# Logistic Regression (whithout data cleaning)\n"
      ],
      "metadata": {
        "id": "kAwHrHOwX5fM"
      }
    },
    {
      "cell_type": "code",
      "source": [
        "from sklearn.feature_extraction.text import CountVectorizer, TfidfVectorizer\n",
        "from sklearn.linear_model import LogisticRegression, LogisticRegressionCV\n",
        "from sklearn.pipeline import Pipeline\n",
        "from sklearn.model_selection import train_test_split\n",
        "from sklearn.metrics import confusion_matrix, accuracy_score, precision_score, recall_score, f1_score\n"
      ],
      "metadata": {
        "id": "ZctKHudHX_hw"
      },
      "execution_count": 8,
      "outputs": []
    },
    {
      "cell_type": "code",
      "source": [
        "# Using default tokenizer in TfidfVectorizer\n",
        "tfidf = TfidfVectorizer(ngram_range=(1, 1))\n"
      ],
      "metadata": {
        "id": "qIestHk0Y4r_"
      },
      "execution_count": 9,
      "outputs": []
    },
    {
      "cell_type": "code",
      "source": [
        "X_train, X_test, y_train, y_test = train_test_split(X, y, test_size=0.2, random_state=0)"
      ],
      "metadata": {
        "id": "M_yVAG8zaSwX"
      },
      "execution_count": 10,
      "outputs": []
    },
    {
      "cell_type": "code",
      "source": [
        "# Define classifier\n",
        "classifier = LogisticRegression()\n",
        "\n",
        "# Create pipeline\n",
        "## The purpose of the pipeline is to assemble several steps that can be cross-validated together while setting different parameters.\n",
        "pipe = Pipeline([('vectorizer', tfidf),\n",
        "                 ('classifier', classifier)])\n",
        "\n",
        "# Fit model on training set\n",
        "pipe.fit(X_train, y_train)"
      ],
      "metadata": {
        "id": "fS0gAoGlnHNE",
        "outputId": "464bc00c-ea68-41c9-c8e8-02d51174e6b9",
        "colab": {
          "base_uri": "https://localhost:8080/"
        }
      },
      "execution_count": null,
      "outputs": [
        {
          "output_type": "execute_result",
          "data": {
            "text/plain": [
              "Pipeline(steps=[('vectorizer', TfidfVectorizer()),\n",
              "                ('classifier', LogisticRegression())])"
            ]
          },
          "metadata": {},
          "execution_count": 57
        }
      ]
    },
    {
      "cell_type": "code",
      "source": [
        "################################\n",
        "#WHICH AVERAGE MODE IS BETTER ?#\n",
        "################################\n",
        "\n",
        "# Evaluate the model\n",
        "def evaluate(true, pred):\n",
        "    precision = precision_score(true, pred,average='macro')\n",
        "    recall = recall_score(true, pred,average='macro')\n",
        "    f1 = f1_score(true, pred,average='macro')\n",
        "    print(f\"CONFUSION MATRIX:\\n{confusion_matrix(true, pred)}\")\n",
        "    print(f\"ACCURACY SCORE:\\n{accuracy_score(true, pred):.4f}\")\n",
        "    print(f\"CLASSIFICATION REPORT:\\n\\tPrecision: {precision:.4f}\\n\\tRecall: {recall:.4f}\\n\\tF1_Score: {f1:.4f}\")"
      ],
      "metadata": {
        "id": "hTesOv1vuo81"
      },
      "execution_count": 12,
      "outputs": []
    },
    {
      "cell_type": "code",
      "source": [
        "# Predictions\n",
        "y_pred = pipe.predict(X_test)\n",
        "\n",
        "# Evaluation - test set\n",
        "evaluate(y_test, y_pred)"
      ],
      "metadata": {
        "id": "uEZEvn11uvFU",
        "outputId": "caa378eb-b186-4f1e-ac4f-9f3dc0eb410f",
        "colab": {
          "base_uri": "https://localhost:8080/"
        }
      },
      "execution_count": null,
      "outputs": [
        {
          "output_type": "stream",
          "name": "stdout",
          "text": [
            "CONFUSION MATRIX:\n",
            "[[93 31 21 10  4  2]\n",
            " [54 60 30  6  6  8]\n",
            " [12 38 64 17  9 20]\n",
            " [ 6  6 15 66 27 24]\n",
            " [ 4  4 10 37 73 45]\n",
            " [ 7  8  8 19 24 92]]\n",
            "ACCURACY SCORE:\n",
            "0.4667\n",
            "CLASSIFICATION REPORT:\n",
            "\tPrecision: 0.4645\n",
            "\tRecall: 0.4677\n",
            "\tF1_Score: 0.4640\n"
          ]
        }
      ]
    },
    {
      "cell_type": "code",
      "source": [
        "predictions = pipe.predict(X_pred)\n",
        "\n",
        "predictions = pd.DataFrame(predictions,columns=['difficulty'])\n",
        "\n",
        "predictions.to_csv(\"LogisticRegression.csv\")"
      ],
      "metadata": {
        "id": "fUv634Q6wTNj"
      },
      "execution_count": null,
      "outputs": []
    },
    {
      "cell_type": "markdown",
      "source": [
        "# KNN (whithout data cleaning)"
      ],
      "metadata": {
        "id": "3tUIDbw2HEA0"
      }
    },
    {
      "cell_type": "code",
      "source": [
        "# Import KNeighborsClassifier\n",
        "from sklearn.neighbors import KNeighborsClassifier\n",
        "\n",
        "# Define classifier\n",
        "classifier_knn = KNeighborsClassifier()\n",
        "\n",
        "# Create pipeline\n",
        "pipe_knn = Pipeline([('vectorizer', tfidf),\n",
        "                 ('classifier', classifier_knn)])\n",
        "\n",
        "# Fit model on training set\n",
        "pipe_knn.fit(X_train, y_train)\n",
        "\n",
        "# Predictions\n",
        "y_pred_knn = pipe_knn.predict(X_test)\n",
        "\n",
        "evaluate(y_test, y_pred_knn)"
      ],
      "metadata": {
        "colab": {
          "base_uri": "https://localhost:8080/"
        },
        "id": "01jRIxK5G9i7",
        "outputId": "eba052d3-c2e2-4a51-f251-f4b0f2ce04e4"
      },
      "execution_count": 13,
      "outputs": [
        {
          "output_type": "stream",
          "name": "stdout",
          "text": [
            "CONFUSION MATRIX:\n",
            "[[121  28   8   1   1   2]\n",
            " [ 98  51  12   1   1   1]\n",
            " [ 81  39  33   3   1   3]\n",
            " [ 49  30  19  29   3  14]\n",
            " [ 48  36  29  15  29  16]\n",
            " [ 37  29  17  23   9  43]]\n",
            "ACCURACY SCORE:\n",
            "0.3187\n",
            "CLASSIFICATION REPORT:\n",
            "\tPrecision: 0.4007\n",
            "\tRecall: 0.3183\n",
            "\tF1_Score: 0.3022\n"
          ]
        }
      ]
    },
    {
      "cell_type": "code",
      "source": [
        "predictions_knn = pipe_knn.predict(X_pred)\n",
        "\n",
        "predictions_knn = pd.DataFrame(predictions_knn,columns=['difficulty'])\n",
        "\n",
        "predictions_knn.to_csv(\"KNN.csv\")"
      ],
      "metadata": {
        "id": "FGPMpi4-W-ws"
      },
      "execution_count": 15,
      "outputs": []
    },
    {
      "cell_type": "markdown",
      "source": [
        "## KNN improved"
      ],
      "metadata": {
        "id": "XPelT33EKDn2"
      }
    },
    {
      "cell_type": "code",
      "source": [
        "# Grid Search - hyperparameter tuning\n",
        "from sklearn.model_selection import GridSearchCV\n",
        "\n",
        "# Define parameters to test\n",
        "grid = {'n_neighbors':np.arange(1,100),\n",
        "        'p':np.arange(1,3),\n",
        "        'weights':['uniform','distance']}\n",
        "\n",
        "# Define and fit model\n",
        "knn = KNeighborsClassifier()\n",
        "classifier_knn_plus = GridSearchCV(knn, grid, cv=10)\n",
        "\n",
        "pipe_knn_plus = Pipeline([('vectorizer', tfidf),\n",
        "                 ('classifier', classifier_knn_plus)])\n",
        "\n",
        "pipe_knn_plus.fit(X_train, y_train)\n",
        "\n",
        "print(\"Hyperparameters:\", classifier_knn_plus.best_params_)"
      ],
      "metadata": {
        "colab": {
          "base_uri": "https://localhost:8080/"
        },
        "id": "zICrinP2KFRX",
        "outputId": "4effd5a3-46b1-4f32-e62c-8d753dfa6d75"
      },
      "execution_count": 21,
      "outputs": [
        {
          "output_type": "stream",
          "name": "stdout",
          "text": [
            "Hyperparameters: {'n_neighbors': 4, 'p': 2, 'weights': 'distance'}\n"
          ]
        }
      ]
    },
    {
      "cell_type": "code",
      "source": [
        "# Predictions\n",
        "y_pred_knn_plus = pipe_knn_plus.predict(X_test)\n",
        "\n",
        "evaluate(y_test, y_pred_knn_plus)\n"
      ],
      "metadata": {
        "colab": {
          "base_uri": "https://localhost:8080/"
        },
        "id": "LPwNctU9R_h2",
        "outputId": "b8492409-fee2-429b-ea69-2e14f37c72dc"
      },
      "execution_count": 23,
      "outputs": [
        {
          "output_type": "stream",
          "name": "stdout",
          "text": [
            "CONFUSION MATRIX:\n",
            "[[116  27  14   1   1   2]\n",
            " [ 79  64  15   4   1   1]\n",
            " [ 65  38  44   8   2   3]\n",
            " [ 37  25  23  40   2  17]\n",
            " [ 37  30  23  26  36  21]\n",
            " [ 34  22  19  13  17  53]]\n",
            "ACCURACY SCORE:\n",
            "0.3677\n",
            "CLASSIFICATION REPORT:\n",
            "\tPrecision: 0.4227\n",
            "\tRecall: 0.3678\n",
            "\tF1_Score: 0.3575\n"
          ]
        }
      ]
    },
    {
      "cell_type": "code",
      "source": [
        "predictions_knn_plus = pipe_knn_plus.predict(X_pred)\n",
        "\n",
        "predictions_knn_plus = pd.DataFrame(predictions_knn_plus,columns=['difficulty'])\n",
        "\n",
        "predictions_knn_plus.to_csv(\"Knn_plus.csv\")"
      ],
      "metadata": {
        "id": "zr5uitrAXIn4"
      },
      "execution_count": 24,
      "outputs": []
    },
    {
      "cell_type": "markdown",
      "source": [
        "# Decision Tree Classifier (without data cleaning)"
      ],
      "metadata": {
        "id": "YwKRk7DqHO65"
      }
    },
    {
      "cell_type": "code",
      "source": [
        "# Import Decision Tree Classifier\n",
        "from sklearn.tree import DecisionTreeClassifier\n",
        "\n",
        "# Define classifier\n",
        "classifier_dtc = DecisionTreeClassifier()\n",
        "\n",
        "# Create pipeline\n",
        "pipe_dtc = Pipeline([('vectorizer', tfidf),\n",
        "                 ('classifier', classifier_dtc)])\n",
        "\n",
        "# Fit model on training set\n",
        "pipe_dtc.fit(X_train, y_train)\n",
        "\n",
        "# Predictions\n",
        "y_pred_dtc = pipe_dtc.predict(X_test)\n",
        "\n",
        "evaluate(y_test, y_pred_dtc)"
      ],
      "metadata": {
        "colab": {
          "base_uri": "https://localhost:8080/"
        },
        "id": "3_GI5gPVHTl8",
        "outputId": "a3e6bf53-beda-47ec-b6d4-ab71cb8312d2"
      },
      "execution_count": 17,
      "outputs": [
        {
          "output_type": "stream",
          "name": "stdout",
          "text": [
            "CONFUSION MATRIX:\n",
            "[[82 35 25  8  2  9]\n",
            " [44 54 39 15  4  8]\n",
            " [28 38 38 23 16 17]\n",
            " [ 7 20 27 40 28 22]\n",
            " [10 19 33 36 40 35]\n",
            " [12 12 28 38 32 36]]\n",
            "ACCURACY SCORE:\n",
            "0.3021\n",
            "CLASSIFICATION REPORT:\n",
            "\tPrecision: 0.3021\n",
            "\tRecall: 0.3022\n",
            "\tF1_Score: 0.2994\n"
          ]
        }
      ]
    },
    {
      "cell_type": "code",
      "source": [
        "predictions_dtc = pipe_dtc.predict(X_pred)\n",
        "\n",
        "predictions_dtc = pd.DataFrame(predictions_dtc,columns=['difficulty'])\n",
        "\n",
        "predictions_dtc.to_csv(\"DecisionTreeClassifier.csv\")"
      ],
      "metadata": {
        "id": "1GtKGXU-XV-0"
      },
      "execution_count": 18,
      "outputs": []
    },
    {
      "cell_type": "markdown",
      "source": [
        "# Random Forest Classifier (without data cleaning)"
      ],
      "metadata": {
        "id": "hHlGKn-dHPlX"
      }
    },
    {
      "cell_type": "code",
      "source": [
        "# Use random forest\n",
        "from sklearn.ensemble import RandomForestClassifier\n",
        "\n",
        "# Define classifier\n",
        "classifier_rfc = RandomForestClassifier()\n",
        "\n",
        "# Create pipeline\n",
        "pipe_rfc = Pipeline([('vectorizer', tfidf),\n",
        "                 ('classifier', classifier_rfc)])\n",
        "\n",
        "# Fit model on training set\n",
        "pipe_rfc.fit(X_train, y_train)\n",
        "\n",
        "# Predictions\n",
        "y_pred_rfc = pipe_rfc.predict(X_test)\n",
        "\n",
        "evaluate(y_test, y_pred_rfc)"
      ],
      "metadata": {
        "colab": {
          "base_uri": "https://localhost:8080/"
        },
        "id": "h1MvDvZyIKIu",
        "outputId": "c6b15a0f-a7fc-4b94-8d1e-5670c8703bea"
      },
      "execution_count": 19,
      "outputs": [
        {
          "output_type": "stream",
          "name": "stdout",
          "text": [
            "CONFUSION MATRIX:\n",
            "[[121  22  11   4   2   1]\n",
            " [ 82  51  18  11   2   0]\n",
            " [ 35  39  54  18   7   7]\n",
            " [ 18  11  13  65  24  13]\n",
            " [ 12  10  29  52  47  23]\n",
            " [ 15  10  17  32  23  61]]\n",
            "ACCURACY SCORE:\n",
            "0.4156\n",
            "CLASSIFICATION REPORT:\n",
            "\tPrecision: 0.4250\n",
            "\tRecall: 0.4182\n",
            "\tF1_Score: 0.4059\n"
          ]
        }
      ]
    },
    {
      "cell_type": "code",
      "source": [
        "predictions_rfc = pipe_rfc.predict(X_pred)\n",
        "\n",
        "predictions_rfc = pd.DataFrame(predictions_rfc,columns=['difficulty'])\n",
        "\n",
        "predictions_rfc.to_csv(\"RandomForestClassifier.csv\")"
      ],
      "metadata": {
        "id": "oDVzIs9jXetS"
      },
      "execution_count": 20,
      "outputs": []
    },
    {
      "cell_type": "markdown",
      "source": [
        "# Classification using Doc2Vec and Logistic Regression [test]\n",
        "\n",
        "**/!\\ IL FAUT CLEAN CETTE SECTION, C'est des tests\n",
        "\n",
        "https://towardsdatascience.com/multi-class-text-classification-with-doc2vec-logistic-regression-9da9947b43f4"
      ],
      "metadata": {
        "id": "IDiS-udG9Xv5"
      }
    },
    {
      "cell_type": "code",
      "source": [
        "import pandas as pd\n",
        "import numpy as np\n",
        "from tqdm import tqdm\n",
        "tqdm.pandas(desc=\"progress-bar\")\n",
        "from gensim.models import Doc2Vec\n",
        "from sklearn import utils\n",
        "from sklearn.model_selection import train_test_split\n",
        "import gensim\n",
        "from sklearn.linear_model import LogisticRegression\n",
        "from gensim.models.doc2vec import TaggedDocument\n",
        "import re\n",
        "import seaborn as sns\n",
        "import matplotlib.pyplot as plt"
      ],
      "metadata": {
        "id": "xv-26S_YB3oN"
      },
      "execution_count": 48,
      "outputs": []
    },
    {
      "cell_type": "code",
      "source": [
        "df.head()"
      ],
      "metadata": {
        "id": "EHjlB2_AB_3R",
        "outputId": "f32c7bd9-2df5-4a02-ce64-7b510eaab168",
        "colab": {
          "base_uri": "https://localhost:8080/",
          "height": 206
        }
      },
      "execution_count": 49,
      "outputs": [
        {
          "output_type": "execute_result",
          "data": {
            "text/plain": [
              "   id                                           sentence difficulty\n",
              "0   0  Les coûts kilométriques réels peuvent diverger...         C1\n",
              "1   1  Le bleu, c'est ma couleur préférée mais je n'a...         A1\n",
              "2   2  Le test de niveau en français est sur le site ...         A1\n",
              "3   3           Est-ce que ton mari est aussi de Boston?         A1\n",
              "4   4  Dans les écoles de commerce, dans les couloirs...         B1"
            ],
            "text/html": [
              "\n",
              "  <div id=\"df-2fe277f5-f18b-487a-8afb-df2309227ef3\">\n",
              "    <div class=\"colab-df-container\">\n",
              "      <div>\n",
              "<style scoped>\n",
              "    .dataframe tbody tr th:only-of-type {\n",
              "        vertical-align: middle;\n",
              "    }\n",
              "\n",
              "    .dataframe tbody tr th {\n",
              "        vertical-align: top;\n",
              "    }\n",
              "\n",
              "    .dataframe thead th {\n",
              "        text-align: right;\n",
              "    }\n",
              "</style>\n",
              "<table border=\"1\" class=\"dataframe\">\n",
              "  <thead>\n",
              "    <tr style=\"text-align: right;\">\n",
              "      <th></th>\n",
              "      <th>id</th>\n",
              "      <th>sentence</th>\n",
              "      <th>difficulty</th>\n",
              "    </tr>\n",
              "  </thead>\n",
              "  <tbody>\n",
              "    <tr>\n",
              "      <th>0</th>\n",
              "      <td>0</td>\n",
              "      <td>Les coûts kilométriques réels peuvent diverger...</td>\n",
              "      <td>C1</td>\n",
              "    </tr>\n",
              "    <tr>\n",
              "      <th>1</th>\n",
              "      <td>1</td>\n",
              "      <td>Le bleu, c'est ma couleur préférée mais je n'a...</td>\n",
              "      <td>A1</td>\n",
              "    </tr>\n",
              "    <tr>\n",
              "      <th>2</th>\n",
              "      <td>2</td>\n",
              "      <td>Le test de niveau en français est sur le site ...</td>\n",
              "      <td>A1</td>\n",
              "    </tr>\n",
              "    <tr>\n",
              "      <th>3</th>\n",
              "      <td>3</td>\n",
              "      <td>Est-ce que ton mari est aussi de Boston?</td>\n",
              "      <td>A1</td>\n",
              "    </tr>\n",
              "    <tr>\n",
              "      <th>4</th>\n",
              "      <td>4</td>\n",
              "      <td>Dans les écoles de commerce, dans les couloirs...</td>\n",
              "      <td>B1</td>\n",
              "    </tr>\n",
              "  </tbody>\n",
              "</table>\n",
              "</div>\n",
              "      <button class=\"colab-df-convert\" onclick=\"convertToInteractive('df-2fe277f5-f18b-487a-8afb-df2309227ef3')\"\n",
              "              title=\"Convert this dataframe to an interactive table.\"\n",
              "              style=\"display:none;\">\n",
              "        \n",
              "  <svg xmlns=\"http://www.w3.org/2000/svg\" height=\"24px\"viewBox=\"0 0 24 24\"\n",
              "       width=\"24px\">\n",
              "    <path d=\"M0 0h24v24H0V0z\" fill=\"none\"/>\n",
              "    <path d=\"M18.56 5.44l.94 2.06.94-2.06 2.06-.94-2.06-.94-.94-2.06-.94 2.06-2.06.94zm-11 1L8.5 8.5l.94-2.06 2.06-.94-2.06-.94L8.5 2.5l-.94 2.06-2.06.94zm10 10l.94 2.06.94-2.06 2.06-.94-2.06-.94-.94-2.06-.94 2.06-2.06.94z\"/><path d=\"M17.41 7.96l-1.37-1.37c-.4-.4-.92-.59-1.43-.59-.52 0-1.04.2-1.43.59L10.3 9.45l-7.72 7.72c-.78.78-.78 2.05 0 2.83L4 21.41c.39.39.9.59 1.41.59.51 0 1.02-.2 1.41-.59l7.78-7.78 2.81-2.81c.8-.78.8-2.07 0-2.86zM5.41 20L4 18.59l7.72-7.72 1.47 1.35L5.41 20z\"/>\n",
              "  </svg>\n",
              "      </button>\n",
              "      \n",
              "  <style>\n",
              "    .colab-df-container {\n",
              "      display:flex;\n",
              "      flex-wrap:wrap;\n",
              "      gap: 12px;\n",
              "    }\n",
              "\n",
              "    .colab-df-convert {\n",
              "      background-color: #E8F0FE;\n",
              "      border: none;\n",
              "      border-radius: 50%;\n",
              "      cursor: pointer;\n",
              "      display: none;\n",
              "      fill: #1967D2;\n",
              "      height: 32px;\n",
              "      padding: 0 0 0 0;\n",
              "      width: 32px;\n",
              "    }\n",
              "\n",
              "    .colab-df-convert:hover {\n",
              "      background-color: #E2EBFA;\n",
              "      box-shadow: 0px 1px 2px rgba(60, 64, 67, 0.3), 0px 1px 3px 1px rgba(60, 64, 67, 0.15);\n",
              "      fill: #174EA6;\n",
              "    }\n",
              "\n",
              "    [theme=dark] .colab-df-convert {\n",
              "      background-color: #3B4455;\n",
              "      fill: #D2E3FC;\n",
              "    }\n",
              "\n",
              "    [theme=dark] .colab-df-convert:hover {\n",
              "      background-color: #434B5C;\n",
              "      box-shadow: 0px 1px 3px 1px rgba(0, 0, 0, 0.15);\n",
              "      filter: drop-shadow(0px 1px 2px rgba(0, 0, 0, 0.3));\n",
              "      fill: #FFFFFF;\n",
              "    }\n",
              "  </style>\n",
              "\n",
              "      <script>\n",
              "        const buttonEl =\n",
              "          document.querySelector('#df-2fe277f5-f18b-487a-8afb-df2309227ef3 button.colab-df-convert');\n",
              "        buttonEl.style.display =\n",
              "          google.colab.kernel.accessAllowed ? 'block' : 'none';\n",
              "\n",
              "        async function convertToInteractive(key) {\n",
              "          const element = document.querySelector('#df-2fe277f5-f18b-487a-8afb-df2309227ef3');\n",
              "          const dataTable =\n",
              "            await google.colab.kernel.invokeFunction('convertToInteractive',\n",
              "                                                     [key], {});\n",
              "          if (!dataTable) return;\n",
              "\n",
              "          const docLinkHtml = 'Like what you see? Visit the ' +\n",
              "            '<a target=\"_blank\" href=https://colab.research.google.com/notebooks/data_table.ipynb>data table notebook</a>'\n",
              "            + ' to learn more about interactive tables.';\n",
              "          element.innerHTML = '';\n",
              "          dataTable['output_type'] = 'display_data';\n",
              "          await google.colab.output.renderOutput(dataTable, element);\n",
              "          const docLink = document.createElement('div');\n",
              "          docLink.innerHTML = docLinkHtml;\n",
              "          element.appendChild(docLink);\n",
              "        }\n",
              "      </script>\n",
              "    </div>\n",
              "  </div>\n",
              "  "
            ]
          },
          "metadata": {},
          "execution_count": 49
        }
      ]
    },
    {
      "cell_type": "code",
      "source": [
        "cnt_pro = df['difficulty'].value_counts()\n",
        "plt.figure(figsize=(12,4))\n",
        "sns.barplot(cnt_pro.index, cnt_pro.values, alpha=0.8)\n",
        "plt.ylabel('Number of Occurrences', fontsize=12)\n",
        "plt.xlabel('difficulty', fontsize=12)\n",
        "plt.xticks(rotation=90)\n",
        "plt.show();"
      ],
      "metadata": {
        "id": "GGvMdYlxCFj1",
        "outputId": "54cee4ec-6b08-4f8c-cd70-babbb4fce6f0",
        "colab": {
          "base_uri": "https://localhost:8080/",
          "height": 341
        }
      },
      "execution_count": 51,
      "outputs": [
        {
          "output_type": "stream",
          "name": "stderr",
          "text": [
            "/usr/local/lib/python3.8/dist-packages/seaborn/_decorators.py:36: FutureWarning: Pass the following variables as keyword args: x, y. From version 0.12, the only valid positional argument will be `data`, and passing other arguments without an explicit keyword will result in an error or misinterpretation.\n",
            "  warnings.warn(\n"
          ]
        },
        {
          "output_type": "display_data",
          "data": {
            "text/plain": [
              "<Figure size 864x288 with 1 Axes>"
            ],
            "image/png": "[encoded data removed]"
          },
          "metadata": {
            "needs_background": "light"
          }
        }
      ]
    },
    {
      "cell_type": "code",
      "source": [
        "from bs4 import BeautifulSoup\n",
        "def cleanText(text):\n",
        "    text = BeautifulSoup(text, \"lxml\").text\n",
        "    text = re.sub(r'\\|\\|\\|', r' ', text) \n",
        "    text = re.sub(r'http\\S+', r'<URL>', text)\n",
        "    text = text.lower()\n",
        "    text = text.replace('x', '')\n",
        "    return text\n",
        "df['sentence'] = df['sentence'].apply(cleanText)"
      ],
      "metadata": {
        "id": "c_QS-AHZCMrs"
      },
      "execution_count": 54,
      "outputs": []
    },
    {
      "cell_type": "code",
      "source": [
        "import nltk\n",
        "from nltk.corpus import stopwords\n",
        "nltk.download('punkt')\n"
      ],
      "metadata": {
        "id": "sHja9B1hDNPQ",
        "outputId": "ca55bc1d-3863-4a69-9cae-811f574d8ce3",
        "colab": {
          "base_uri": "https://localhost:8080/"
        }
      },
      "execution_count": 59,
      "outputs": [
        {
          "output_type": "stream",
          "name": "stderr",
          "text": [
            "[nltk_data] Downloading package punkt to /root/nltk_data...\n",
            "[nltk_data]   Unzipping tokenizers/punkt.zip.\n"
          ]
        },
        {
          "output_type": "execute_result",
          "data": {
            "text/plain": [
              "True"
            ]
          },
          "metadata": {},
          "execution_count": 59
        }
      ]
    },
    {
      "cell_type": "code",
      "source": [
        "train, test = train_test_split(df, test_size=0.2, random_state=0)\n",
        "\n",
        "def tokenize_text(text):\n",
        "    tokens = []\n",
        "    for sent in nltk.sent_tokenize(text):\n",
        "        for word in nltk.word_tokenize(sent):\n",
        "            if len(word) < 2:\n",
        "                continue\n",
        "            tokens.append(word.lower())\n",
        "    return tokens\n",
        "\n",
        "train_tagged = train.apply(\n",
        "    lambda r: TaggedDocument(words=tokenize_text(r['sentence']), tags=[r.difficulty]), axis=1)\n",
        "test_tagged = test.apply(\n",
        "    lambda r: TaggedDocument(words=tokenize_text(r['sentence']), tags=[r.difficulty]), axis=1)"
      ],
      "metadata": {
        "id": "S59kHouACkqA"
      },
      "execution_count": 80,
      "outputs": []
    },
    {
      "cell_type": "code",
      "source": [
        "train_tagged.values[30]\n"
      ],
      "metadata": {
        "id": "jQCtu4njDWKq",
        "outputId": "ee3b6d49-3d9d-4c41-f1b6-95f722c72657",
        "colab": {
          "base_uri": "https://localhost:8080/"
        }
      },
      "execution_count": 61,
      "outputs": [
        {
          "output_type": "execute_result",
          "data": {
            "text/plain": [
              "TaggedDocument(words=['je', 'vais', 'revenir', 'avec', 'les', 'enfants', 'la', 'semaine', 'prochaine'], tags=['a1'])"
            ]
          },
          "metadata": {},
          "execution_count": 61
        }
      ]
    },
    {
      "cell_type": "code",
      "source": [
        "xx = pd.DataFrame(X_pred)"
      ],
      "metadata": {
        "id": "85oZW6GoGOLn"
      },
      "execution_count": 87,
      "outputs": []
    },
    {
      "cell_type": "code",
      "source": [
        "test_tagged = test.apply(\n",
        "    lambda r: TaggedDocument(words=tokenize_text(r['sentence']), tags=[r.difficulty]), axis=1)"
      ],
      "metadata": {
        "id": "fdGpXlLJGnYP"
      },
      "execution_count": 91,
      "outputs": []
    },
    {
      "cell_type": "code",
      "source": [
        "import multiprocessing\n",
        "cores = multiprocessing.cpu_count()"
      ],
      "metadata": {
        "id": "9Xk5yrArDZZX"
      },
      "execution_count": 62,
      "outputs": []
    },
    {
      "cell_type": "code",
      "source": [
        "model_dbow = Doc2Vec(dm=0, vector_size=300, negative=5, hs=0, min_count=2, sample = 0, workers=cores)\n",
        "model_dbow.build_vocab([x for x in tqdm(train_tagged.values)])"
      ],
      "metadata": {
        "id": "ANUkpdR8DdA7",
        "outputId": "0d835ca2-064a-4d41-a480-d268dbbbb52d",
        "colab": {
          "base_uri": "https://localhost:8080/"
        }
      },
      "execution_count": 63,
      "outputs": [
        {
          "output_type": "stream",
          "name": "stderr",
          "text": [
            "100%|██████████| 3840/3840 [00:00<00:00, 934284.32it/s]\n"
          ]
        }
      ]
    },
    {
      "cell_type": "code",
      "source": [
        "%%time\n",
        "for epoch in range(30):\n",
        "    model_dbow.train(utils.shuffle([x for x in tqdm(train_tagged.values)]), total_examples=len(train_tagged.values), epochs=1)\n",
        "    model_dbow.alpha -= 0.002\n",
        "    model_dbow.min_alpha = model_dbow.alpha"
      ],
      "metadata": {
        "id": "v-ABCFzkDiKS",
        "outputId": "c64e635f-ad59-41bf-b81c-ba092f0dfb25",
        "colab": {
          "base_uri": "https://localhost:8080/"
        }
      },
      "execution_count": 64,
      "outputs": [
        {
          "output_type": "stream",
          "name": "stderr",
          "text": [
            "100%|██████████| 3840/3840 [00:00<00:00, 1098120.09it/s]\n",
            "WARNING:gensim.models.base_any2vec:under 10 jobs per worker: consider setting a smaller `batch_words' for smoother alpha decay\n",
            "100%|██████████| 3840/3840 [00:00<00:00, 1525779.40it/s]\n",
            "WARNING:gensim.models.base_any2vec:Effective 'alpha' higher than previous training cycles\n",
            "WARNING:gensim.models.base_any2vec:under 10 jobs per worker: consider setting a smaller `batch_words' for smoother alpha decay\n",
            "100%|██████████| 3840/3840 [00:00<00:00, 1516584.50it/s]\n",
            "WARNING:gensim.models.base_any2vec:under 10 jobs per worker: consider setting a smaller `batch_words' for smoother alpha decay\n",
            "100%|██████████| 3840/3840 [00:00<00:00, 1458624.10it/s]\n",
            "WARNING:gensim.models.base_any2vec:under 10 jobs per worker: consider setting a smaller `batch_words' for smoother alpha decay\n",
            "100%|██████████| 3840/3840 [00:00<00:00, 1427848.17it/s]\n",
            "WARNING:gensim.models.base_any2vec:under 10 jobs per worker: consider setting a smaller `batch_words' for smoother alpha decay\n",
            "100%|██████████| 3840/3840 [00:00<00:00, 1373891.27it/s]\n",
            "WARNING:gensim.models.base_any2vec:under 10 jobs per worker: consider setting a smaller `batch_words' for smoother alpha decay\n",
            "100%|██████████| 3840/3840 [00:00<00:00, 102380.08it/s]\n",
            "WARNING:gensim.models.base_any2vec:under 10 jobs per worker: consider setting a smaller `batch_words' for smoother alpha decay\n",
            "100%|██████████| 3840/3840 [00:00<00:00, 2365417.44it/s]\n",
            "WARNING:gensim.models.base_any2vec:under 10 jobs per worker: consider setting a smaller `batch_words' for smoother alpha decay\n",
            "100%|██████████| 3840/3840 [00:00<00:00, 2030525.39it/s]\n",
            "WARNING:gensim.models.base_any2vec:under 10 jobs per worker: consider setting a smaller `batch_words' for smoother alpha decay\n",
            "100%|██████████| 3840/3840 [00:00<00:00, 1791759.64it/s]\n",
            "WARNING:gensim.models.base_any2vec:under 10 jobs per worker: consider setting a smaller `batch_words' for smoother alpha decay\n",
            "100%|██████████| 3840/3840 [00:00<00:00, 2454828.13it/s]\n",
            "WARNING:gensim.models.base_any2vec:under 10 jobs per worker: consider setting a smaller `batch_words' for smoother alpha decay\n",
            "100%|██████████| 3840/3840 [00:00<00:00, 1808864.26it/s]\n",
            "WARNING:gensim.models.base_any2vec:under 10 jobs per worker: consider setting a smaller `batch_words' for smoother alpha decay\n",
            "100%|██████████| 3840/3840 [00:00<00:00, 2198188.53it/s]\n",
            "WARNING:gensim.models.base_any2vec:under 10 jobs per worker: consider setting a smaller `batch_words' for smoother alpha decay\n",
            "100%|██████████| 3840/3840 [00:00<00:00, 2287477.26it/s]\n",
            "WARNING:gensim.models.base_any2vec:under 10 jobs per worker: consider setting a smaller `batch_words' for smoother alpha decay\n",
            "100%|██████████| 3840/3840 [00:00<00:00, 1516298.94it/s]\n",
            "WARNING:gensim.models.base_any2vec:under 10 jobs per worker: consider setting a smaller `batch_words' for smoother alpha decay\n",
            "100%|██████████| 3840/3840 [00:00<00:00, 1689512.99it/s]\n",
            "WARNING:gensim.models.base_any2vec:under 10 jobs per worker: consider setting a smaller `batch_words' for smoother alpha decay\n",
            "100%|██████████| 3840/3840 [00:00<00:00, 2342368.73it/s]\n",
            "WARNING:gensim.models.base_any2vec:under 10 jobs per worker: consider setting a smaller `batch_words' for smoother alpha decay\n",
            "100%|██████████| 3840/3840 [00:00<00:00, 2382563.22it/s]\n",
            "WARNING:gensim.models.base_any2vec:under 10 jobs per worker: consider setting a smaller `batch_words' for smoother alpha decay\n",
            "100%|██████████| 3840/3840 [00:00<00:00, 2384326.77it/s]\n",
            "WARNING:gensim.models.base_any2vec:under 10 jobs per worker: consider setting a smaller `batch_words' for smoother alpha decay\n",
            "100%|██████████| 3840/3840 [00:00<00:00, 2482831.41it/s]\n",
            "WARNING:gensim.models.base_any2vec:under 10 jobs per worker: consider setting a smaller `batch_words' for smoother alpha decay\n",
            "100%|██████████| 3840/3840 [00:00<00:00, 1450741.07it/s]\n",
            "WARNING:gensim.models.base_any2vec:under 10 jobs per worker: consider setting a smaller `batch_words' for smoother alpha decay\n",
            "100%|██████████| 3840/3840 [00:00<00:00, 1196947.63it/s]\n",
            "WARNING:gensim.models.base_any2vec:under 10 jobs per worker: consider setting a smaller `batch_words' for smoother alpha decay\n",
            "100%|██████████| 3840/3840 [00:00<00:00, 1872370.07it/s]\n",
            "WARNING:gensim.models.base_any2vec:under 10 jobs per worker: consider setting a smaller `batch_words' for smoother alpha decay\n",
            "100%|██████████| 3840/3840 [00:00<00:00, 1768932.16it/s]\n",
            "WARNING:gensim.models.base_any2vec:under 10 jobs per worker: consider setting a smaller `batch_words' for smoother alpha decay\n",
            "100%|██████████| 3840/3840 [00:00<00:00, 2297920.87it/s]\n",
            "WARNING:gensim.models.base_any2vec:under 10 jobs per worker: consider setting a smaller `batch_words' for smoother alpha decay\n",
            "100%|██████████| 3840/3840 [00:00<00:00, 2275198.10it/s]\n",
            "WARNING:gensim.models.base_any2vec:under 10 jobs per worker: consider setting a smaller `batch_words' for smoother alpha decay\n",
            "100%|██████████| 3840/3840 [00:00<00:00, 2410375.24it/s]\n",
            "WARNING:gensim.models.base_any2vec:under 10 jobs per worker: consider setting a smaller `batch_words' for smoother alpha decay\n",
            "100%|██████████| 3840/3840 [00:00<00:00, 1589786.53it/s]\n",
            "WARNING:gensim.models.base_any2vec:under 10 jobs per worker: consider setting a smaller `batch_words' for smoother alpha decay\n",
            "100%|██████████| 3840/3840 [00:00<00:00, 1526213.15it/s]\n",
            "WARNING:gensim.models.base_any2vec:under 10 jobs per worker: consider setting a smaller `batch_words' for smoother alpha decay\n",
            "100%|██████████| 3840/3840 [00:00<00:00, 1492413.58it/s]\n",
            "WARNING:gensim.models.base_any2vec:under 10 jobs per worker: consider setting a smaller `batch_words' for smoother alpha decay\n"
          ]
        },
        {
          "output_type": "stream",
          "name": "stdout",
          "text": [
            "CPU times: user 9.62 s, sys: 1 s, total: 10.6 s\n",
            "Wall time: 8.6 s\n"
          ]
        }
      ]
    },
    {
      "cell_type": "code",
      "source": [
        "def vec_for_learning(model, tagged_docs):\n",
        "    sents = tagged_docs.values\n",
        "    targets, regressors = zip(*[(doc.tags[0], model.infer_vector(doc.words, steps=20)) for doc in sents])\n",
        "    return targets, regressors\n"
      ],
      "metadata": {
        "id": "4wjUk3dsDm4t"
      },
      "execution_count": 73,
      "outputs": []
    },
    {
      "cell_type": "code",
      "source": [
        "y_train, X_train = vec_for_learning(model_dbow, train_tagged)\n",
        "y_test, X_test = vec_for_learning(model_dbow, test_tagged)\n",
        "logreg = LogisticRegression(n_jobs=1, C=1e5)\n",
        "logreg.fit(X_train, y_train)\n",
        "y_pred = logreg.predict(X_test)\n"
      ],
      "metadata": {
        "id": "hbdQ1KNIFHBG",
        "outputId": "7afc78f4-0e2c-4164-e10b-b5a98865619b",
        "colab": {
          "base_uri": "https://localhost:8080/"
        }
      },
      "execution_count": 96,
      "outputs": [
        {
          "output_type": "stream",
          "name": "stderr",
          "text": [
            "/usr/local/lib/python3.8/dist-packages/sklearn/linear_model/_logistic.py:814: ConvergenceWarning: lbfgs failed to converge (status=1):\n",
            "STOP: TOTAL NO. of ITERATIONS REACHED LIMIT.\n",
            "\n",
            "Increase the number of iterations (max_iter) or scale the data as shown in:\n",
            "    https://scikit-learn.org/stable/modules/preprocessing.html\n",
            "Please also refer to the documentation for alternative solver options:\n",
            "    https://scikit-learn.org/stable/modules/linear_model.html#logistic-regression\n",
            "  n_iter_i = _check_optimize_result(\n"
          ]
        }
      ]
    },
    {
      "cell_type": "code",
      "source": [
        "y_pred"
      ],
      "metadata": {
        "id": "NFwnleUHHY-i",
        "outputId": "a6ffc806-c109-47cf-c0e2-01b007073895",
        "colab": {
          "base_uri": "https://localhost:8080/"
        }
      },
      "execution_count": 97,
      "outputs": [
        {
          "output_type": "execute_result",
          "data": {
            "text/plain": [
              "array(['c2', 'c1', 'b1', 'c2', 'a1', 'a1', 'a2', 'b1', 'a2', 'a1', 'a1',\n",
              "       'a1', 'c1', 'a2', 'a1', 'a2', 'c1', 'b2', 'a2', 'a1', 'b1', 'b1',\n",
              "       'a2', 'c2', 'b2', 'b2', 'b2', 'b2', 'c1', 'c2', 'b2', 'b1', 'b2',\n",
              "       'a2', 'a1', 'b1', 'c2', 'a2', 'b2', 'a1', 'b2', 'a2', 'b1', 'a1',\n",
              "       'c2', 'b1', 'b1', 'c1', 'c1', 'c2', 'c2', 'a2', 'b2', 'a1', 'c2',\n",
              "       'c1', 'b2', 'a2', 'c2', 'c2', 'a2', 'c2', 'c1', 'b1', 'b2', 'a2',\n",
              "       'b1', 'b2', 'c1', 'a1', 'c2', 'a1', 'c2', 'c1', 'a1', 'b2', 'b2',\n",
              "       'c1', 'b2', 'b2', 'b1', 'a1', 'c2', 'b1', 'b2', 'c1', 'a2', 'b1',\n",
              "       'a1', 'a2', 'c2', 'b2', 'c2', 'c2', 'a2', 'b2', 'c1', 'b2', 'a1',\n",
              "       'c2', 'c1', 'b1', 'c2', 'b1', 'a1', 'a1', 'a1', 'a1', 'c2', 'c1',\n",
              "       'b2', 'c2', 'a1', 'a1', 'b2', 'b2', 'a2', 'c2', 'c1', 'a2', 'b1',\n",
              "       'c2', 'a1', 'a1', 'a1', 'c2', 'c1', 'a1', 'b1', 'b1', 'a1', 'b2',\n",
              "       'a1', 'a1', 'b1', 'a1', 'a2', 'b2', 'a2', 'c2', 'c2', 'b2', 'b2',\n",
              "       'c1', 'c2', 'b1', 'c2', 'b2', 'a1', 'c2', 'a1', 'c2', 'b2', 'c1',\n",
              "       'c2', 'c2', 'a1', 'a2', 'a1', 'c2', 'c2', 'b2', 'b1', 'a1', 'b1',\n",
              "       'a2', 'a1', 'a1', 'c2', 'b2', 'c2', 'c1', 'c2', 'c2', 'c2', 'c1',\n",
              "       'b2', 'c2', 'b1', 'a1', 'b2', 'a2', 'a2', 'c2', 'a2', 'c2', 'c1',\n",
              "       'b1', 'a2', 'b1', 'a1', 'c2', 'b2', 'a1', 'a1', 'c2', 'c1', 'a1',\n",
              "       'c2', 'b2', 'b2', 'a1', 'b1', 'b1', 'b1', 'b1', 'c1', 'c2', 'c2',\n",
              "       'c1', 'c1', 'c1', 'c1', 'c2', 'b1', 'a2', 'a2', 'b2', 'b1', 'a1',\n",
              "       'b1', 'a2', 'a2', 'b1', 'b2', 'a2', 'b2', 'c2', 'c2', 'c1', 'a2',\n",
              "       'c1', 'c2', 'c1', 'b2', 'c2', 'b2', 'b2', 'b1', 'b1', 'a1', 'a1',\n",
              "       'a1', 'a2', 'c2', 'a2', 'b1', 'b1', 'c2', 'c2', 'a2', 'a2', 'a2',\n",
              "       'b2', 'a1', 'a2', 'b1', 'c1', 'b1', 'b1', 'a1', 'b1', 'a1', 'b1',\n",
              "       'c2', 'c1', 'b2', 'c2', 'b2', 'b1', 'b2', 'a2', 'b1', 'b2', 'b1',\n",
              "       'a2', 'c1', 'c2', 'b1', 'b1', 'b2', 'c2', 'a2', 'a1', 'b2', 'b1',\n",
              "       'b1', 'a2', 'a2', 'b1', 'a2', 'b2', 'a2', 'b2', 'b2', 'a1', 'c1',\n",
              "       'c2', 'a1', 'a1', 'c1', 'b1', 'c2', 'c1', 'a2', 'a2', 'a2', 'b1',\n",
              "       'a1', 'c1', 'b1', 'a1', 'a2', 'b1', 'b1', 'c2', 'c2', 'c2', 'a2',\n",
              "       'b1', 'c2', 'a2', 'b1', 'c1', 'b2', 'c2', 'a1', 'c1', 'b1', 'c2',\n",
              "       'c2', 'b2', 'b2', 'b2', 'b1', 'b1', 'a2', 'c2', 'c2', 'c1', 'a1',\n",
              "       'c2', 'b2', 'a2', 'b2', 'c2', 'c2', 'c2', 'b2', 'c2', 'a2', 'c1',\n",
              "       'b2', 'a1', 'b1', 'b2', 'c1', 'c2', 'c1', 'a2', 'a1', 'c1', 'b1',\n",
              "       'a2', 'b2', 'a1', 'b2', 'c1', 'a1', 'b2', 'b1', 'c2', 'b1', 'c2',\n",
              "       'c1', 'b1', 'c2', 'b2', 'c2', 'a1', 'b1', 'c2', 'b2', 'c2', 'c2',\n",
              "       'a1', 'a2', 'c1', 'b1', 'b2', 'c1', 'c2', 'a1', 'a1', 'a2', 'c2',\n",
              "       'a1', 'b1', 'a2', 'a2', 'c2', 'c1', 'a2', 'b1', 'c2', 'c2', 'b1',\n",
              "       'c2', 'c2', 'b1', 'c1', 'a2', 'c1', 'c1', 'b1', 'c2', 'b1', 'a2',\n",
              "       'c2', 'b1', 'a2', 'c2', 'b2', 'a2', 'a1', 'a2', 'a1', 'b2', 'b2',\n",
              "       'a1', 'b2', 'b2', 'c2', 'b1', 'c2', 'c2', 'b2', 'c2', 'c1', 'c1',\n",
              "       'c2', 'b1', 'b1', 'a2', 'a2', 'b2', 'b1', 'b1', 'b2', 'b1', 'a2',\n",
              "       'a2', 'c1', 'b1', 'c2', 'b1', 'a2', 'c1', 'a1', 'c1', 'b2', 'b2',\n",
              "       'b2', 'a2', 'a2', 'c1', 'b1', 'c2', 'c2', 'c2', 'c2', 'a1', 'a1',\n",
              "       'c1', 'a1', 'c1', 'b2', 'c2', 'b2', 'c2', 'c2', 'c2', 'a2', 'c2',\n",
              "       'a1', 'a2', 'a1', 'b1', 'a2', 'c2', 'b1', 'a2', 'b1', 'c2', 'b1',\n",
              "       'a1', 'b2', 'b1', 'c2', 'c2', 'b2', 'c2', 'c1', 'c2', 'c1', 'a1',\n",
              "       'a1', 'a1', 'c2', 'c2', 'b2', 'c2', 'b1', 'c2', 'a2', 'a2', 'a1',\n",
              "       'b1', 'a2', 'c2', 'a2', 'b2', 'b2', 'b2', 'c2', 'c2', 'c2', 'b2',\n",
              "       'c2', 'b1', 'b2', 'b2', 'a1', 'b1', 'a2', 'c1', 'a2', 'c2', 'b1',\n",
              "       'b1', 'c2', 'a1', 'b1', 'a1', 'b2', 'a2', 'b2', 'b2', 'a1', 'c2',\n",
              "       'c2', 'c2', 'a1', 'c2', 'c2', 'c2', 'a1', 'b1', 'b1', 'a1', 'c2',\n",
              "       'a2', 'c2', 'a1', 'c2', 'a1', 'a1', 'c2', 'c1', 'c2', 'b2', 'b1',\n",
              "       'a1', 'c1', 'b1', 'b2', 'c1', 'c2', 'a1', 'a2', 'c1', 'b2', 'b1',\n",
              "       'b1', 'a1', 'b2', 'a2', 'b1', 'a2', 'c2', 'a2', 'b2', 'c2', 'a2',\n",
              "       'c1', 'a2', 'b1', 'a1', 'a2', 'c1', 'b1', 'a2', 'b2', 'c2', 'b1',\n",
              "       'c2', 'a1', 'c2', 'c1', 'b1', 'a1', 'a2', 'a2', 'b2', 'a1', 'b2',\n",
              "       'a2', 'a1', 'c1', 'a1', 'b1', 'c1', 'b1', 'c1', 'b1', 'b1', 'b1',\n",
              "       'b1', 'a2', 'b1', 'a2', 'b2', 'a2', 'c1', 'b2', 'c2', 'a1', 'b1',\n",
              "       'a1', 'a1', 'b2', 'a2', 'b1', 'b1', 'a2', 'c2', 'c1', 'a2', 'b2',\n",
              "       'b2', 'b2', 'c2', 'b1', 'b2', 'c2', 'a2', 'b1', 'a2', 'c2', 'a2',\n",
              "       'b1', 'c1', 'c2', 'c2', 'c1', 'c1', 'a1', 'a1', 'b2', 'a1', 'b2',\n",
              "       'c2', 'a1', 'a1', 'c1', 'b2', 'a1', 'b2', 'c1', 'a1', 'c1', 'c1',\n",
              "       'b1', 'a1', 'c2', 'c1', 'c1', 'c2', 'c1', 'a2', 'b1', 'a2', 'b1',\n",
              "       'a2', 'a2', 'b2', 'a1', 'b1', 'c1', 'a2', 'a2', 'b2', 'a1', 'a1',\n",
              "       'c2', 'b1', 'b1', 'b2', 'a2', 'b2', 'c2', 'a2', 'a2', 'c1', 'b1',\n",
              "       'a1', 'c1', 'a1', 'b1', 'a2', 'c1', 'a1', 'a1', 'a1', 'b1', 'b1',\n",
              "       'b1', 'a1', 'b1', 'a1', 'a1', 'b1', 'c1', 'a2', 'b1', 'c2', 'b1',\n",
              "       'b1', 'b2', 'b2', 'b1', 'a1', 'b2', 'c2', 'a1', 'c1', 'b1', 'a2',\n",
              "       'c2', 'b2', 'c1', 'b1', 'c2', 'c2', 'b2', 'a1', 'a1', 'b2', 'c1',\n",
              "       'c1', 'c1', 'c2', 'c1', 'a1', 'c1', 'c2', 'c1', 'b2', 'b2', 'c1',\n",
              "       'b2', 'a1', 'b2', 'a1', 'b2', 'c1', 'a1', 'b2', 'a2', 'a2', 'c1',\n",
              "       'b2', 'a1', 'a1', 'c2', 'a1', 'c2', 'c2', 'a1', 'c2', 'b1', 'a2',\n",
              "       'b1', 'b1', 'a1', 'c1', 'b2', 'a2', 'c2', 'a1', 'a2', 'b1', 'a1',\n",
              "       'c2', 'a1', 'a1', 'b2', 'a2', 'b2', 'c1', 'b2', 'a2', 'a1', 'a2',\n",
              "       'a2', 'a2', 'c2', 'b2', 'c2', 'c1', 'a2', 'c1', 'c1', 'b1', 'b2',\n",
              "       'b1', 'c2', 'b1', 'b1', 'a1', 'b2', 'a2', 'a1', 'a1', 'b2', 'a1',\n",
              "       'c1', 'b2', 'b2', 'a2', 'c2', 'c1', 'b1', 'b1', 'a2', 'c1', 'c1',\n",
              "       'b2', 'c2', 'a1', 'c2', 'a2', 'c1', 'c1', 'c2', 'b1', 'b2', 'b1',\n",
              "       'c2', 'b1', 'c1', 'c1', 'a1', 'a1', 'a2', 'a2', 'a1', 'b2', 'a2',\n",
              "       'a2', 'b2', 'c2', 'b2', 'b1', 'c1', 'c2', 'b1', 'b1', 'c2', 'b2',\n",
              "       'a1', 'a2', 'a2', 'b2', 'c2', 'c2', 'b2', 'b1', 'a2', 'c2', 'a2',\n",
              "       'b1', 'a1', 'a1', 'b1', 'a2', 'c1', 'c2', 'a1', 'a2', 'a2', 'b2',\n",
              "       'b1', 'b1', 'b2', 'a1', 'b1', 'a2', 'c1', 'a2', 'b2', 'c1', 'b1',\n",
              "       'c2', 'b1', 'c2', 'c1', 'c2', 'a2', 'b1', 'c2', 'b2', 'c1', 'c1',\n",
              "       'b1', 'a2', 'b2', 'c1', 'a2', 'b2', 'a2', 'a1', 'c1', 'a2', 'b2',\n",
              "       'c1', 'b2', 'c2', 'a1', 'b2', 'b2', 'b1', 'b1', 'b1', 'c1', 'a2',\n",
              "       'b1', 'a2', 'c2', 'b2', 'c2', 'c2', 'a2', 'c2', 'a1', 'a1', 'a2',\n",
              "       'a2', 'c2', 'b1'], dtype='<U2')"
            ]
          },
          "metadata": {},
          "execution_count": 97
        }
      ]
    },
    {
      "cell_type": "code",
      "source": [
        "predictions_rfc.to_csv(\"Doc2Vec_AndLogisticRegression.csv\")"
      ],
      "metadata": {
        "id": "UCNZIhTDHeWC"
      },
      "execution_count": 98,
      "outputs": []
    }
  ]
}