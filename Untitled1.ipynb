{
 "nbformat": 4,
 "nbformat_minor": 0,
 "metadata": {
  "colab": {
   "provenance": [],
   "collapsed_sections": [
    "ZeiZbStsLZ-A"
   ]
  },
  "kernelspec": {
   "name": "python3",
   "display_name": "Python 3"
  },
  "language_info": {
   "name": "python"
  }
 },
 "cells": [
  {
   "cell_type": "markdown",
   "source": [
    "#PREP METHODES"
   ],
   "metadata": {
    "id": "flfnuY7DLUsl"
   }
  },
  {
   "cell_type": "code",
   "source": [
    "!python3.7 -m spacy download fr_core_news_sm"
   ],
   "metadata": {
    "id": "N8Q_RHNHLCo2"
   },
   "execution_count": 14,
   "outputs": [
    {
     "name": "stdout",
     "output_type": "stream",
     "text": [
      "Collecting fr-core-news-sm==3.4.0 from https://github.com/explosion/spacy-models/releases/download/fr_core_news_sm-3.4.0/fr_core_news_sm-3.4.0-py3-none-any.whl\r\n",
      "\u001B[?25l  Downloading https://github.com/explosion/spacy-models/releases/download/fr_core_news_sm-3.4.0/fr_core_news_sm-3.4.0-py3-none-any.whl (16.3MB)\r\n",
      "\u001B[K    100% |████████████████████████████████| 16.3MB 565kB/s eta 0:00:01   47% |███████████████▎                | 7.8MB 6.7MB/s eta 0:00:02    62% |████████████████████▏           | 10.2MB 12.0MB/s eta 0:00:01\r\n",
      "\u001B[?25hRequirement already satisfied: spacy<3.5.0,>=3.4.0 in /Library/Frameworks/Python.framework/Versions/3.7/lib/python3.7/site-packages (from fr-core-news-sm==3.4.0) (3.4.3)\r\n",
      "Requirement already satisfied: numpy>=1.15.0 in /Library/Frameworks/Python.framework/Versions/3.7/lib/python3.7/site-packages (from spacy<3.5.0,>=3.4.0->fr-core-news-sm==3.4.0) (1.21.6)\r\n",
      "Requirement already satisfied: typer<0.8.0,>=0.3.0 in /Library/Frameworks/Python.framework/Versions/3.7/lib/python3.7/site-packages (from spacy<3.5.0,>=3.4.0->fr-core-news-sm==3.4.0) (0.7.0)\r\n",
      "Requirement already satisfied: typing-extensions<4.2.0,>=3.7.4; python_version < \"3.8\" in /Library/Frameworks/Python.framework/Versions/3.7/lib/python3.7/site-packages (from spacy<3.5.0,>=3.4.0->fr-core-news-sm==3.4.0) (4.1.1)\r\n",
      "Requirement already satisfied: pydantic!=1.8,!=1.8.1,<1.11.0,>=1.7.4 in /Library/Frameworks/Python.framework/Versions/3.7/lib/python3.7/site-packages (from spacy<3.5.0,>=3.4.0->fr-core-news-sm==3.4.0) (1.10.2)\r\n",
      "Requirement already satisfied: murmurhash<1.1.0,>=0.28.0 in /Library/Frameworks/Python.framework/Versions/3.7/lib/python3.7/site-packages (from spacy<3.5.0,>=3.4.0->fr-core-news-sm==3.4.0) (1.0.9)\r\n",
      "Requirement already satisfied: setuptools in /Library/Frameworks/Python.framework/Versions/3.7/lib/python3.7/site-packages (from spacy<3.5.0,>=3.4.0->fr-core-news-sm==3.4.0) (65.4.1)\r\n",
      "Requirement already satisfied: pathy>=0.3.5 in /Library/Frameworks/Python.framework/Versions/3.7/lib/python3.7/site-packages (from spacy<3.5.0,>=3.4.0->fr-core-news-sm==3.4.0) (0.10.1)\r\n",
      "Requirement already satisfied: srsly<3.0.0,>=2.4.3 in /Library/Frameworks/Python.framework/Versions/3.7/lib/python3.7/site-packages (from spacy<3.5.0,>=3.4.0->fr-core-news-sm==3.4.0) (2.4.5)\r\n",
      "Requirement already satisfied: packaging>=20.0 in /Library/Frameworks/Python.framework/Versions/3.7/lib/python3.7/site-packages (from spacy<3.5.0,>=3.4.0->fr-core-news-sm==3.4.0) (22.0)\r\n",
      "Requirement already satisfied: spacy-loggers<2.0.0,>=1.0.0 in /Library/Frameworks/Python.framework/Versions/3.7/lib/python3.7/site-packages (from spacy<3.5.0,>=3.4.0->fr-core-news-sm==3.4.0) (1.0.4)\r\n",
      "Requirement already satisfied: wasabi<1.1.0,>=0.9.1 in /Library/Frameworks/Python.framework/Versions/3.7/lib/python3.7/site-packages (from spacy<3.5.0,>=3.4.0->fr-core-news-sm==3.4.0) (0.10.1)\r\n",
      "Requirement already satisfied: tqdm<5.0.0,>=4.38.0 in /Library/Frameworks/Python.framework/Versions/3.7/lib/python3.7/site-packages (from spacy<3.5.0,>=3.4.0->fr-core-news-sm==3.4.0) (4.64.1)\r\n",
      "Requirement already satisfied: jinja2 in /Library/Frameworks/Python.framework/Versions/3.7/lib/python3.7/site-packages (from spacy<3.5.0,>=3.4.0->fr-core-news-sm==3.4.0) (3.1.2)\r\n",
      "Requirement already satisfied: thinc<8.2.0,>=8.1.0 in /Library/Frameworks/Python.framework/Versions/3.7/lib/python3.7/site-packages (from spacy<3.5.0,>=3.4.0->fr-core-news-sm==3.4.0) (8.1.5)\r\n",
      "Requirement already satisfied: preshed<3.1.0,>=3.0.2 in /Library/Frameworks/Python.framework/Versions/3.7/lib/python3.7/site-packages (from spacy<3.5.0,>=3.4.0->fr-core-news-sm==3.4.0) (3.0.8)\r\n",
      "Requirement already satisfied: requests<3.0.0,>=2.13.0 in /Library/Frameworks/Python.framework/Versions/3.7/lib/python3.7/site-packages (from spacy<3.5.0,>=3.4.0->fr-core-news-sm==3.4.0) (2.28.1)\r\n",
      "Requirement already satisfied: catalogue<2.1.0,>=2.0.6 in /Library/Frameworks/Python.framework/Versions/3.7/lib/python3.7/site-packages (from spacy<3.5.0,>=3.4.0->fr-core-news-sm==3.4.0) (2.0.8)\r\n",
      "Requirement already satisfied: spacy-legacy<3.1.0,>=3.0.10 in /Library/Frameworks/Python.framework/Versions/3.7/lib/python3.7/site-packages (from spacy<3.5.0,>=3.4.0->fr-core-news-sm==3.4.0) (3.0.10)\r\n",
      "Requirement already satisfied: langcodes<4.0.0,>=3.2.0 in /Library/Frameworks/Python.framework/Versions/3.7/lib/python3.7/site-packages (from spacy<3.5.0,>=3.4.0->fr-core-news-sm==3.4.0) (3.3.0)\r\n",
      "Requirement already satisfied: cymem<2.1.0,>=2.0.2 in /Library/Frameworks/Python.framework/Versions/3.7/lib/python3.7/site-packages (from spacy<3.5.0,>=3.4.0->fr-core-news-sm==3.4.0) (2.0.7)\r\n",
      "Requirement already satisfied: click<9.0.0,>=7.1.1 in /Library/Frameworks/Python.framework/Versions/3.7/lib/python3.7/site-packages (from typer<0.8.0,>=0.3.0->spacy<3.5.0,>=3.4.0->fr-core-news-sm==3.4.0) (8.1.3)\r\n",
      "Requirement already satisfied: smart-open<7.0.0,>=5.2.1 in /Library/Frameworks/Python.framework/Versions/3.7/lib/python3.7/site-packages (from pathy>=0.3.5->spacy<3.5.0,>=3.4.0->fr-core-news-sm==3.4.0) (6.3.0)\r\n",
      "Requirement already satisfied: MarkupSafe>=2.0 in /Library/Frameworks/Python.framework/Versions/3.7/lib/python3.7/site-packages (from jinja2->spacy<3.5.0,>=3.4.0->fr-core-news-sm==3.4.0) (2.1.1)\r\n",
      "Requirement already satisfied: blis<0.8.0,>=0.7.8 in /Library/Frameworks/Python.framework/Versions/3.7/lib/python3.7/site-packages (from thinc<8.2.0,>=8.1.0->spacy<3.5.0,>=3.4.0->fr-core-news-sm==3.4.0) (0.7.9)\r\n",
      "Requirement already satisfied: confection<1.0.0,>=0.0.1 in /Library/Frameworks/Python.framework/Versions/3.7/lib/python3.7/site-packages (from thinc<8.2.0,>=8.1.0->spacy<3.5.0,>=3.4.0->fr-core-news-sm==3.4.0) (0.0.3)\r\n",
      "Requirement already satisfied: urllib3<1.27,>=1.21.1 in /Library/Frameworks/Python.framework/Versions/3.7/lib/python3.7/site-packages (from requests<3.0.0,>=2.13.0->spacy<3.5.0,>=3.4.0->fr-core-news-sm==3.4.0) (1.26.13)\r\n",
      "Requirement already satisfied: certifi>=2017.4.17 in /Library/Frameworks/Python.framework/Versions/3.7/lib/python3.7/site-packages (from requests<3.0.0,>=2.13.0->spacy<3.5.0,>=3.4.0->fr-core-news-sm==3.4.0) (2019.9.11)\r\n",
      "Requirement already satisfied: charset-normalizer<3,>=2 in /Library/Frameworks/Python.framework/Versions/3.7/lib/python3.7/site-packages (from requests<3.0.0,>=2.13.0->spacy<3.5.0,>=3.4.0->fr-core-news-sm==3.4.0) (2.1.1)\r\n",
      "Requirement already satisfied: idna<4,>=2.5 in /Library/Frameworks/Python.framework/Versions/3.7/lib/python3.7/site-packages (from requests<3.0.0,>=2.13.0->spacy<3.5.0,>=3.4.0->fr-core-news-sm==3.4.0) (3.4)\r\n",
      "Requirement already satisfied: zipp>=0.5; python_version < \"3.8\" in /Library/Frameworks/Python.framework/Versions/3.7/lib/python3.7/site-packages (from catalogue<2.1.0,>=2.0.6->spacy<3.5.0,>=3.4.0->fr-core-news-sm==3.4.0) (3.11.0)\r\n",
      "Requirement already satisfied: importlib-metadata; python_version < \"3.8\" in /Library/Frameworks/Python.framework/Versions/3.7/lib/python3.7/site-packages (from click<9.0.0,>=7.1.1->typer<0.8.0,>=0.3.0->spacy<3.5.0,>=3.4.0->fr-core-news-sm==3.4.0) (5.1.0)\r\n",
      "Installing collected packages: fr-core-news-sm\r\n",
      "Successfully installed fr-core-news-sm-3.4.0\r\n",
      "\u001B[33mYou are using pip version 19.0.3, however version 22.3.1 is available.\r\n",
      "You should consider upgrading via the 'pip install --upgrade pip' command.\u001B[0m\r\n",
      "\u001B[38;5;2m✔ Download and installation successful\u001B[0m\r\n",
      "You can now load the package via spacy.load('fr_core_news_sm')\r\n"
     ]
    }
   ]
  },
  {
   "cell_type": "code",
   "source": [
    "import gensim\n",
    "import pandas as pd\n",
    "import numpy as np\n",
    "from sklearn.feature_extraction.text import CountVectorizer, TfidfVectorizer\n",
    "import bs4 as bs\n",
    "import urllib.request\n",
    "import spacy\n",
    "import string\n",
    "import math\n",
    "from gensim.models import Word2Vec\n",
    "#import matplotlib.pyplot as plt\n",
    "#import seaborn as sns"
   ],
   "metadata": {
    "id": "InqHbrIWK4Nh"
   },
   "execution_count": 11,
   "outputs": []
  },
  {
   "cell_type": "code",
   "execution_count": 15,
   "outputs": [],
   "source": [
    "from collections import Counter\n",
    "import fr_core_news_sm"
   ],
   "metadata": {
    "collapsed": false
   }
  },
  {
   "cell_type": "code",
   "source": [
    "from sklearn.feature_extraction.text import CountVectorizer, TfidfVectorizer\n",
    "from sklearn.linear_model import LogisticRegression, LogisticRegressionCV\n",
    "from sklearn.pipeline import Pipeline\n",
    "from sklearn.model_selection import train_test_split\n",
    "from sklearn.metrics import confusion_matrix, accuracy_score, precision_score, recall_score, f1_score"
   ],
   "metadata": {
    "id": "6ygho_dnPZsE"
   },
   "execution_count": 13,
   "outputs": []
  },
  {
   "cell_type": "code",
   "execution_count": 16,
   "metadata": {
    "id": "evhpvrKjJ8xa"
   },
   "outputs": [],
   "source": [
    "#imports\n",
    "def get_wordTypes(sentence):\n",
    "  sp = spacy.load('fr_core_news_sm')\n",
    "  my_doc = sp(sentence)\n",
    "  mylist = []\n",
    "  for word in my_doc:\n",
    "    mylist.append(word.pos_)\n",
    "\n",
    "  return mylist\n",
    "\n",
    "def add_occurences_collumns(myDf):\n",
    "  for i in range(myDf.shape[0]):\n",
    "    rowIndex = myDf.index[i]\n",
    "    for sentence in myDf.loc[rowIndex]:\n",
    "      if type(sentence)==str:\n",
    "        nbOccurence = Counter(get_wordTypes(sentence))\n",
    "        #print(nbOccurence)\n",
    "        for key in nbOccurence.keys():\n",
    "          myDf.loc[rowIndex, key] = nbOccurence[key]\n",
    "\n",
    "#il faut myDf.fillna(0) après"
   ]
  },
  {
   "cell_type": "code",
   "source": [
    "def get_tfidfs_collumns(myX):\n",
    "  tfidf = TfidfVectorizer(ngram_range=(1, 1))\n",
    "  features = tfidf.fit_transform(myX)\n",
    "  result_df = pd.DataFrame(\n",
    "    features.todense(),\n",
    "    columns=tfidf.get_feature_names()\n",
    "    )\n",
    "  return result_df"
   ],
   "metadata": {
    "id": "K_8_-1zBK1B0"
   },
   "execution_count": 17,
   "outputs": []
  },
  {
   "cell_type": "markdown",
   "source": [
    "#PREP DATA"
   ],
   "metadata": {
    "id": "ZeiZbStsLZ-A"
   }
  },
  {
   "cell_type": "code",
   "source": [
    "df = pd.read_csv('./data/training_data.csv')\n",
    "df_pred = pd.read_csv('./data/unlabelled_test_data.csv')"
   ],
   "metadata": {
    "id": "noq93CbKLdH8"
   },
   "execution_count": 19,
   "outputs": []
  },
  {
   "cell_type": "code",
   "source": [
    "X_pred = df_pred['sentence']\n",
    "X_pred"
   ],
   "metadata": {
    "colab": {
     "base_uri": "https://localhost:8080/"
    },
    "id": "zIUHw1wbLr-T",
    "outputId": "4cd6e81b-b15a-4a11-c191-205c76850387"
   },
   "execution_count": 20,
   "outputs": [
    {
     "data": {
      "text/plain": "0       Nous dûmes nous excuser des propos que nous eû...\n1       Vous ne pouvez pas savoir le plaisir que j'ai ...\n2       Et, paradoxalement, boire froid n'est pas la b...\n3       Ce n'est pas étonnant, car c'est une saison my...\n4       Le corps de Golo lui-même, d'une essence aussi...\n                              ...                        \n1195    C'est un phénomène qui trouve une accélération...\n1196    Je vais parler au serveur et voir si on peut d...\n1197    Il n'était pas comme tant de gens qui par pare...\n1198        Ils deviennent dangereux pour notre économie.\n1199    Son succès a généré beaucoup de réactions néga...\nName: sentence, Length: 1200, dtype: object"
     },
     "execution_count": 20,
     "metadata": {},
     "output_type": "execute_result"
    }
   ]
  },
  {
   "cell_type": "code",
   "source": [
    "y = df['difficulty']\n",
    "X = df['sentence']"
   ],
   "metadata": {
    "id": "HoMhxMBoLgL3"
   },
   "execution_count": 21,
   "outputs": []
  },
  {
   "cell_type": "markdown",
   "source": [
    "#TEST"
   ],
   "metadata": {
    "id": "aYLRfcwRL0T6"
   }
  },
  {
   "cell_type": "code",
   "source": [
    "myX = X[0:6]"
   ],
   "metadata": {
    "id": "LesdQCUdL1qc"
   },
   "execution_count": 41,
   "outputs": []
  },
  {
   "cell_type": "code",
   "source": [
    "def get_df_with_tfidf_and_occurences(mySeries):\n",
    "  myX_occurence = pd.DataFrame(mySeries)\n",
    "  add_occurences_collumns(myX_occurence)\n",
    "  myX_occurence = myX_occurence.fillna(0)\n",
    "  myX_occurence = myX_occurence.drop(['sentence'],axis=1)\n",
    "\n",
    "  myX_tftruc = get_tfidfs_collumns(myX)\n",
    "  myDf_final = pd.concat([myX_tftruc, myX_occurence], axis=1)\n",
    "\n",
    "  return myDf_final"
   ],
   "metadata": {
    "id": "vE3YQJ6eN9oJ"
   },
   "execution_count": 22,
   "outputs": []
  },
  {
   "cell_type": "code",
   "source": [
    "X = get_df_with_tfidf_and_occurences(X)"
   ],
   "metadata": {
    "id": "7rGO5_6COg9L"
   },
   "execution_count": 23,
   "outputs": [
    {
     "ename": "NameError",
     "evalue": "name 'myX' is not defined",
     "output_type": "error",
     "traceback": [
      "\u001B[0;31m---------------------------------------------------------------------------\u001B[0m",
      "\u001B[0;31mNameError\u001B[0m                                 Traceback (most recent call last)",
      "\u001B[0;32m/var/folders/sf/8d377x0x12bgv33424wjp65r0000gn/T/ipykernel_12307/3967890187.py\u001B[0m in \u001B[0;36m<module>\u001B[0;34m\u001B[0m\n\u001B[0;32m----> 1\u001B[0;31m \u001B[0mX\u001B[0m \u001B[0;34m=\u001B[0m \u001B[0mget_df_with_tfidf_and_occurences\u001B[0m\u001B[0;34m(\u001B[0m\u001B[0mX\u001B[0m\u001B[0;34m)\u001B[0m\u001B[0;34m\u001B[0m\u001B[0;34m\u001B[0m\u001B[0m\n\u001B[0m",
      "\u001B[0;32m/var/folders/sf/8d377x0x12bgv33424wjp65r0000gn/T/ipykernel_12307/1224198261.py\u001B[0m in \u001B[0;36mget_df_with_tfidf_and_occurences\u001B[0;34m(mySeries)\u001B[0m\n\u001B[1;32m      5\u001B[0m   \u001B[0mmyX_occurence\u001B[0m \u001B[0;34m=\u001B[0m \u001B[0mmyX_occurence\u001B[0m\u001B[0;34m.\u001B[0m\u001B[0mdrop\u001B[0m\u001B[0;34m(\u001B[0m\u001B[0;34m[\u001B[0m\u001B[0;34m'sentence'\u001B[0m\u001B[0;34m]\u001B[0m\u001B[0;34m,\u001B[0m\u001B[0maxis\u001B[0m\u001B[0;34m=\u001B[0m\u001B[0;36m1\u001B[0m\u001B[0;34m)\u001B[0m\u001B[0;34m\u001B[0m\u001B[0;34m\u001B[0m\u001B[0m\n\u001B[1;32m      6\u001B[0m \u001B[0;34m\u001B[0m\u001B[0m\n\u001B[0;32m----> 7\u001B[0;31m   \u001B[0mmyX_tftruc\u001B[0m \u001B[0;34m=\u001B[0m \u001B[0mget_tfidfs_collumns\u001B[0m\u001B[0;34m(\u001B[0m\u001B[0mmyX\u001B[0m\u001B[0;34m)\u001B[0m\u001B[0;34m\u001B[0m\u001B[0;34m\u001B[0m\u001B[0m\n\u001B[0m\u001B[1;32m      8\u001B[0m   \u001B[0mmyDf_final\u001B[0m \u001B[0;34m=\u001B[0m \u001B[0mpd\u001B[0m\u001B[0;34m.\u001B[0m\u001B[0mconcat\u001B[0m\u001B[0;34m(\u001B[0m\u001B[0;34m[\u001B[0m\u001B[0mmyX_tftruc\u001B[0m\u001B[0;34m,\u001B[0m \u001B[0mmyX_occurence\u001B[0m\u001B[0;34m]\u001B[0m\u001B[0;34m,\u001B[0m \u001B[0maxis\u001B[0m\u001B[0;34m=\u001B[0m\u001B[0;36m1\u001B[0m\u001B[0;34m)\u001B[0m\u001B[0;34m\u001B[0m\u001B[0;34m\u001B[0m\u001B[0m\n\u001B[1;32m      9\u001B[0m \u001B[0;34m\u001B[0m\u001B[0m\n",
      "\u001B[0;31mNameError\u001B[0m: name 'myX' is not defined"
     ]
    }
   ]
  },
  {
   "cell_type": "code",
   "source": [
    "X"
   ],
   "metadata": {
    "id": "dpNEBc5eOsxh"
   },
   "execution_count": null,
   "outputs": []
  },
  {
   "cell_type": "code",
   "source": [
    "X_pred = get_df_with_tfidf_and_occurences(X_pred)"
   ],
   "metadata": {
    "id": "GOAUgc99PSTx"
   },
   "execution_count": null,
   "outputs": []
  },
  {
   "cell_type": "code",
   "source": [
    "X_pred"
   ],
   "metadata": {
    "id": "1WGWbSsKPS1J"
   },
   "execution_count": null,
   "outputs": []
  },
  {
   "cell_type": "markdown",
   "source": [
    "# REGRESSION"
   ],
   "metadata": {
    "id": "042FmSejPKMg"
   }
  },
  {
   "cell_type": "code",
   "source": [
    "classifier = LogisticRegressionCV(solver='lbfgs', cv=5, max_iter=1000, random_state=0)"
   ],
   "metadata": {
    "id": "Pfbkh_2MPM1S"
   },
   "execution_count": null,
   "outputs": []
  }
 ]
}
