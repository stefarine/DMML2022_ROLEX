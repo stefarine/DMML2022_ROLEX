{
  "nbformat": 4,
  "nbformat_minor": 0,
  "metadata": {
    "colab": {
      "provenance": [],
      "toc_visible": true,
      "authorship_tag": "ABX9TyOCz2fR1H21ueozyTyCk/AZ",
      "include_colab_link": true
    },
    "kernelspec": {
      "name": "python3",
      "display_name": "Python 3"
    },
    "language_info": {
      "name": "python"
    },
    "accelerator": "GPU",
    "gpuClass": "standard",
    "widgets": {
      "application/vnd.jupyter.widget-state+json": {
        "d080167c6b834eb1aba98c6dd5a9bc5d": {
          "model_module": "@jupyter-widgets/controls",
          "model_name": "HBoxModel",
          "model_module_version": "1.5.0",
          "state": {
            "_dom_classes": [],
            "_model_module": "@jupyter-widgets/controls",
            "_model_module_version": "1.5.0",
            "_model_name": "HBoxModel",
            "_view_count": null,
            "_view_module": "@jupyter-widgets/controls",
            "_view_module_version": "1.5.0",
            "_view_name": "HBoxView",
            "box_style": "",
            "children": [
              "IPY_MODEL_4fcb12cd5e1e4d7182222bb3d5cd9d3b",
              "IPY_MODEL_a52b5007623e4c10bc92c975f099f94c",
              "IPY_MODEL_0087ff98d4fd4d248de850eef25cf1fd"
            ],
            "layout": "IPY_MODEL_4716abfb627340e5a73dd6441f3f591c"
          }
        },
        "4fcb12cd5e1e4d7182222bb3d5cd9d3b": {
          "model_module": "@jupyter-widgets/controls",
          "model_name": "HTMLModel",
          "model_module_version": "1.5.0",
          "state": {
            "_dom_classes": [],
            "_model_module": "@jupyter-widgets/controls",
            "_model_module_version": "1.5.0",
            "_model_name": "HTMLModel",
            "_view_count": null,
            "_view_module": "@jupyter-widgets/controls",
            "_view_module_version": "1.5.0",
            "_view_name": "HTMLView",
            "description": "",
            "description_tooltip": null,
            "layout": "IPY_MODEL_a2048cd03c944e15b06b9d49231d7c54",
            "placeholder": "​",
            "style": "IPY_MODEL_63577e394a5e4ee2b0e894baa6f73301",
            "value": "Sanity Checking DataLoader 0: 100%"
          }
        },
        "a52b5007623e4c10bc92c975f099f94c": {
          "model_module": "@jupyter-widgets/controls",
          "model_name": "FloatProgressModel",
          "model_module_version": "1.5.0",
          "state": {
            "_dom_classes": [],
            "_model_module": "@jupyter-widgets/controls",
            "_model_module_version": "1.5.0",
            "_model_name": "FloatProgressModel",
            "_view_count": null,
            "_view_module": "@jupyter-widgets/controls",
            "_view_module_version": "1.5.0",
            "_view_name": "ProgressView",
            "bar_style": "",
            "description": "",
            "description_tooltip": null,
            "layout": "IPY_MODEL_d39b0cf361c8439ea7f0c697446f4f61",
            "max": 2,
            "min": 0,
            "orientation": "horizontal",
            "style": "IPY_MODEL_d55bb0a6faf346f6b8321d1be099f5ce",
            "value": 2
          }
        },
        "0087ff98d4fd4d248de850eef25cf1fd": {
          "model_module": "@jupyter-widgets/controls",
          "model_name": "HTMLModel",
          "model_module_version": "1.5.0",
          "state": {
            "_dom_classes": [],
            "_model_module": "@jupyter-widgets/controls",
            "_model_module_version": "1.5.0",
            "_model_name": "HTMLModel",
            "_view_count": null,
            "_view_module": "@jupyter-widgets/controls",
            "_view_module_version": "1.5.0",
            "_view_name": "HTMLView",
            "description": "",
            "description_tooltip": null,
            "layout": "IPY_MODEL_0b6eb6d0f061495ca2672ff2a11a3c5b",
            "placeholder": "​",
            "style": "IPY_MODEL_e6393890f0cd4710a53ec3cd3467b04b",
            "value": " 2/2 [00:00&lt;00:00,  5.12it/s]"
          }
        },
        "4716abfb627340e5a73dd6441f3f591c": {
          "model_module": "@jupyter-widgets/base",
          "model_name": "LayoutModel",
          "model_module_version": "1.2.0",
          "state": {
            "_model_module": "@jupyter-widgets/base",
            "_model_module_version": "1.2.0",
            "_model_name": "LayoutModel",
            "_view_count": null,
            "_view_module": "@jupyter-widgets/base",
            "_view_module_version": "1.2.0",
            "_view_name": "LayoutView",
            "align_content": null,
            "align_items": null,
            "align_self": null,
            "border": null,
            "bottom": null,
            "display": "inline-flex",
            "flex": null,
            "flex_flow": "row wrap",
            "grid_area": null,
            "grid_auto_columns": null,
            "grid_auto_flow": null,
            "grid_auto_rows": null,
            "grid_column": null,
            "grid_gap": null,
            "grid_row": null,
            "grid_template_areas": null,
            "grid_template_columns": null,
            "grid_template_rows": null,
            "height": null,
            "justify_content": null,
            "justify_items": null,
            "left": null,
            "margin": null,
            "max_height": null,
            "max_width": null,
            "min_height": null,
            "min_width": null,
            "object_fit": null,
            "object_position": null,
            "order": null,
            "overflow": null,
            "overflow_x": null,
            "overflow_y": null,
            "padding": null,
            "right": null,
            "top": null,
            "visibility": "hidden",
            "width": "100%"
          }
        },
        "a2048cd03c944e15b06b9d49231d7c54": {
          "model_module": "@jupyter-widgets/base",
          "model_name": "LayoutModel",
          "model_module_version": "1.2.0",
          "state": {
            "_model_module": "@jupyter-widgets/base",
            "_model_module_version": "1.2.0",
            "_model_name": "LayoutModel",
            "_view_count": null,
            "_view_module": "@jupyter-widgets/base",
            "_view_module_version": "1.2.0",
            "_view_name": "LayoutView",
            "align_content": null,
            "align_items": null,
            "align_self": null,
            "border": null,
            "bottom": null,
            "display": null,
            "flex": null,
            "flex_flow": null,
            "grid_area": null,
            "grid_auto_columns": null,
            "grid_auto_flow": null,
            "grid_auto_rows": null,
            "grid_column": null,
            "grid_gap": null,
            "grid_row": null,
            "grid_template_areas": null,
            "grid_template_columns": null,
            "grid_template_rows": null,
            "height": null,
            "justify_content": null,
            "justify_items": null,
            "left": null,
            "margin": null,
            "max_height": null,
            "max_width": null,
            "min_height": null,
            "min_width": null,
            "object_fit": null,
            "object_position": null,
            "order": null,
            "overflow": null,
            "overflow_x": null,
            "overflow_y": null,
            "padding": null,
            "right": null,
            "top": null,
            "visibility": null,
            "width": null
          }
        },
        "63577e394a5e4ee2b0e894baa6f73301": {
          "model_module": "@jupyter-widgets/controls",
          "model_name": "DescriptionStyleModel",
          "model_module_version": "1.5.0",
          "state": {
            "_model_module": "@jupyter-widgets/controls",
            "_model_module_version": "1.5.0",
            "_model_name": "DescriptionStyleModel",
            "_view_count": null,
            "_view_module": "@jupyter-widgets/base",
            "_view_module_version": "1.2.0",
            "_view_name": "StyleView",
            "description_width": ""
          }
        },
        "d39b0cf361c8439ea7f0c697446f4f61": {
          "model_module": "@jupyter-widgets/base",
          "model_name": "LayoutModel",
          "model_module_version": "1.2.0",
          "state": {
            "_model_module": "@jupyter-widgets/base",
            "_model_module_version": "1.2.0",
            "_model_name": "LayoutModel",
            "_view_count": null,
            "_view_module": "@jupyter-widgets/base",
            "_view_module_version": "1.2.0",
            "_view_name": "LayoutView",
            "align_content": null,
            "align_items": null,
            "align_self": null,
            "border": null,
            "bottom": null,
            "display": null,
            "flex": "2",
            "flex_flow": null,
            "grid_area": null,
            "grid_auto_columns": null,
            "grid_auto_flow": null,
            "grid_auto_rows": null,
            "grid_column": null,
            "grid_gap": null,
            "grid_row": null,
            "grid_template_areas": null,
            "grid_template_columns": null,
            "grid_template_rows": null,
            "height": null,
            "justify_content": null,
            "justify_items": null,
            "left": null,
            "margin": null,
            "max_height": null,
            "max_width": null,
            "min_height": null,
            "min_width": null,
            "object_fit": null,
            "object_position": null,
            "order": null,
            "overflow": null,
            "overflow_x": null,
            "overflow_y": null,
            "padding": null,
            "right": null,
            "top": null,
            "visibility": null,
            "width": null
          }
        },
        "d55bb0a6faf346f6b8321d1be099f5ce": {
          "model_module": "@jupyter-widgets/controls",
          "model_name": "ProgressStyleModel",
          "model_module_version": "1.5.0",
          "state": {
            "_model_module": "@jupyter-widgets/controls",
            "_model_module_version": "1.5.0",
            "_model_name": "ProgressStyleModel",
            "_view_count": null,
            "_view_module": "@jupyter-widgets/base",
            "_view_module_version": "1.2.0",
            "_view_name": "StyleView",
            "bar_color": null,
            "description_width": ""
          }
        },
        "0b6eb6d0f061495ca2672ff2a11a3c5b": {
          "model_module": "@jupyter-widgets/base",
          "model_name": "LayoutModel",
          "model_module_version": "1.2.0",
          "state": {
            "_model_module": "@jupyter-widgets/base",
            "_model_module_version": "1.2.0",
            "_model_name": "LayoutModel",
            "_view_count": null,
            "_view_module": "@jupyter-widgets/base",
            "_view_module_version": "1.2.0",
            "_view_name": "LayoutView",
            "align_content": null,
            "align_items": null,
            "align_self": null,
            "border": null,
            "bottom": null,
            "display": null,
            "flex": null,
            "flex_flow": null,
            "grid_area": null,
            "grid_auto_columns": null,
            "grid_auto_flow": null,
            "grid_auto_rows": null,
            "grid_column": null,
            "grid_gap": null,
            "grid_row": null,
            "grid_template_areas": null,
            "grid_template_columns": null,
            "grid_template_rows": null,
            "height": null,
            "justify_content": null,
            "justify_items": null,
            "left": null,
            "margin": null,
            "max_height": null,
            "max_width": null,
            "min_height": null,
            "min_width": null,
            "object_fit": null,
            "object_position": null,
            "order": null,
            "overflow": null,
            "overflow_x": null,
            "overflow_y": null,
            "padding": null,
            "right": null,
            "top": null,
            "visibility": null,
            "width": null
          }
        },
        "e6393890f0cd4710a53ec3cd3467b04b": {
          "model_module": "@jupyter-widgets/controls",
          "model_name": "DescriptionStyleModel",
          "model_module_version": "1.5.0",
          "state": {
            "_model_module": "@jupyter-widgets/controls",
            "_model_module_version": "1.5.0",
            "_model_name": "DescriptionStyleModel",
            "_view_count": null,
            "_view_module": "@jupyter-widgets/base",
            "_view_module_version": "1.2.0",
            "_view_name": "StyleView",
            "description_width": ""
          }
        },
        "c0e0b872dab949ce87a982c9e05e21d4": {
          "model_module": "@jupyter-widgets/controls",
          "model_name": "HBoxModel",
          "model_module_version": "1.5.0",
          "state": {
            "_dom_classes": [],
            "_model_module": "@jupyter-widgets/controls",
            "_model_module_version": "1.5.0",
            "_model_name": "HBoxModel",
            "_view_count": null,
            "_view_module": "@jupyter-widgets/controls",
            "_view_module_version": "1.5.0",
            "_view_name": "HBoxView",
            "box_style": "",
            "children": [
              "IPY_MODEL_8fee11229884444482142ff1ebc2fca8",
              "IPY_MODEL_067e818a4b704719a6594e12be92d9ce",
              "IPY_MODEL_f1e139c468ec43afa980c0b72b217464"
            ],
            "layout": "IPY_MODEL_1509b568f61f463d846c1c4b291c2e00"
          }
        },
        "8fee11229884444482142ff1ebc2fca8": {
          "model_module": "@jupyter-widgets/controls",
          "model_name": "HTMLModel",
          "model_module_version": "1.5.0",
          "state": {
            "_dom_classes": [],
            "_model_module": "@jupyter-widgets/controls",
            "_model_module_version": "1.5.0",
            "_model_name": "HTMLModel",
            "_view_count": null,
            "_view_module": "@jupyter-widgets/controls",
            "_view_module_version": "1.5.0",
            "_view_name": "HTMLView",
            "description": "",
            "description_tooltip": null,
            "layout": "IPY_MODEL_c7c3780c866f4032b8f42b6831cc692d",
            "placeholder": "​",
            "style": "IPY_MODEL_9505a1f36b1848e693fd9a00e6d254b0",
            "value": "Epoch 3:  48%"
          }
        },
        "067e818a4b704719a6594e12be92d9ce": {
          "model_module": "@jupyter-widgets/controls",
          "model_name": "FloatProgressModel",
          "model_module_version": "1.5.0",
          "state": {
            "_dom_classes": [],
            "_model_module": "@jupyter-widgets/controls",
            "_model_module_version": "1.5.0",
            "_model_name": "FloatProgressModel",
            "_view_count": null,
            "_view_module": "@jupyter-widgets/controls",
            "_view_module_version": "1.5.0",
            "_view_name": "ProgressView",
            "bar_style": "",
            "description": "",
            "description_tooltip": null,
            "layout": "IPY_MODEL_e887bd6015d045fa884397d54d70b633",
            "max": 480,
            "min": 0,
            "orientation": "horizontal",
            "style": "IPY_MODEL_4df6fbc3c3a24a0387fd2d736ffa58b2",
            "value": 229
          }
        },
        "f1e139c468ec43afa980c0b72b217464": {
          "model_module": "@jupyter-widgets/controls",
          "model_name": "HTMLModel",
          "model_module_version": "1.5.0",
          "state": {
            "_dom_classes": [],
            "_model_module": "@jupyter-widgets/controls",
            "_model_module_version": "1.5.0",
            "_model_name": "HTMLModel",
            "_view_count": null,
            "_view_module": "@jupyter-widgets/controls",
            "_view_module_version": "1.5.0",
            "_view_name": "HTMLView",
            "description": "",
            "description_tooltip": null,
            "layout": "IPY_MODEL_8136221041fd44798af6a238c757b4f4",
            "placeholder": "​",
            "style": "IPY_MODEL_199bb1888a2a4d6ab0cfb53f0398e7ef",
            "value": " 229/480 [00:55&lt;01:00,  4.12it/s, loss=0.564, v_num=1]"
          }
        },
        "1509b568f61f463d846c1c4b291c2e00": {
          "model_module": "@jupyter-widgets/base",
          "model_name": "LayoutModel",
          "model_module_version": "1.2.0",
          "state": {
            "_model_module": "@jupyter-widgets/base",
            "_model_module_version": "1.2.0",
            "_model_name": "LayoutModel",
            "_view_count": null,
            "_view_module": "@jupyter-widgets/base",
            "_view_module_version": "1.2.0",
            "_view_name": "LayoutView",
            "align_content": null,
            "align_items": null,
            "align_self": null,
            "border": null,
            "bottom": null,
            "display": "inline-flex",
            "flex": null,
            "flex_flow": "row wrap",
            "grid_area": null,
            "grid_auto_columns": null,
            "grid_auto_flow": null,
            "grid_auto_rows": null,
            "grid_column": null,
            "grid_gap": null,
            "grid_row": null,
            "grid_template_areas": null,
            "grid_template_columns": null,
            "grid_template_rows": null,
            "height": null,
            "justify_content": null,
            "justify_items": null,
            "left": null,
            "margin": null,
            "max_height": null,
            "max_width": null,
            "min_height": null,
            "min_width": null,
            "object_fit": null,
            "object_position": null,
            "order": null,
            "overflow": null,
            "overflow_x": null,
            "overflow_y": null,
            "padding": null,
            "right": null,
            "top": null,
            "visibility": null,
            "width": "100%"
          }
        },
        "c7c3780c866f4032b8f42b6831cc692d": {
          "model_module": "@jupyter-widgets/base",
          "model_name": "LayoutModel",
          "model_module_version": "1.2.0",
          "state": {
            "_model_module": "@jupyter-widgets/base",
            "_model_module_version": "1.2.0",
            "_model_name": "LayoutModel",
            "_view_count": null,
            "_view_module": "@jupyter-widgets/base",
            "_view_module_version": "1.2.0",
            "_view_name": "LayoutView",
            "align_content": null,
            "align_items": null,
            "align_self": null,
            "border": null,
            "bottom": null,
            "display": null,
            "flex": null,
            "flex_flow": null,
            "grid_area": null,
            "grid_auto_columns": null,
            "grid_auto_flow": null,
            "grid_auto_rows": null,
            "grid_column": null,
            "grid_gap": null,
            "grid_row": null,
            "grid_template_areas": null,
            "grid_template_columns": null,
            "grid_template_rows": null,
            "height": null,
            "justify_content": null,
            "justify_items": null,
            "left": null,
            "margin": null,
            "max_height": null,
            "max_width": null,
            "min_height": null,
            "min_width": null,
            "object_fit": null,
            "object_position": null,
            "order": null,
            "overflow": null,
            "overflow_x": null,
            "overflow_y": null,
            "padding": null,
            "right": null,
            "top": null,
            "visibility": null,
            "width": null
          }
        },
        "9505a1f36b1848e693fd9a00e6d254b0": {
          "model_module": "@jupyter-widgets/controls",
          "model_name": "DescriptionStyleModel",
          "model_module_version": "1.5.0",
          "state": {
            "_model_module": "@jupyter-widgets/controls",
            "_model_module_version": "1.5.0",
            "_model_name": "DescriptionStyleModel",
            "_view_count": null,
            "_view_module": "@jupyter-widgets/base",
            "_view_module_version": "1.2.0",
            "_view_name": "StyleView",
            "description_width": ""
          }
        },
        "e887bd6015d045fa884397d54d70b633": {
          "model_module": "@jupyter-widgets/base",
          "model_name": "LayoutModel",
          "model_module_version": "1.2.0",
          "state": {
            "_model_module": "@jupyter-widgets/base",
            "_model_module_version": "1.2.0",
            "_model_name": "LayoutModel",
            "_view_count": null,
            "_view_module": "@jupyter-widgets/base",
            "_view_module_version": "1.2.0",
            "_view_name": "LayoutView",
            "align_content": null,
            "align_items": null,
            "align_self": null,
            "border": null,
            "bottom": null,
            "display": null,
            "flex": "2",
            "flex_flow": null,
            "grid_area": null,
            "grid_auto_columns": null,
            "grid_auto_flow": null,
            "grid_auto_rows": null,
            "grid_column": null,
            "grid_gap": null,
            "grid_row": null,
            "grid_template_areas": null,
            "grid_template_columns": null,
            "grid_template_rows": null,
            "height": null,
            "justify_content": null,
            "justify_items": null,
            "left": null,
            "margin": null,
            "max_height": null,
            "max_width": null,
            "min_height": null,
            "min_width": null,
            "object_fit": null,
            "object_position": null,
            "order": null,
            "overflow": null,
            "overflow_x": null,
            "overflow_y": null,
            "padding": null,
            "right": null,
            "top": null,
            "visibility": null,
            "width": null
          }
        },
        "4df6fbc3c3a24a0387fd2d736ffa58b2": {
          "model_module": "@jupyter-widgets/controls",
          "model_name": "ProgressStyleModel",
          "model_module_version": "1.5.0",
          "state": {
            "_model_module": "@jupyter-widgets/controls",
            "_model_module_version": "1.5.0",
            "_model_name": "ProgressStyleModel",
            "_view_count": null,
            "_view_module": "@jupyter-widgets/base",
            "_view_module_version": "1.2.0",
            "_view_name": "StyleView",
            "bar_color": null,
            "description_width": ""
          }
        },
        "8136221041fd44798af6a238c757b4f4": {
          "model_module": "@jupyter-widgets/base",
          "model_name": "LayoutModel",
          "model_module_version": "1.2.0",
          "state": {
            "_model_module": "@jupyter-widgets/base",
            "_model_module_version": "1.2.0",
            "_model_name": "LayoutModel",
            "_view_count": null,
            "_view_module": "@jupyter-widgets/base",
            "_view_module_version": "1.2.0",
            "_view_name": "LayoutView",
            "align_content": null,
            "align_items": null,
            "align_self": null,
            "border": null,
            "bottom": null,
            "display": null,
            "flex": null,
            "flex_flow": null,
            "grid_area": null,
            "grid_auto_columns": null,
            "grid_auto_flow": null,
            "grid_auto_rows": null,
            "grid_column": null,
            "grid_gap": null,
            "grid_row": null,
            "grid_template_areas": null,
            "grid_template_columns": null,
            "grid_template_rows": null,
            "height": null,
            "justify_content": null,
            "justify_items": null,
            "left": null,
            "margin": null,
            "max_height": null,
            "max_width": null,
            "min_height": null,
            "min_width": null,
            "object_fit": null,
            "object_position": null,
            "order": null,
            "overflow": null,
            "overflow_x": null,
            "overflow_y": null,
            "padding": null,
            "right": null,
            "top": null,
            "visibility": null,
            "width": null
          }
        },
        "199bb1888a2a4d6ab0cfb53f0398e7ef": {
          "model_module": "@jupyter-widgets/controls",
          "model_name": "DescriptionStyleModel",
          "model_module_version": "1.5.0",
          "state": {
            "_model_module": "@jupyter-widgets/controls",
            "_model_module_version": "1.5.0",
            "_model_name": "DescriptionStyleModel",
            "_view_count": null,
            "_view_module": "@jupyter-widgets/base",
            "_view_module_version": "1.2.0",
            "_view_name": "StyleView",
            "description_width": ""
          }
        },
        "6986eb96b3d34eda8be0eab3b15b26c2": {
          "model_module": "@jupyter-widgets/controls",
          "model_name": "HBoxModel",
          "model_module_version": "1.5.0",
          "state": {
            "_dom_classes": [],
            "_model_module": "@jupyter-widgets/controls",
            "_model_module_version": "1.5.0",
            "_model_name": "HBoxModel",
            "_view_count": null,
            "_view_module": "@jupyter-widgets/controls",
            "_view_module_version": "1.5.0",
            "_view_name": "HBoxView",
            "box_style": "",
            "children": [
              "IPY_MODEL_8f47c715c3ee438e87e42927f653c50c",
              "IPY_MODEL_e694bd50997c48d19624e85a500bbade",
              "IPY_MODEL_9d884818820f4913958eda7c2555de4f"
            ],
            "layout": "IPY_MODEL_40c4e7094605452196ef3b064d7b9a21"
          }
        },
        "8f47c715c3ee438e87e42927f653c50c": {
          "model_module": "@jupyter-widgets/controls",
          "model_name": "HTMLModel",
          "model_module_version": "1.5.0",
          "state": {
            "_dom_classes": [],
            "_model_module": "@jupyter-widgets/controls",
            "_model_module_version": "1.5.0",
            "_model_name": "HTMLModel",
            "_view_count": null,
            "_view_module": "@jupyter-widgets/controls",
            "_view_module_version": "1.5.0",
            "_view_name": "HTMLView",
            "description": "",
            "description_tooltip": null,
            "layout": "IPY_MODEL_44afac832c50468ca29a7a0a77facbc8",
            "placeholder": "​",
            "style": "IPY_MODEL_ee8e536856634e7dab85b229b2fd0007",
            "value": "Validation DataLoader 0: 100%"
          }
        },
        "e694bd50997c48d19624e85a500bbade": {
          "model_module": "@jupyter-widgets/controls",
          "model_name": "FloatProgressModel",
          "model_module_version": "1.5.0",
          "state": {
            "_dom_classes": [],
            "_model_module": "@jupyter-widgets/controls",
            "_model_module_version": "1.5.0",
            "_model_name": "FloatProgressModel",
            "_view_count": null,
            "_view_module": "@jupyter-widgets/controls",
            "_view_module_version": "1.5.0",
            "_view_name": "ProgressView",
            "bar_style": "",
            "description": "",
            "description_tooltip": null,
            "layout": "IPY_MODEL_ed51efbc90d84af38773e1a2820c939c",
            "max": 240,
            "min": 0,
            "orientation": "horizontal",
            "style": "IPY_MODEL_91542515ae784fa799501401d090bf29",
            "value": 240
          }
        },
        "9d884818820f4913958eda7c2555de4f": {
          "model_module": "@jupyter-widgets/controls",
          "model_name": "HTMLModel",
          "model_module_version": "1.5.0",
          "state": {
            "_dom_classes": [],
            "_model_module": "@jupyter-widgets/controls",
            "_model_module_version": "1.5.0",
            "_model_name": "HTMLModel",
            "_view_count": null,
            "_view_module": "@jupyter-widgets/controls",
            "_view_module_version": "1.5.0",
            "_view_name": "HTMLView",
            "description": "",
            "description_tooltip": null,
            "layout": "IPY_MODEL_cb22396edf5e419f97d8ed57aca23406",
            "placeholder": "​",
            "style": "IPY_MODEL_aff189f0f5b8485cb950797a03c5c13d",
            "value": " 240/240 [00:21&lt;00:00, 11.21it/s]"
          }
        },
        "40c4e7094605452196ef3b064d7b9a21": {
          "model_module": "@jupyter-widgets/base",
          "model_name": "LayoutModel",
          "model_module_version": "1.2.0",
          "state": {
            "_model_module": "@jupyter-widgets/base",
            "_model_module_version": "1.2.0",
            "_model_name": "LayoutModel",
            "_view_count": null,
            "_view_module": "@jupyter-widgets/base",
            "_view_module_version": "1.2.0",
            "_view_name": "LayoutView",
            "align_content": null,
            "align_items": null,
            "align_self": null,
            "border": null,
            "bottom": null,
            "display": "inline-flex",
            "flex": null,
            "flex_flow": "row wrap",
            "grid_area": null,
            "grid_auto_columns": null,
            "grid_auto_flow": null,
            "grid_auto_rows": null,
            "grid_column": null,
            "grid_gap": null,
            "grid_row": null,
            "grid_template_areas": null,
            "grid_template_columns": null,
            "grid_template_rows": null,
            "height": null,
            "justify_content": null,
            "justify_items": null,
            "left": null,
            "margin": null,
            "max_height": null,
            "max_width": null,
            "min_height": null,
            "min_width": null,
            "object_fit": null,
            "object_position": null,
            "order": null,
            "overflow": null,
            "overflow_x": null,
            "overflow_y": null,
            "padding": null,
            "right": null,
            "top": null,
            "visibility": "hidden",
            "width": "100%"
          }
        },
        "44afac832c50468ca29a7a0a77facbc8": {
          "model_module": "@jupyter-widgets/base",
          "model_name": "LayoutModel",
          "model_module_version": "1.2.0",
          "state": {
            "_model_module": "@jupyter-widgets/base",
            "_model_module_version": "1.2.0",
            "_model_name": "LayoutModel",
            "_view_count": null,
            "_view_module": "@jupyter-widgets/base",
            "_view_module_version": "1.2.0",
            "_view_name": "LayoutView",
            "align_content": null,
            "align_items": null,
            "align_self": null,
            "border": null,
            "bottom": null,
            "display": null,
            "flex": null,
            "flex_flow": null,
            "grid_area": null,
            "grid_auto_columns": null,
            "grid_auto_flow": null,
            "grid_auto_rows": null,
            "grid_column": null,
            "grid_gap": null,
            "grid_row": null,
            "grid_template_areas": null,
            "grid_template_columns": null,
            "grid_template_rows": null,
            "height": null,
            "justify_content": null,
            "justify_items": null,
            "left": null,
            "margin": null,
            "max_height": null,
            "max_width": null,
            "min_height": null,
            "min_width": null,
            "object_fit": null,
            "object_position": null,
            "order": null,
            "overflow": null,
            "overflow_x": null,
            "overflow_y": null,
            "padding": null,
            "right": null,
            "top": null,
            "visibility": null,
            "width": null
          }
        },
        "ee8e536856634e7dab85b229b2fd0007": {
          "model_module": "@jupyter-widgets/controls",
          "model_name": "DescriptionStyleModel",
          "model_module_version": "1.5.0",
          "state": {
            "_model_module": "@jupyter-widgets/controls",
            "_model_module_version": "1.5.0",
            "_model_name": "DescriptionStyleModel",
            "_view_count": null,
            "_view_module": "@jupyter-widgets/base",
            "_view_module_version": "1.2.0",
            "_view_name": "StyleView",
            "description_width": ""
          }
        },
        "ed51efbc90d84af38773e1a2820c939c": {
          "model_module": "@jupyter-widgets/base",
          "model_name": "LayoutModel",
          "model_module_version": "1.2.0",
          "state": {
            "_model_module": "@jupyter-widgets/base",
            "_model_module_version": "1.2.0",
            "_model_name": "LayoutModel",
            "_view_count": null,
            "_view_module": "@jupyter-widgets/base",
            "_view_module_version": "1.2.0",
            "_view_name": "LayoutView",
            "align_content": null,
            "align_items": null,
            "align_self": null,
            "border": null,
            "bottom": null,
            "display": null,
            "flex": "2",
            "flex_flow": null,
            "grid_area": null,
            "grid_auto_columns": null,
            "grid_auto_flow": null,
            "grid_auto_rows": null,
            "grid_column": null,
            "grid_gap": null,
            "grid_row": null,
            "grid_template_areas": null,
            "grid_template_columns": null,
            "grid_template_rows": null,
            "height": null,
            "justify_content": null,
            "justify_items": null,
            "left": null,
            "margin": null,
            "max_height": null,
            "max_width": null,
            "min_height": null,
            "min_width": null,
            "object_fit": null,
            "object_position": null,
            "order": null,
            "overflow": null,
            "overflow_x": null,
            "overflow_y": null,
            "padding": null,
            "right": null,
            "top": null,
            "visibility": null,
            "width": null
          }
        },
        "91542515ae784fa799501401d090bf29": {
          "model_module": "@jupyter-widgets/controls",
          "model_name": "ProgressStyleModel",
          "model_module_version": "1.5.0",
          "state": {
            "_model_module": "@jupyter-widgets/controls",
            "_model_module_version": "1.5.0",
            "_model_name": "ProgressStyleModel",
            "_view_count": null,
            "_view_module": "@jupyter-widgets/base",
            "_view_module_version": "1.2.0",
            "_view_name": "StyleView",
            "bar_color": null,
            "description_width": ""
          }
        },
        "cb22396edf5e419f97d8ed57aca23406": {
          "model_module": "@jupyter-widgets/base",
          "model_name": "LayoutModel",
          "model_module_version": "1.2.0",
          "state": {
            "_model_module": "@jupyter-widgets/base",
            "_model_module_version": "1.2.0",
            "_model_name": "LayoutModel",
            "_view_count": null,
            "_view_module": "@jupyter-widgets/base",
            "_view_module_version": "1.2.0",
            "_view_name": "LayoutView",
            "align_content": null,
            "align_items": null,
            "align_self": null,
            "border": null,
            "bottom": null,
            "display": null,
            "flex": null,
            "flex_flow": null,
            "grid_area": null,
            "grid_auto_columns": null,
            "grid_auto_flow": null,
            "grid_auto_rows": null,
            "grid_column": null,
            "grid_gap": null,
            "grid_row": null,
            "grid_template_areas": null,
            "grid_template_columns": null,
            "grid_template_rows": null,
            "height": null,
            "justify_content": null,
            "justify_items": null,
            "left": null,
            "margin": null,
            "max_height": null,
            "max_width": null,
            "min_height": null,
            "min_width": null,
            "object_fit": null,
            "object_position": null,
            "order": null,
            "overflow": null,
            "overflow_x": null,
            "overflow_y": null,
            "padding": null,
            "right": null,
            "top": null,
            "visibility": null,
            "width": null
          }
        },
        "aff189f0f5b8485cb950797a03c5c13d": {
          "model_module": "@jupyter-widgets/controls",
          "model_name": "DescriptionStyleModel",
          "model_module_version": "1.5.0",
          "state": {
            "_model_module": "@jupyter-widgets/controls",
            "_model_module_version": "1.5.0",
            "_model_name": "DescriptionStyleModel",
            "_view_count": null,
            "_view_module": "@jupyter-widgets/base",
            "_view_module_version": "1.2.0",
            "_view_name": "StyleView",
            "description_width": ""
          }
        },
        "576aca65f52b47039a68eb46b36d8d0c": {
          "model_module": "@jupyter-widgets/controls",
          "model_name": "HBoxModel",
          "model_module_version": "1.5.0",
          "state": {
            "_dom_classes": [],
            "_model_module": "@jupyter-widgets/controls",
            "_model_module_version": "1.5.0",
            "_model_name": "HBoxModel",
            "_view_count": null,
            "_view_module": "@jupyter-widgets/controls",
            "_view_module_version": "1.5.0",
            "_view_name": "HBoxView",
            "box_style": "",
            "children": [
              "IPY_MODEL_d4c2b778b7c44f7f8b9112ef66e61e50",
              "IPY_MODEL_3a276718f75d4340a9a082c003528635",
              "IPY_MODEL_3ffac0baa97d49f9acfe00c5bb89083d"
            ],
            "layout": "IPY_MODEL_e26e2bac0cbd4f2cbea09657ede84bb7"
          }
        },
        "d4c2b778b7c44f7f8b9112ef66e61e50": {
          "model_module": "@jupyter-widgets/controls",
          "model_name": "HTMLModel",
          "model_module_version": "1.5.0",
          "state": {
            "_dom_classes": [],
            "_model_module": "@jupyter-widgets/controls",
            "_model_module_version": "1.5.0",
            "_model_name": "HTMLModel",
            "_view_count": null,
            "_view_module": "@jupyter-widgets/controls",
            "_view_module_version": "1.5.0",
            "_view_name": "HTMLView",
            "description": "",
            "description_tooltip": null,
            "layout": "IPY_MODEL_2ec0d456ab9c4404a39f31dee35c6694",
            "placeholder": "​",
            "style": "IPY_MODEL_f7725b7cee00424498d23ab341764d5c",
            "value": "Validation DataLoader 0: 100%"
          }
        },
        "3a276718f75d4340a9a082c003528635": {
          "model_module": "@jupyter-widgets/controls",
          "model_name": "FloatProgressModel",
          "model_module_version": "1.5.0",
          "state": {
            "_dom_classes": [],
            "_model_module": "@jupyter-widgets/controls",
            "_model_module_version": "1.5.0",
            "_model_name": "FloatProgressModel",
            "_view_count": null,
            "_view_module": "@jupyter-widgets/controls",
            "_view_module_version": "1.5.0",
            "_view_name": "ProgressView",
            "bar_style": "",
            "description": "",
            "description_tooltip": null,
            "layout": "IPY_MODEL_528b7bb7c31146a498e113363e4ee88f",
            "max": 240,
            "min": 0,
            "orientation": "horizontal",
            "style": "IPY_MODEL_8df7bd72604c46ea95dfa5e12948b647",
            "value": 240
          }
        },
        "3ffac0baa97d49f9acfe00c5bb89083d": {
          "model_module": "@jupyter-widgets/controls",
          "model_name": "HTMLModel",
          "model_module_version": "1.5.0",
          "state": {
            "_dom_classes": [],
            "_model_module": "@jupyter-widgets/controls",
            "_model_module_version": "1.5.0",
            "_model_name": "HTMLModel",
            "_view_count": null,
            "_view_module": "@jupyter-widgets/controls",
            "_view_module_version": "1.5.0",
            "_view_name": "HTMLView",
            "description": "",
            "description_tooltip": null,
            "layout": "IPY_MODEL_87fa1244e3fb4dadab15a07c9c0dd251",
            "placeholder": "​",
            "style": "IPY_MODEL_b592ce3b142648529db7a9af5a1561f9",
            "value": " 240/240 [00:18&lt;00:00, 12.87it/s]"
          }
        },
        "e26e2bac0cbd4f2cbea09657ede84bb7": {
          "model_module": "@jupyter-widgets/base",
          "model_name": "LayoutModel",
          "model_module_version": "1.2.0",
          "state": {
            "_model_module": "@jupyter-widgets/base",
            "_model_module_version": "1.2.0",
            "_model_name": "LayoutModel",
            "_view_count": null,
            "_view_module": "@jupyter-widgets/base",
            "_view_module_version": "1.2.0",
            "_view_name": "LayoutView",
            "align_content": null,
            "align_items": null,
            "align_self": null,
            "border": null,
            "bottom": null,
            "display": "inline-flex",
            "flex": null,
            "flex_flow": "row wrap",
            "grid_area": null,
            "grid_auto_columns": null,
            "grid_auto_flow": null,
            "grid_auto_rows": null,
            "grid_column": null,
            "grid_gap": null,
            "grid_row": null,
            "grid_template_areas": null,
            "grid_template_columns": null,
            "grid_template_rows": null,
            "height": null,
            "justify_content": null,
            "justify_items": null,
            "left": null,
            "margin": null,
            "max_height": null,
            "max_width": null,
            "min_height": null,
            "min_width": null,
            "object_fit": null,
            "object_position": null,
            "order": null,
            "overflow": null,
            "overflow_x": null,
            "overflow_y": null,
            "padding": null,
            "right": null,
            "top": null,
            "visibility": "hidden",
            "width": "100%"
          }
        },
        "2ec0d456ab9c4404a39f31dee35c6694": {
          "model_module": "@jupyter-widgets/base",
          "model_name": "LayoutModel",
          "model_module_version": "1.2.0",
          "state": {
            "_model_module": "@jupyter-widgets/base",
            "_model_module_version": "1.2.0",
            "_model_name": "LayoutModel",
            "_view_count": null,
            "_view_module": "@jupyter-widgets/base",
            "_view_module_version": "1.2.0",
            "_view_name": "LayoutView",
            "align_content": null,
            "align_items": null,
            "align_self": null,
            "border": null,
            "bottom": null,
            "display": null,
            "flex": null,
            "flex_flow": null,
            "grid_area": null,
            "grid_auto_columns": null,
            "grid_auto_flow": null,
            "grid_auto_rows": null,
            "grid_column": null,
            "grid_gap": null,
            "grid_row": null,
            "grid_template_areas": null,
            "grid_template_columns": null,
            "grid_template_rows": null,
            "height": null,
            "justify_content": null,
            "justify_items": null,
            "left": null,
            "margin": null,
            "max_height": null,
            "max_width": null,
            "min_height": null,
            "min_width": null,
            "object_fit": null,
            "object_position": null,
            "order": null,
            "overflow": null,
            "overflow_x": null,
            "overflow_y": null,
            "padding": null,
            "right": null,
            "top": null,
            "visibility": null,
            "width": null
          }
        },
        "f7725b7cee00424498d23ab341764d5c": {
          "model_module": "@jupyter-widgets/controls",
          "model_name": "DescriptionStyleModel",
          "model_module_version": "1.5.0",
          "state": {
            "_model_module": "@jupyter-widgets/controls",
            "_model_module_version": "1.5.0",
            "_model_name": "DescriptionStyleModel",
            "_view_count": null,
            "_view_module": "@jupyter-widgets/base",
            "_view_module_version": "1.2.0",
            "_view_name": "StyleView",
            "description_width": ""
          }
        },
        "528b7bb7c31146a498e113363e4ee88f": {
          "model_module": "@jupyter-widgets/base",
          "model_name": "LayoutModel",
          "model_module_version": "1.2.0",
          "state": {
            "_model_module": "@jupyter-widgets/base",
            "_model_module_version": "1.2.0",
            "_model_name": "LayoutModel",
            "_view_count": null,
            "_view_module": "@jupyter-widgets/base",
            "_view_module_version": "1.2.0",
            "_view_name": "LayoutView",
            "align_content": null,
            "align_items": null,
            "align_self": null,
            "border": null,
            "bottom": null,
            "display": null,
            "flex": "2",
            "flex_flow": null,
            "grid_area": null,
            "grid_auto_columns": null,
            "grid_auto_flow": null,
            "grid_auto_rows": null,
            "grid_column": null,
            "grid_gap": null,
            "grid_row": null,
            "grid_template_areas": null,
            "grid_template_columns": null,
            "grid_template_rows": null,
            "height": null,
            "justify_content": null,
            "justify_items": null,
            "left": null,
            "margin": null,
            "max_height": null,
            "max_width": null,
            "min_height": null,
            "min_width": null,
            "object_fit": null,
            "object_position": null,
            "order": null,
            "overflow": null,
            "overflow_x": null,
            "overflow_y": null,
            "padding": null,
            "right": null,
            "top": null,
            "visibility": null,
            "width": null
          }
        },
        "8df7bd72604c46ea95dfa5e12948b647": {
          "model_module": "@jupyter-widgets/controls",
          "model_name": "ProgressStyleModel",
          "model_module_version": "1.5.0",
          "state": {
            "_model_module": "@jupyter-widgets/controls",
            "_model_module_version": "1.5.0",
            "_model_name": "ProgressStyleModel",
            "_view_count": null,
            "_view_module": "@jupyter-widgets/base",
            "_view_module_version": "1.2.0",
            "_view_name": "StyleView",
            "bar_color": null,
            "description_width": ""
          }
        },
        "87fa1244e3fb4dadab15a07c9c0dd251": {
          "model_module": "@jupyter-widgets/base",
          "model_name": "LayoutModel",
          "model_module_version": "1.2.0",
          "state": {
            "_model_module": "@jupyter-widgets/base",
            "_model_module_version": "1.2.0",
            "_model_name": "LayoutModel",
            "_view_count": null,
            "_view_module": "@jupyter-widgets/base",
            "_view_module_version": "1.2.0",
            "_view_name": "LayoutView",
            "align_content": null,
            "align_items": null,
            "align_self": null,
            "border": null,
            "bottom": null,
            "display": null,
            "flex": null,
            "flex_flow": null,
            "grid_area": null,
            "grid_auto_columns": null,
            "grid_auto_flow": null,
            "grid_auto_rows": null,
            "grid_column": null,
            "grid_gap": null,
            "grid_row": null,
            "grid_template_areas": null,
            "grid_template_columns": null,
            "grid_template_rows": null,
            "height": null,
            "justify_content": null,
            "justify_items": null,
            "left": null,
            "margin": null,
            "max_height": null,
            "max_width": null,
            "min_height": null,
            "min_width": null,
            "object_fit": null,
            "object_position": null,
            "order": null,
            "overflow": null,
            "overflow_x": null,
            "overflow_y": null,
            "padding": null,
            "right": null,
            "top": null,
            "visibility": null,
            "width": null
          }
        },
        "b592ce3b142648529db7a9af5a1561f9": {
          "model_module": "@jupyter-widgets/controls",
          "model_name": "DescriptionStyleModel",
          "model_module_version": "1.5.0",
          "state": {
            "_model_module": "@jupyter-widgets/controls",
            "_model_module_version": "1.5.0",
            "_model_name": "DescriptionStyleModel",
            "_view_count": null,
            "_view_module": "@jupyter-widgets/base",
            "_view_module_version": "1.2.0",
            "_view_name": "StyleView",
            "description_width": ""
          }
        },
        "a5478fa5a2674c68a386eb741185cd4b": {
          "model_module": "@jupyter-widgets/controls",
          "model_name": "HBoxModel",
          "model_module_version": "1.5.0",
          "state": {
            "_dom_classes": [],
            "_model_module": "@jupyter-widgets/controls",
            "_model_module_version": "1.5.0",
            "_model_name": "HBoxModel",
            "_view_count": null,
            "_view_module": "@jupyter-widgets/controls",
            "_view_module_version": "1.5.0",
            "_view_name": "HBoxView",
            "box_style": "",
            "children": [
              "IPY_MODEL_632c953fba584cfbac7167d9793834e3",
              "IPY_MODEL_d9f73cd9227440b7a47ecf0638ec395b",
              "IPY_MODEL_ed0873fecdb44c73995f2b9e21803914"
            ],
            "layout": "IPY_MODEL_42440875d9a24a778abea08009bb8b59"
          }
        },
        "632c953fba584cfbac7167d9793834e3": {
          "model_module": "@jupyter-widgets/controls",
          "model_name": "HTMLModel",
          "model_module_version": "1.5.0",
          "state": {
            "_dom_classes": [],
            "_model_module": "@jupyter-widgets/controls",
            "_model_module_version": "1.5.0",
            "_model_name": "HTMLModel",
            "_view_count": null,
            "_view_module": "@jupyter-widgets/controls",
            "_view_module_version": "1.5.0",
            "_view_name": "HTMLView",
            "description": "",
            "description_tooltip": null,
            "layout": "IPY_MODEL_70961689c2d846a59f3b0c0b083cff32",
            "placeholder": "​",
            "style": "IPY_MODEL_a86249d31e3a48509561b4321d65330b",
            "value": "Validation DataLoader 0: 100%"
          }
        },
        "d9f73cd9227440b7a47ecf0638ec395b": {
          "model_module": "@jupyter-widgets/controls",
          "model_name": "FloatProgressModel",
          "model_module_version": "1.5.0",
          "state": {
            "_dom_classes": [],
            "_model_module": "@jupyter-widgets/controls",
            "_model_module_version": "1.5.0",
            "_model_name": "FloatProgressModel",
            "_view_count": null,
            "_view_module": "@jupyter-widgets/controls",
            "_view_module_version": "1.5.0",
            "_view_name": "ProgressView",
            "bar_style": "",
            "description": "",
            "description_tooltip": null,
            "layout": "IPY_MODEL_7c8e2af5c19b459eb4283bd1bc6b17ad",
            "max": 240,
            "min": 0,
            "orientation": "horizontal",
            "style": "IPY_MODEL_5c202681cc8446bd9cd1ab65913a081d",
            "value": 240
          }
        },
        "ed0873fecdb44c73995f2b9e21803914": {
          "model_module": "@jupyter-widgets/controls",
          "model_name": "HTMLModel",
          "model_module_version": "1.5.0",
          "state": {
            "_dom_classes": [],
            "_model_module": "@jupyter-widgets/controls",
            "_model_module_version": "1.5.0",
            "_model_name": "HTMLModel",
            "_view_count": null,
            "_view_module": "@jupyter-widgets/controls",
            "_view_module_version": "1.5.0",
            "_view_name": "HTMLView",
            "description": "",
            "description_tooltip": null,
            "layout": "IPY_MODEL_a3fee75673854c8d88e513a0f2d71392",
            "placeholder": "​",
            "style": "IPY_MODEL_b2005b9e11a643c28073dfd9228ea802",
            "value": " 240/240 [00:18&lt;00:00, 12.72it/s]"
          }
        },
        "42440875d9a24a778abea08009bb8b59": {
          "model_module": "@jupyter-widgets/base",
          "model_name": "LayoutModel",
          "model_module_version": "1.2.0",
          "state": {
            "_model_module": "@jupyter-widgets/base",
            "_model_module_version": "1.2.0",
            "_model_name": "LayoutModel",
            "_view_count": null,
            "_view_module": "@jupyter-widgets/base",
            "_view_module_version": "1.2.0",
            "_view_name": "LayoutView",
            "align_content": null,
            "align_items": null,
            "align_self": null,
            "border": null,
            "bottom": null,
            "display": "inline-flex",
            "flex": null,
            "flex_flow": "row wrap",
            "grid_area": null,
            "grid_auto_columns": null,
            "grid_auto_flow": null,
            "grid_auto_rows": null,
            "grid_column": null,
            "grid_gap": null,
            "grid_row": null,
            "grid_template_areas": null,
            "grid_template_columns": null,
            "grid_template_rows": null,
            "height": null,
            "justify_content": null,
            "justify_items": null,
            "left": null,
            "margin": null,
            "max_height": null,
            "max_width": null,
            "min_height": null,
            "min_width": null,
            "object_fit": null,
            "object_position": null,
            "order": null,
            "overflow": null,
            "overflow_x": null,
            "overflow_y": null,
            "padding": null,
            "right": null,
            "top": null,
            "visibility": "hidden",
            "width": "100%"
          }
        },
        "70961689c2d846a59f3b0c0b083cff32": {
          "model_module": "@jupyter-widgets/base",
          "model_name": "LayoutModel",
          "model_module_version": "1.2.0",
          "state": {
            "_model_module": "@jupyter-widgets/base",
            "_model_module_version": "1.2.0",
            "_model_name": "LayoutModel",
            "_view_count": null,
            "_view_module": "@jupyter-widgets/base",
            "_view_module_version": "1.2.0",
            "_view_name": "LayoutView",
            "align_content": null,
            "align_items": null,
            "align_self": null,
            "border": null,
            "bottom": null,
            "display": null,
            "flex": null,
            "flex_flow": null,
            "grid_area": null,
            "grid_auto_columns": null,
            "grid_auto_flow": null,
            "grid_auto_rows": null,
            "grid_column": null,
            "grid_gap": null,
            "grid_row": null,
            "grid_template_areas": null,
            "grid_template_columns": null,
            "grid_template_rows": null,
            "height": null,
            "justify_content": null,
            "justify_items": null,
            "left": null,
            "margin": null,
            "max_height": null,
            "max_width": null,
            "min_height": null,
            "min_width": null,
            "object_fit": null,
            "object_position": null,
            "order": null,
            "overflow": null,
            "overflow_x": null,
            "overflow_y": null,
            "padding": null,
            "right": null,
            "top": null,
            "visibility": null,
            "width": null
          }
        },
        "a86249d31e3a48509561b4321d65330b": {
          "model_module": "@jupyter-widgets/controls",
          "model_name": "DescriptionStyleModel",
          "model_module_version": "1.5.0",
          "state": {
            "_model_module": "@jupyter-widgets/controls",
            "_model_module_version": "1.5.0",
            "_model_name": "DescriptionStyleModel",
            "_view_count": null,
            "_view_module": "@jupyter-widgets/base",
            "_view_module_version": "1.2.0",
            "_view_name": "StyleView",
            "description_width": ""
          }
        },
        "7c8e2af5c19b459eb4283bd1bc6b17ad": {
          "model_module": "@jupyter-widgets/base",
          "model_name": "LayoutModel",
          "model_module_version": "1.2.0",
          "state": {
            "_model_module": "@jupyter-widgets/base",
            "_model_module_version": "1.2.0",
            "_model_name": "LayoutModel",
            "_view_count": null,
            "_view_module": "@jupyter-widgets/base",
            "_view_module_version": "1.2.0",
            "_view_name": "LayoutView",
            "align_content": null,
            "align_items": null,
            "align_self": null,
            "border": null,
            "bottom": null,
            "display": null,
            "flex": "2",
            "flex_flow": null,
            "grid_area": null,
            "grid_auto_columns": null,
            "grid_auto_flow": null,
            "grid_auto_rows": null,
            "grid_column": null,
            "grid_gap": null,
            "grid_row": null,
            "grid_template_areas": null,
            "grid_template_columns": null,
            "grid_template_rows": null,
            "height": null,
            "justify_content": null,
            "justify_items": null,
            "left": null,
            "margin": null,
            "max_height": null,
            "max_width": null,
            "min_height": null,
            "min_width": null,
            "object_fit": null,
            "object_position": null,
            "order": null,
            "overflow": null,
            "overflow_x": null,
            "overflow_y": null,
            "padding": null,
            "right": null,
            "top": null,
            "visibility": null,
            "width": null
          }
        },
        "5c202681cc8446bd9cd1ab65913a081d": {
          "model_module": "@jupyter-widgets/controls",
          "model_name": "ProgressStyleModel",
          "model_module_version": "1.5.0",
          "state": {
            "_model_module": "@jupyter-widgets/controls",
            "_model_module_version": "1.5.0",
            "_model_name": "ProgressStyleModel",
            "_view_count": null,
            "_view_module": "@jupyter-widgets/base",
            "_view_module_version": "1.2.0",
            "_view_name": "StyleView",
            "bar_color": null,
            "description_width": ""
          }
        },
        "a3fee75673854c8d88e513a0f2d71392": {
          "model_module": "@jupyter-widgets/base",
          "model_name": "LayoutModel",
          "model_module_version": "1.2.0",
          "state": {
            "_model_module": "@jupyter-widgets/base",
            "_model_module_version": "1.2.0",
            "_model_name": "LayoutModel",
            "_view_count": null,
            "_view_module": "@jupyter-widgets/base",
            "_view_module_version": "1.2.0",
            "_view_name": "LayoutView",
            "align_content": null,
            "align_items": null,
            "align_self": null,
            "border": null,
            "bottom": null,
            "display": null,
            "flex": null,
            "flex_flow": null,
            "grid_area": null,
            "grid_auto_columns": null,
            "grid_auto_flow": null,
            "grid_auto_rows": null,
            "grid_column": null,
            "grid_gap": null,
            "grid_row": null,
            "grid_template_areas": null,
            "grid_template_columns": null,
            "grid_template_rows": null,
            "height": null,
            "justify_content": null,
            "justify_items": null,
            "left": null,
            "margin": null,
            "max_height": null,
            "max_width": null,
            "min_height": null,
            "min_width": null,
            "object_fit": null,
            "object_position": null,
            "order": null,
            "overflow": null,
            "overflow_x": null,
            "overflow_y": null,
            "padding": null,
            "right": null,
            "top": null,
            "visibility": null,
            "width": null
          }
        },
        "b2005b9e11a643c28073dfd9228ea802": {
          "model_module": "@jupyter-widgets/controls",
          "model_name": "DescriptionStyleModel",
          "model_module_version": "1.5.0",
          "state": {
            "_model_module": "@jupyter-widgets/controls",
            "_model_module_version": "1.5.0",
            "_model_name": "DescriptionStyleModel",
            "_view_count": null,
            "_view_module": "@jupyter-widgets/base",
            "_view_module_version": "1.2.0",
            "_view_name": "StyleView",
            "description_width": ""
          }
        }
      }
    }
  },
  "cells": [
    {
      "cell_type": "markdown",
      "metadata": {
        "id": "view-in-github",
        "colab_type": "text"
      },
      "source": [
        "<a href=\"https://colab.research.google.com/github/stefarine/DMML2022_ROLEX/blob/main/DMML_PROJECT.ipynb\" target=\"_parent\"><img src=\"https://colab.research.google.com/assets/colab-badge.svg\" alt=\"Open In Colab\"/></a>"
      ]
    },
    {
      "cell_type": "markdown",
      "source": [
        "#Importations, installations and statistics\n",
        "\n"
      ],
      "metadata": {
        "id": "v1LkB7I--Yae"
      }
    },
    {
      "cell_type": "markdown",
      "source": [
        "##Importations & intallations"
      ],
      "metadata": {
        "id": "h2aXK3OUATSp"
      }
    },
    {
      "cell_type": "code",
      "source": [
        "!pip install -U spacy\n",
        "!python -m spacy download fr\n",
        "!python -m spacy download fr_core_news_sm\n",
        "!pip install git+https://github.com/ClaudeCoulombe/FrenchLefffLemmatizer.git &> /dev/null\n",
        "!pip install gensim\n",
        "!pip install python-Levenshtein\n",
        "!pip install transformers plotly==5.8.0 pyyaml==5.4.1 datasets pytorch-lightning > /dev/null 2>&1"
      ],
      "metadata": {
        "id": "09LTG_mG6OuT"
      },
      "execution_count": null,
      "outputs": []
    },
    {
      "cell_type": "code",
      "execution_count": 61,
      "metadata": {
        "id": "s2wWDwCv-Oh8"
      },
      "outputs": [],
      "source": [
        "import pandas as pd\n",
        "import numpy as np\n",
        "from sklearn.feature_extraction.text import CountVectorizer, TfidfVectorizer\n",
        "from sklearn.linear_model import LogisticRegression, LogisticRegressionCV\n",
        "from sklearn.pipeline import Pipeline\n",
        "from sklearn.model_selection import train_test_split\n",
        "from sklearn.metrics import confusion_matrix, accuracy_score, precision_score, recall_score, f1_score\n",
        "from sklearn import metrics\n",
        "from sklearn.metrics import roc_curve, roc_auc_score\n",
        "from sklearn.model_selection import train_test_split, cross_val_score\n",
        "from sklearn.neighbors import KNeighborsClassifier\n",
        "from sklearn.model_selection import KFold, GridSearchCV\n",
        "from sklearn.neighbors import KNeighborsRegressor\n",
        "import spacy\n",
        "from spacy import displacy\n",
        "import nltk\n",
        "import string\n",
        "from french_lefff_lemmatizer.french_lefff_lemmatizer import FrenchLefffLemmatizer\n",
        "import gensim\n",
        "from gensim.test.utils import common_texts\n",
        "from gensim.models.doc2vec import Doc2Vec, TaggedDocument\n",
        "from sklearn import utils\n",
        "import csv\n",
        "from tqdm import tqdm\n",
        "import multiprocessing\n",
        "import bs4 as bs\n",
        "import urllib.request\n",
        "import math\n",
        "from gensim.models import Word2Vec\n",
        "import matplotlib.pyplot as plt\n",
        "import seaborn as sns\n",
        "from collections import Counter\n",
        "import fr_core_news_sm\n",
        "from pprint import pprint\n",
        "import functools\n",
        "import torch\n",
        "from torch.utils.data import DataLoader\n",
        "import torch.nn.functional as F\n",
        "import pytorch_lightning as pl\n",
        "from transformers import AutoModelForSequenceClassification, CamembertForMaskedLM, AutoTokenizer, AutoConfig\n",
        "from datasets import load_dataset\n",
        "import plotly.express as px\n",
        "from datasets import Dataset, Value, ClassLabel, Features"
      ]
    },
    {
      "cell_type": "code",
      "source": [
        "random_state=0\n",
        "\n",
        "df = pd.read_csv('training_data.csv')\n",
        "df_pred = pd.read_csv('unlabelled_test_data.csv')"
      ],
      "metadata": {
        "id": "ZD4iYEDFm-GM"
      },
      "execution_count": 88,
      "outputs": []
    },
    {
      "cell_type": "code",
      "source": [
        "X = df['sentence']\n",
        "y = df['difficulty']\n",
        "X_pred = df_pred['sentence']"
      ],
      "metadata": {
        "id": "6RnY6303AE1T"
      },
      "execution_count": 89,
      "outputs": []
    },
    {
      "cell_type": "markdown",
      "source": [
        "##Descriptive statistics and baseline"
      ],
      "metadata": {
        "id": "KwGre9ldA0BR"
      }
    },
    {
      "cell_type": "code",
      "source": [
        "plot = y.value_counts().plot.bar()"
      ],
      "metadata": {
        "colab": {
          "base_uri": "https://localhost:8080/",
          "height": 269
        },
        "id": "5Cp2bSfe_wx8",
        "outputId": "02f02d7c-54dc-451b-e6fc-74126dd6691e"
      },
      "execution_count": 4,
      "outputs": [
        {
          "output_type": "display_data",
          "data": {
            "text/plain": [
              "<Figure size 432x288 with 1 Axes>"
            ],
            "image/png": "[encoded data removed]"
          },
          "metadata": {
            "needs_background": "light"
          }
        }
      ]
    },
    {
      "cell_type": "code",
      "source": [
        "y.describe()"
      ],
      "metadata": {
        "colab": {
          "base_uri": "https://localhost:8080/"
        },
        "id": "79DVvsiHBbWA",
        "outputId": "63786bd3-ff4f-4a48-8463-96d73f9ab1ca"
      },
      "execution_count": 5,
      "outputs": [
        {
          "output_type": "execute_result",
          "data": {
            "text/plain": [
              "count     4800\n",
              "unique       6\n",
              "top         A1\n",
              "freq       813\n",
              "Name: difficulty, dtype: object"
            ]
          },
          "metadata": {},
          "execution_count": 5
        }
      ]
    },
    {
      "cell_type": "code",
      "source": [
        "base_rate = (df['difficulty'].value_counts().max()/df['difficulty'].shape[0]).round(4)\n",
        "print('Base rate :')\n",
        "print(base_rate)"
      ],
      "metadata": {
        "colab": {
          "base_uri": "https://localhost:8080/"
        },
        "id": "e4h2gNaXAYZK",
        "outputId": "80d9674a-6c5b-473a-9384-3845396bce16"
      },
      "execution_count": 6,
      "outputs": [
        {
          "output_type": "stream",
          "name": "stdout",
          "text": [
            "Base rate :\n",
            "0.1694\n"
          ]
        }
      ]
    },
    {
      "cell_type": "markdown",
      "source": [
        "#Models"
      ],
      "metadata": {
        "id": "S31KKwG8Cts_"
      }
    },
    {
      "cell_type": "code",
      "source": [
        "#Define vectorizer and split the set\n",
        "tfidf = TfidfVectorizer(ngram_range=(1, 1))\n",
        "X_train, X_test, y_train, y_test = train_test_split(X, y, test_size=0.2, random_state=0)"
      ],
      "metadata": {
        "id": "adbHRe4UC9gk"
      },
      "execution_count": 7,
      "outputs": []
    },
    {
      "cell_type": "code",
      "source": [
        "##Models Functions"
      ],
      "metadata": {
        "id": "DV2g08FC9Huq"
      },
      "execution_count": 8,
      "outputs": []
    },
    {
      "cell_type": "code",
      "source": [
        "#Function to evaluate the model\n",
        "def evaluate(true, pred):\n",
        "    precision = precision_score(true, pred,average='macro')\n",
        "    recall = recall_score(true, pred,average='macro')\n",
        "    f1 = f1_score(true, pred,average='macro')\n",
        "    print(f\"CONFUSION MATRIX:\\n{confusion_matrix(true, pred)}\")\n",
        "    print(f\"ACCURACY SCORE:\\n{accuracy_score(true, pred):.4f}\")\n",
        "    print(f\"CLASSIFICATION REPORT:\\n\\tPrecision: {precision:.4f}\\n\\tRecall: {recall:.4f}\\n\\tF1_Score: {f1:.4f}\")"
      ],
      "metadata": {
        "id": "z8mqzqXtDkwe"
      },
      "execution_count": 9,
      "outputs": []
    },
    {
      "cell_type": "code",
      "source": [
        "#Function to create a pipeline with TFIDF and a classifier\n",
        "def pipeWithTFIDF(myClassifier):\n",
        "  pipe = Pipeline([('vectorizer', tfidf),\n",
        "                 ('classifier', myClassifier)])\n",
        "  return pipe"
      ],
      "metadata": {
        "id": "waLBsgs2NsNr"
      },
      "execution_count": 10,
      "outputs": []
    },
    {
      "cell_type": "code",
      "source": [
        "#Function to fit a model, make pradiction with it and get evaluation stuff\n",
        "def fitPredictAndEvaluateModel(pipe,name):\n",
        "  # Fit model on training set\n",
        "  pipe.fit(X_train, y_train)\n",
        "\n",
        "  # Predictions\n",
        "  y_pred= pipe.predict(X_test)\n",
        "\n",
        "  #Exporting a file with the results\n",
        "  predictions = pd.DataFrame(y_pred,columns=['difficulty'])\n",
        "  predictions.to_csv(name+\".csv\")\n",
        "\n",
        "  # Evaluation\n",
        "  evaluate(y_test, y_pred)\n",
        "\n",
        "  return y_pred"
      ],
      "metadata": {
        "id": "-3NxLRi0Qjt1"
      },
      "execution_count": 11,
      "outputs": []
    },
    {
      "cell_type": "code",
      "source": [
        "#Function to make a gride search and print the results\n",
        "def getResultsGridSearch(myGs):\n",
        "  #Pipeline preparation\n",
        "  pipe = pipeWithTFIDF(myGs)\n",
        "\n",
        "  #fit\n",
        "  pipe.fit(X_train, y_train)\n",
        "\n",
        "  #Print results\n",
        "  print('Best Score : ')\n",
        "  print(myGs.best_score_)\n",
        "  print('Best Params : ')\n",
        "  print(myGs.best_params_)"
      ],
      "metadata": {
        "id": "1dqPOhH9VbUb"
      },
      "execution_count": 12,
      "outputs": []
    },
    {
      "cell_type": "code",
      "source": [
        "##Data Cleaning Functions"
      ],
      "metadata": {
        "id": "-tOIRiOy9FPY"
      },
      "execution_count": 13,
      "outputs": []
    },
    {
      "cell_type": "code",
      "source": [
        "#Function to remove punctuation\n",
        "def remove_punctuations(text):\n",
        "    for punctuation in string.punctuation:\n",
        "        text = text.replace(punctuation, \" \")\n",
        "    return text"
      ],
      "metadata": {
        "id": "nk-glBIa7j2W"
      },
      "execution_count": 14,
      "outputs": []
    },
    {
      "cell_type": "code",
      "source": [
        "from nltk.stem.snowball import SnowballStemmer\n",
        "\n",
        "#Function for doing stemming\n",
        "def return_stem(sentence):\n",
        "    stemmer = SnowballStemmer(language='french')\n",
        "    doc = nlp(sentence)\n",
        "    return [stemmer.stem(X.text) for X in doc]"
      ],
      "metadata": {
        "id": "D8V5RDCl88YK"
      },
      "execution_count": 15,
      "outputs": []
    },
    {
      "cell_type": "code",
      "source": [
        "## Doc2Vec Functions"
      ],
      "metadata": {
        "id": "o5bXubmJAL9D"
      },
      "execution_count": 16,
      "outputs": []
    },
    {
      "cell_type": "code",
      "source": [
        "#Function to vectorize the Train set\n",
        "def vector_for_learning(model, input_docs):\n",
        "    sents = input_docs\n",
        "    targets, feature_vectors = zip(*[(doc.tags[0], model.infer_vector(doc.words, steps=100)) for doc in sents])\n",
        "    return targets, feature_vectors"
      ],
      "metadata": {
        "id": "vLxRu4aiAN_J"
      },
      "execution_count": 17,
      "outputs": []
    },
    {
      "cell_type": "code",
      "source": [
        "#Function to vectorize the prediction Set\n",
        "def vector_for_pred(model, input_docs):\n",
        "    sents = input_docs\n",
        "    feature_vectors = [(model.infer_vector(doc.words, steps=100)) for doc in sents]\n",
        "    return feature_vectors"
      ],
      "metadata": {
        "id": "ja34DNgPARIb"
      },
      "execution_count": 18,
      "outputs": []
    },
    {
      "cell_type": "code",
      "source": [
        "## CamemBERT functions"
      ],
      "metadata": {
        "id": "pnxfDx4poCfB"
      },
      "execution_count": null,
      "outputs": []
    },
    {
      "cell_type": "code",
      "source": [
        "tokenizer = AutoTokenizer.from_pretrained('camembert-base')\n",
        "\n",
        "def tokenize_batch(samples, tokenizer):\n",
        "    text = [sample[\"sentences\"] for sample in samples]\n",
        "    labels = torch.tensor([sample[\"label\"] for sample in samples])\n",
        "    str_labels = [sample[\"label\"] for sample in samples]\n",
        "    # The tokenizer handles\n",
        "    # - Tokenization (amazing right?)\n",
        "    # - Padding (adding empty tokens so that each example has the same length)\n",
        "    # - Truncation (cutting samples that are too long)\n",
        "    # - Special tokens (in CamemBERT, each sentence ends with a special token </s>)\n",
        "    # - Attention mask (a binary vector which tells the model which tokens to look at. For instance it will not compute anything if the token is a padding token)\n",
        "    tokens = tokenizer(text, padding=\"longest\", return_tensors=\"pt\")\n",
        "\n",
        "    return {\"input_ids\": tokens.input_ids, \"attention_mask\": tokens.attention_mask, \"labels\": labels, \"str_labels\": str_labels, \"sentences\": text}"
      ],
      "metadata": {
        "id": "8aIb0TyJoEQO"
      },
      "execution_count": 57,
      "outputs": []
    },
    {
      "cell_type": "code",
      "source": [
        "class LightningModel(pl.LightningModule):\n",
        "    def __init__(self, model_name, num_labels, lr, weight_decay, from_scratch=False):\n",
        "        super().__init__()\n",
        "        self.save_hyperparameters()\n",
        "        if from_scratch:\n",
        "            # Si `from_scratch` est vrai, on charge uniquement la config (nombre de couches, hidden size, etc.) et pas les poids du modèle \n",
        "            config = AutoConfig.from_pretrained(\n",
        "                model_name, num_labels=num_labels\n",
        "            )\n",
        "            self.model = AutoModelForSequenceClassification.from_config(config)\n",
        "        else:\n",
        "            # Cette méthode permet de télécharger le bon modèle pré-entraîné directement depuis le Hub de HuggingFace sur lequel sont stockés de nombreux modèles\n",
        "            self.model = AutoModelForSequenceClassification.from_pretrained(\n",
        "                model_name, num_labels=num_labels\n",
        "            )\n",
        "        self.lr = lr\n",
        "        self.weight_decay = weight_decay\n",
        "        self.num_labels = self.model.num_labels\n",
        "\n",
        "    def forward(self, batch):\n",
        "        return self.model(\n",
        "            input_ids=batch[\"input_ids\"],\n",
        "            attention_mask=batch[\"attention_mask\"]\n",
        "        )\n",
        "\n",
        "    def training_step(self, batch):\n",
        "        out = self.forward(batch)\n",
        "\n",
        "        logits = out.logits\n",
        "        # -------- MASKED --------\n",
        "        loss_fn = torch.nn.CrossEntropyLoss()\n",
        "        loss = loss_fn(logits.view(-1, self.num_labels), batch[\"labels\"].view(-1))\n",
        "\n",
        "        # ------ END MASKED ------\n",
        "\n",
        "        self.log(\"train/loss\", loss)\n",
        "\n",
        "        return loss\n",
        "\n",
        "    def validation_step(self, batch, batch_index):\n",
        "        labels = batch[\"labels\"]\n",
        "        out = self.forward(batch)\n",
        "\n",
        "        preds = torch.max(out.logits, -1).indices\n",
        "        # -------- MASKED --------\n",
        "        acc = (batch[\"labels\"] == preds).float().mean()\n",
        "        # ------ END MASKED ------\n",
        "        self.log(\"valid/acc\", acc)\n",
        "\n",
        "        f1 = f1_score(batch[\"labels\"].cpu().tolist(), preds.cpu().tolist(), average=\"macro\")\n",
        "        self.log(\"valid/f1\", f1)\n",
        "\n",
        "    def predict_step(self, batch, batch_idx):\n",
        "        \"\"\"La fonction predict step facilite la prédiction de données. Elle est \n",
        "        similaire à `validation_step`, sans le calcul des métriques.\n",
        "        \"\"\"\n",
        "        out = self.forward(batch)\n",
        "\n",
        "        return torch.max(out.logits, -1).indices\n",
        "\n",
        "    def configure_optimizers(self):\n",
        "        return torch.optim.AdamW(\n",
        "            self.model.parameters(), lr=self.lr, weight_decay=self.weight_decay\n",
        "        )"
      ],
      "metadata": {
        "id": "5imrHmXapb4g"
      },
      "execution_count": 65,
      "outputs": []
    },
    {
      "cell_type": "markdown",
      "source": [
        "## Logistic Regression with TFidf vectoriser (no data cleaning)"
      ],
      "metadata": {
        "id": "95ZH1_rWCviE"
      }
    },
    {
      "cell_type": "code",
      "source": [
        "#Define classifier and pipeline creation\n",
        "LR = LogisticRegression(solver='lbfgs', random_state=0)\n",
        "pipe_LR = pipeWithTFIDF(LR)\n",
        "\n",
        "# fit, predict and evaluate\n",
        "y_pred_LR = fitPredictAndEvaluateModel(pipe_LR,\"pipe_LR\")\n"
      ],
      "metadata": {
        "colab": {
          "base_uri": "https://localhost:8080/"
        },
        "id": "_Nggt40pC5d6",
        "outputId": "2b15a047-2e16-4c71-ffdd-e80c1bcd39fc"
      },
      "execution_count": 19,
      "outputs": [
        {
          "output_type": "stream",
          "name": "stdout",
          "text": [
            "CONFUSION MATRIX:\n",
            "[[93 31 21 10  4  2]\n",
            " [54 60 30  6  6  8]\n",
            " [12 38 64 17  9 20]\n",
            " [ 6  6 15 66 27 24]\n",
            " [ 4  4 10 37 73 45]\n",
            " [ 7  8  8 19 24 92]]\n",
            "ACCURACY SCORE:\n",
            "0.4667\n",
            "CLASSIFICATION REPORT:\n",
            "\tPrecision: 0.4645\n",
            "\tRecall: 0.4677\n",
            "\tF1_Score: 0.4640\n"
          ]
        }
      ]
    },
    {
      "cell_type": "markdown",
      "source": [
        "## KNN & hyperparameter optimization (no data cleaning)"
      ],
      "metadata": {
        "id": "XlrgLzHrERoB"
      }
    },
    {
      "cell_type": "code",
      "source": [
        "# Import KNeighborsClassifier\n",
        "from sklearn.neighbors import KNeighborsClassifier"
      ],
      "metadata": {
        "id": "-MbRX89zRgvl"
      },
      "execution_count": 20,
      "outputs": []
    },
    {
      "cell_type": "markdown",
      "source": [
        "###Knn Basic"
      ],
      "metadata": {
        "id": "XVykmI_ZEVaM"
      }
    },
    {
      "cell_type": "code",
      "source": [
        "# Define classifier and pipeline creation\n",
        "knn = KNeighborsClassifier()\n",
        "pipe_knn = pipeWithTFIDF(knn)\n",
        "\n",
        "# fit, predict and evaluate\n",
        "y_pred_knn = fitPredictAndEvaluateModel(pipe_knn,\"pipe_knn\")"
      ],
      "metadata": {
        "colab": {
          "base_uri": "https://localhost:8080/"
        },
        "id": "MgqngxgrETfD",
        "outputId": "b94522a7-1d87-4db0-a0a9-71e9436d73e6"
      },
      "execution_count": 21,
      "outputs": [
        {
          "output_type": "stream",
          "name": "stdout",
          "text": [
            "CONFUSION MATRIX:\n",
            "[[121  28   8   1   1   2]\n",
            " [ 98  51  12   1   1   1]\n",
            " [ 81  39  33   3   1   3]\n",
            " [ 49  30  19  29   3  14]\n",
            " [ 48  36  29  15  29  16]\n",
            " [ 37  29  17  23   9  43]]\n",
            "ACCURACY SCORE:\n",
            "0.3187\n",
            "CLASSIFICATION REPORT:\n",
            "\tPrecision: 0.4007\n",
            "\tRecall: 0.3183\n",
            "\tF1_Score: 0.3022\n"
          ]
        }
      ]
    },
    {
      "cell_type": "markdown",
      "source": [
        "###Knn with hyperparameter optimization "
      ],
      "metadata": {
        "id": "IxBAC36yEwib"
      }
    },
    {
      "cell_type": "code",
      "source": [
        "#Preparation of the GridSearch\n",
        "seed = 0\n",
        "grid_params = { 'n_neighbors' : [5,7,9,11,13,15],\n",
        "               'weights' : ['uniform','distance'],\n",
        "               'metric' : ['minkowski','euclidean','manhattan']}\n",
        "gs = GridSearchCV(KNeighborsClassifier(), grid_params, verbose = 1, cv=3, n_jobs = -1)\n",
        "\n",
        "#GridSearch and Print Results\n",
        "getResultsGridSearch(gs)"
      ],
      "metadata": {
        "colab": {
          "base_uri": "https://localhost:8080/"
        },
        "id": "lxrqEPRjE0U6",
        "outputId": "eb4db46a-a788-4a44-d3fe-9db304aa41e5"
      },
      "execution_count": 22,
      "outputs": [
        {
          "output_type": "stream",
          "name": "stdout",
          "text": [
            "Fitting 3 folds for each of 36 candidates, totalling 108 fits\n",
            "Best Score : \n",
            "0.3466145833333334\n",
            "Best Params : \n",
            "{'metric': 'minkowski', 'n_neighbors': 11, 'weights': 'distance'}\n"
          ]
        }
      ]
    },
    {
      "cell_type": "code",
      "source": [
        "# Define classifier and pipeline creation \n",
        "## This time we put the parameters we got in previous step\n",
        "knn_GS = KNeighborsClassifier(n_neighbors = 11, weights = 'distance',metric = 'minkowski')\n",
        "pipe_knn_GS = pipeWithTFIDF(knn)\n",
        "\n",
        "# fit, predict and evaluate\n",
        "y_pred_knn_GS = fitPredictAndEvaluateModel(pipe_knn_GS,\"pip_knn_GS\")"
      ],
      "metadata": {
        "colab": {
          "base_uri": "https://localhost:8080/"
        },
        "id": "CqNCllR4QaAf",
        "outputId": "4d81ae7f-3c3d-40cf-e263-85dd8edf2163"
      },
      "execution_count": 23,
      "outputs": [
        {
          "output_type": "stream",
          "name": "stdout",
          "text": [
            "CONFUSION MATRIX:\n",
            "[[121  28   8   1   1   2]\n",
            " [ 98  51  12   1   1   1]\n",
            " [ 81  39  33   3   1   3]\n",
            " [ 49  30  19  29   3  14]\n",
            " [ 48  36  29  15  29  16]\n",
            " [ 37  29  17  23   9  43]]\n",
            "ACCURACY SCORE:\n",
            "0.3187\n",
            "CLASSIFICATION REPORT:\n",
            "\tPrecision: 0.4007\n",
            "\tRecall: 0.3183\n",
            "\tF1_Score: 0.3022\n"
          ]
        }
      ]
    },
    {
      "cell_type": "markdown",
      "source": [
        "##Decision Tree & Hyperparameter optimization (no data cleaning))"
      ],
      "metadata": {
        "id": "AMDalKeNSaKr"
      }
    },
    {
      "cell_type": "code",
      "source": [
        "# Import Decision Tree Classifier\n",
        "from sklearn.tree import DecisionTreeClassifier"
      ],
      "metadata": {
        "id": "DeqqJL3oTF09"
      },
      "execution_count": 24,
      "outputs": []
    },
    {
      "cell_type": "markdown",
      "source": [
        "### Decision tree Basic"
      ],
      "metadata": {
        "id": "IqGVDxEBSiVy"
      }
    },
    {
      "cell_type": "code",
      "source": [
        "# Define classifier and pipeline creation\n",
        "dt = DecisionTreeClassifier(random_state=0)\n",
        "pipe_dt = pipeWithTFIDF(dt)\n",
        "\n",
        "# fit, predict and evaluate\n",
        "y_pred_dt = fitPredictAndEvaluateModel(pipe_dt,\"pipe_dt\")"
      ],
      "metadata": {
        "colab": {
          "base_uri": "https://localhost:8080/"
        },
        "id": "PO3bqK_DSc1I",
        "outputId": "262d328d-3256-49ff-eef5-99b683599667"
      },
      "execution_count": 25,
      "outputs": [
        {
          "output_type": "stream",
          "name": "stdout",
          "text": [
            "CONFUSION MATRIX:\n",
            "[[78 38 25 11  2  7]\n",
            " [49 54 33 18  3  7]\n",
            " [24 41 37 25 18 15]\n",
            " [10 20 30 38 24 22]\n",
            " [ 8 19 31 39 39 37]\n",
            " [15 13 28 33 30 39]]\n",
            "ACCURACY SCORE:\n",
            "0.2969\n",
            "CLASSIFICATION REPORT:\n",
            "\tPrecision: 0.2986\n",
            "\tRecall: 0.2969\n",
            "\tF1_Score: 0.2945\n"
          ]
        }
      ]
    },
    {
      "cell_type": "markdown",
      "source": [
        "###Decision Tree with hyperparameter optimization"
      ],
      "metadata": {
        "id": "g8a1lcttTZux"
      }
    },
    {
      "cell_type": "code",
      "source": [
        "#Preparation of the GridSearch\n",
        "seed = 0\n",
        "grid_params = {'max_depth' : range(1,60)}\n",
        "gs = GridSearchCV(DecisionTreeClassifier(), grid_params, verbose = 1, cv=3, n_jobs = -1)\n",
        "\n",
        "#GridSearch and Print Results\n",
        "getResultsGridSearch(gs)\n"
      ],
      "metadata": {
        "colab": {
          "base_uri": "https://localhost:8080/"
        },
        "id": "3ozK0b1dUBLW",
        "outputId": "223009ee-68cd-43d5-f7f1-083e4392dd05"
      },
      "execution_count": 26,
      "outputs": [
        {
          "output_type": "stream",
          "name": "stdout",
          "text": [
            "Fitting 3 folds for each of 59 candidates, totalling 177 fits\n",
            "Best Score : \n",
            "0.32708333333333334\n",
            "Best Params : \n",
            "{'max_depth': 56}\n"
          ]
        }
      ]
    },
    {
      "cell_type": "code",
      "source": [
        "# Define classifier and pipeline creation\n",
        "dt = DecisionTreeClassifier(max_depth=43, random_state=0)\n",
        "pipe_dt_GS = pipeWithTFIDF(dt)\n",
        "\n",
        "# fit, predict and evaluate\n",
        "y_pred_dt_GS = fitPredictAndEvaluateModel(pipe_dt_GS,\"pipe_dt_GS\")"
      ],
      "metadata": {
        "colab": {
          "base_uri": "https://localhost:8080/"
        },
        "id": "VqYmKqskWG4C",
        "outputId": "ed402d3a-69de-4d4a-bcbc-ac4d69f0fff3"
      },
      "execution_count": 27,
      "outputs": [
        {
          "output_type": "stream",
          "name": "stdout",
          "text": [
            "CONFUSION MATRIX:\n",
            "[[84 34 29  7  1  6]\n",
            " [48 53 36 15  4  8]\n",
            " [34 39 38 18 17 14]\n",
            " [ 9 23 27 44 19 22]\n",
            " [14 19 27 47 35 31]\n",
            " [16 12 27 37 32 34]]\n",
            "ACCURACY SCORE:\n",
            "0.3000\n",
            "CLASSIFICATION REPORT:\n",
            "\tPrecision: 0.2987\n",
            "\tRecall: 0.3009\n",
            "\tF1_Score: 0.2947\n"
          ]
        }
      ]
    },
    {
      "cell_type": "markdown",
      "source": [
        "## Random Forest (no data cleaning)"
      ],
      "metadata": {
        "id": "GG4m1owaadYQ"
      }
    },
    {
      "cell_type": "code",
      "source": [
        "from sklearn.ensemble import RandomForestClassifier"
      ],
      "metadata": {
        "id": "ycgLD_weageC"
      },
      "execution_count": 28,
      "outputs": []
    },
    {
      "cell_type": "code",
      "source": [
        "# Define classifier and pipeline creation\n",
        "rf = RandomForestClassifier(random_state=0)\n",
        "pipe_rf = pipeWithTFIDF(rf)\n",
        "\n",
        "# fit, predict and evaluate\n",
        "y_pred_rf = fitPredictAndEvaluateModel(pipe_rf,\"pipe_rf\")"
      ],
      "metadata": {
        "colab": {
          "base_uri": "https://localhost:8080/"
        },
        "id": "MollJ3ViapuQ",
        "outputId": "a4fbdf5c-c3ec-4066-f721-c6e878fedfa3"
      },
      "execution_count": 29,
      "outputs": [
        {
          "output_type": "stream",
          "name": "stdout",
          "text": [
            "CONFUSION MATRIX:\n",
            "[[125  20   7   7   2   0]\n",
            " [ 83  51  21   7   2   0]\n",
            " [ 39  39  47  20   6   9]\n",
            " [ 17  11  13  68  23  12]\n",
            " [ 16  16  23  46  46  26]\n",
            " [ 19  13  10  33  23  60]]\n",
            "ACCURACY SCORE:\n",
            "0.4135\n",
            "CLASSIFICATION REPORT:\n",
            "\tPrecision: 0.4223\n",
            "\tRecall: 0.4165\n",
            "\tF1_Score: 0.4014\n"
          ]
        }
      ]
    },
    {
      "cell_type": "markdown",
      "source": [
        "##Logistic Regression with Crossvalidation (no data cleaning)"
      ],
      "metadata": {
        "id": "EcOlsL4oH5qY"
      }
    },
    {
      "cell_type": "code",
      "source": [
        "LRCV = LogisticRegressionCV(solver='lbfgs',cv=5 ,max_iter=5000, random_state=0)\n",
        "\n",
        "# Define classifier and pipeline creation\n",
        "LRCV = LogisticRegressionCV(random_state=0)\n",
        "pipe_LRCV = pipeWithTFIDF(LRCV)\n",
        "\n",
        "# fit, predict and evaluate\n",
        "y_pred_LRCV = fitPredictAndEvaluateModel(pipe_LRCV,\"pipe_LRCV\")"
      ],
      "metadata": {
        "colab": {
          "base_uri": "https://localhost:8080/"
        },
        "id": "dtV3hN_UCWZl",
        "outputId": "82d8c15d-abac-4cf7-9c09-50f164f39c0a"
      },
      "execution_count": 31,
      "outputs": [
        {
          "output_type": "stream",
          "name": "stderr",
          "text": [
            "/usr/local/lib/python3.8/dist-packages/sklearn/linear_model/_logistic.py:814: ConvergenceWarning: lbfgs failed to converge (status=1):\n",
            "STOP: TOTAL NO. of ITERATIONS REACHED LIMIT.\n",
            "\n",
            "Increase the number of iterations (max_iter) or scale the data as shown in:\n",
            "    https://scikit-learn.org/stable/modules/preprocessing.html\n",
            "Please also refer to the documentation for alternative solver options:\n",
            "    https://scikit-learn.org/stable/modules/linear_model.html#logistic-regression\n",
            "  n_iter_i = _check_optimize_result(\n",
            "/usr/local/lib/python3.8/dist-packages/sklearn/linear_model/_logistic.py:814: ConvergenceWarning: lbfgs failed to converge (status=1):\n",
            "STOP: TOTAL NO. of ITERATIONS REACHED LIMIT.\n",
            "\n",
            "Increase the number of iterations (max_iter) or scale the data as shown in:\n",
            "    https://scikit-learn.org/stable/modules/preprocessing.html\n",
            "Please also refer to the documentation for alternative solver options:\n",
            "    https://scikit-learn.org/stable/modules/linear_model.html#logistic-regression\n",
            "  n_iter_i = _check_optimize_result(\n",
            "/usr/local/lib/python3.8/dist-packages/sklearn/linear_model/_logistic.py:814: ConvergenceWarning: lbfgs failed to converge (status=1):\n",
            "STOP: TOTAL NO. of ITERATIONS REACHED LIMIT.\n",
            "\n",
            "Increase the number of iterations (max_iter) or scale the data as shown in:\n",
            "    https://scikit-learn.org/stable/modules/preprocessing.html\n",
            "Please also refer to the documentation for alternative solver options:\n",
            "    https://scikit-learn.org/stable/modules/linear_model.html#logistic-regression\n",
            "  n_iter_i = _check_optimize_result(\n",
            "/usr/local/lib/python3.8/dist-packages/sklearn/linear_model/_logistic.py:814: ConvergenceWarning: lbfgs failed to converge (status=1):\n",
            "STOP: TOTAL NO. of ITERATIONS REACHED LIMIT.\n",
            "\n",
            "Increase the number of iterations (max_iter) or scale the data as shown in:\n",
            "    https://scikit-learn.org/stable/modules/preprocessing.html\n",
            "Please also refer to the documentation for alternative solver options:\n",
            "    https://scikit-learn.org/stable/modules/linear_model.html#logistic-regression\n",
            "  n_iter_i = _check_optimize_result(\n",
            "/usr/local/lib/python3.8/dist-packages/sklearn/linear_model/_logistic.py:814: ConvergenceWarning: lbfgs failed to converge (status=1):\n",
            "STOP: TOTAL NO. of ITERATIONS REACHED LIMIT.\n",
            "\n",
            "Increase the number of iterations (max_iter) or scale the data as shown in:\n",
            "    https://scikit-learn.org/stable/modules/preprocessing.html\n",
            "Please also refer to the documentation for alternative solver options:\n",
            "    https://scikit-learn.org/stable/modules/linear_model.html#logistic-regression\n",
            "  n_iter_i = _check_optimize_result(\n"
          ]
        },
        {
          "output_type": "stream",
          "name": "stdout",
          "text": [
            "CONFUSION MATRIX:\n",
            "[[91 34 20  9  4  3]\n",
            " [50 62 34  3  5 10]\n",
            " [12 35 72 14  7 20]\n",
            " [ 6  6 18 67 24 23]\n",
            " [ 3  5 13 40 65 47]\n",
            " [ 7  6  9 16 23 97]]\n",
            "ACCURACY SCORE:\n",
            "0.4729\n",
            "CLASSIFICATION REPORT:\n",
            "\tPrecision: 0.4723\n",
            "\tRecall: 0.4747\n",
            "\tF1_Score: 0.4703\n"
          ]
        }
      ]
    },
    {
      "cell_type": "markdown",
      "source": [
        "##LinearSVC (no data cleaning)"
      ],
      "metadata": {
        "id": "ipqjaG5Nbz-q"
      }
    },
    {
      "cell_type": "code",
      "source": [
        "from sklearn.svm import LinearSVC"
      ],
      "metadata": {
        "id": "LjISwCFbb4IS"
      },
      "execution_count": 32,
      "outputs": []
    },
    {
      "cell_type": "code",
      "source": [
        "# Define classifier and pipeline creation\n",
        "Lsvc = LinearSVC(random_state=0)\n",
        "pipe_Lsvc = pipeWithTFIDF(Lsvc)\n",
        "\n",
        "# fit, predict and evaluate\n",
        "y_pred_Lsvc = fitPredictAndEvaluateModel(pipe_Lsvc,\"pipe_Lsvc\")"
      ],
      "metadata": {
        "colab": {
          "base_uri": "https://localhost:8080/"
        },
        "id": "jGBM7VlJb9IB",
        "outputId": "b3482f58-3081-4eb0-d821-ea37f5a05e5f"
      },
      "execution_count": 33,
      "outputs": [
        {
          "output_type": "stream",
          "name": "stdout",
          "text": [
            "CONFUSION MATRIX:\n",
            "[[96 39 15  5  3  3]\n",
            " [52 65 32  3  5  7]\n",
            " [13 38 74 10  6 19]\n",
            " [ 5 10 19 61 24 25]\n",
            " [ 8  8 16 35 66 40]\n",
            " [ 6 11  8 16 22 95]]\n",
            "ACCURACY SCORE:\n",
            "0.4760\n",
            "CLASSIFICATION REPORT:\n",
            "\tPrecision: 0.4767\n",
            "\tRecall: 0.4769\n",
            "\tF1_Score: 0.4737\n"
          ]
        }
      ]
    },
    {
      "cell_type": "markdown",
      "source": [
        "##MultinomialNB (no data cleaning)"
      ],
      "metadata": {
        "id": "P96Tvz-mc29u"
      }
    },
    {
      "cell_type": "code",
      "source": [
        "from sklearn.naive_bayes import MultinomialNB"
      ],
      "metadata": {
        "id": "KESY4KZEc5nY"
      },
      "execution_count": 34,
      "outputs": []
    },
    {
      "cell_type": "code",
      "source": [
        "# Define classifier and pipeline creation\n",
        "mnb = MultinomialNB()\n",
        "pipe_mnb = pipeWithTFIDF(mnb)\n",
        "\n",
        "# fit, predict and evaluate\n",
        "y_pred_mnb = fitPredictAndEvaluateModel(pipe_mnb,\"pipe_mnb\")"
      ],
      "metadata": {
        "colab": {
          "base_uri": "https://localhost:8080/"
        },
        "id": "4tMuNl4bc76c",
        "outputId": "54fef747-8109-4253-f446-badc346d829c"
      },
      "execution_count": 35,
      "outputs": [
        {
          "output_type": "stream",
          "name": "stdout",
          "text": [
            "CONFUSION MATRIX:\n",
            "[[ 84  44  25   4   1   3]\n",
            " [ 39  79  31   3   2  10]\n",
            " [  7  43  80   6   4  20]\n",
            " [  1  10  23  60  20  30]\n",
            " [  2   9  15  25  53  69]\n",
            " [  5  13   8  10  15 107]]\n",
            "ACCURACY SCORE:\n",
            "0.4823\n",
            "CLASSIFICATION REPORT:\n",
            "\tPrecision: 0.5014\n",
            "\tRecall: 0.4839\n",
            "\tF1_Score: 0.4795\n"
          ]
        }
      ]
    },
    {
      "cell_type": "markdown",
      "source": [
        "##Ensemble Classifier (no data cleaning)\n",
        "\n"
      ],
      "metadata": {
        "id": "lLa5YVLddsDN"
      }
    },
    {
      "cell_type": "code",
      "source": [
        "from sklearn.ensemble import VotingClassifier"
      ],
      "metadata": {
        "id": "3kLiFCZ4duTo"
      },
      "execution_count": 36,
      "outputs": []
    },
    {
      "cell_type": "code",
      "source": [
        "#Definition of an ensemble with a LR and a MNB\n",
        "soft_voting_clf = VotingClassifier(estimators=[('LR', pipe_LR), ('mnb', pipe_mnb) ], voting='soft')\n",
        "\n",
        "#Train\n",
        "soft_voting_clf.fit(X_train, y_train) # training\n",
        "\n",
        "#Pred\n",
        "y_pred = soft_voting_clf.predict(X_test)\n",
        "\n",
        "#Exporting a file with the results\n",
        "predictions = pd.DataFrame(y_pred,columns=['difficulty'])\n",
        "predictions.to_csv(\"ensemble_LR_MNB.csv\")\n",
        "\n",
        "#Evaluate\n",
        "evaluate(y_test, y_pred)"
      ],
      "metadata": {
        "id": "R8D3Mo_8d9IP",
        "outputId": "a53c09e7-4125-4fc9-9dba-64d25fa98842",
        "colab": {
          "base_uri": "https://localhost:8080/"
        }
      },
      "execution_count": 37,
      "outputs": [
        {
          "output_type": "stream",
          "name": "stdout",
          "text": [
            "CONFUSION MATRIX:\n",
            "[[ 91  36  22   7   2   3]\n",
            " [ 48  69  30   4   4   9]\n",
            " [ 12  38  70  13   5  22]\n",
            " [  5   4  18  65  26  26]\n",
            " [  4   5  15  32  63  54]\n",
            " [  3   9  10  15  18 103]]\n",
            "ACCURACY SCORE:\n",
            "0.4802\n",
            "CLASSIFICATION REPORT:\n",
            "\tPrecision: 0.4829\n",
            "\tRecall: 0.4818\n",
            "\tF1_Score: 0.4773\n"
          ]
        }
      ]
    },
    {
      "cell_type": "markdown",
      "source": [
        "##Doc2Vec & Logistic Regression (With data cleaning)"
      ],
      "metadata": {
        "id": "jekvZA3TfweS"
      }
    },
    {
      "cell_type": "markdown",
      "source": [
        "###Data Cleaning"
      ],
      "metadata": {
        "id": "AYTjjGmKf5r9"
      }
    },
    {
      "cell_type": "markdown",
      "source": [
        "#### StopWords and punctuation"
      ],
      "metadata": {
        "id": "pt2I2n8Nf7vm"
      }
    },
    {
      "cell_type": "code",
      "source": [
        "nltk.download('wordnet')\n",
        "nltk.download('punkt')\n",
        "nltk.download('stopwords')\n",
        "nlp = spacy.load('fr_core_news_sm')"
      ],
      "metadata": {
        "id": "ylC38VLx7yg-"
      },
      "execution_count": null,
      "outputs": []
    },
    {
      "cell_type": "code",
      "source": [
        "#Convert to lowercase\n",
        "df['sentence'] = df['sentence'].str.lower()\n",
        "df_pred['sentence'] = df_pred['sentence'].str.lower()\n",
        "\n",
        "#Remove punctuation\n",
        "df['sentence'] = df['sentence'].apply(remove_punctuations)\n",
        "df_pred['sentence'] = df_pred['sentence'].apply(remove_punctuations)"
      ],
      "metadata": {
        "id": "YFBkL7Xef4LL"
      },
      "execution_count": 39,
      "outputs": []
    },
    {
      "cell_type": "code",
      "source": [
        "#Define list of stopwords\n",
        "french_stopwords = spacy.lang.fr.stop_words.STOP_WORDS\n",
        "french_stopwords.add('a')\n",
        "french_stopwords.add('c')\n",
        "french_stopwords.add('d')\n",
        "french_stopwords.add('e')\n",
        "french_stopwords.add('j')\n",
        "french_stopwords.add('l')\n",
        "french_stopwords.add('m')\n",
        "french_stopwords.add('n')\n",
        "french_stopwords.add('s')\n",
        "french_stopwords.add('t')\n",
        "french_stopwords.add('y')\n",
        "french_stopwords.add('qu')"
      ],
      "metadata": {
        "id": "s4nk1n7f7-7N"
      },
      "execution_count": 40,
      "outputs": []
    },
    {
      "cell_type": "code",
      "source": [
        "#Remove stopwords\n",
        "df['sentence'] = df['sentence'].apply(lambda x: ' '.join([word for word in x.split() if word not in (french_stopwords)]))\n",
        "df_pred['sentence'] = df_pred['sentence'].apply(lambda x: ' '.join([word for word in x.split() if word not in (french_stopwords)]))\n",
        "df_pred.head(5)"
      ],
      "metadata": {
        "colab": {
          "base_uri": "https://localhost:8080/",
          "height": 363
        },
        "id": "v6suzpAn8NNP",
        "outputId": "18b10347-8035-40df-e62f-29c7efaee000"
      },
      "execution_count": 41,
      "outputs": [
        {
          "output_type": "execute_result",
          "data": {
            "text/plain": [
              "   id                                           sentence\n",
              "0   0               dûmes excuser propos eûmes prononcés\n",
              "1   1      pouvez savoir plaisir recevoir bonne nouvelle\n",
              "2   2            paradoxalement boire froid bonne parade\n",
              "3   3                        étonnant saison mystérieuse\n",
              "4   4  corps golo essence surnaturelle monture arrang...\n",
              "5   5  jeta cri petit cri voulut dresser débattre rep...\n",
              "6   6  madame monsieur fils léo arrive jours retard é...\n",
              "7   7                                  trouvé repas midi\n",
              "8   8  racine mal bel bien penser tendant manichéisme...\n",
              "9   9                                             madame"
            ],
            "text/html": [
              "\n",
              "  <div id=\"df-b85221b3-f1a3-4a37-b41c-5a49dddca33f\">\n",
              "    <div class=\"colab-df-container\">\n",
              "      <div>\n",
              "<style scoped>\n",
              "    .dataframe tbody tr th:only-of-type {\n",
              "        vertical-align: middle;\n",
              "    }\n",
              "\n",
              "    .dataframe tbody tr th {\n",
              "        vertical-align: top;\n",
              "    }\n",
              "\n",
              "    .dataframe thead th {\n",
              "        text-align: right;\n",
              "    }\n",
              "</style>\n",
              "<table border=\"1\" class=\"dataframe\">\n",
              "  <thead>\n",
              "    <tr style=\"text-align: right;\">\n",
              "      <th></th>\n",
              "      <th>id</th>\n",
              "      <th>sentence</th>\n",
              "    </tr>\n",
              "  </thead>\n",
              "  <tbody>\n",
              "    <tr>\n",
              "      <th>0</th>\n",
              "      <td>0</td>\n",
              "      <td>dûmes excuser propos eûmes prononcés</td>\n",
              "    </tr>\n",
              "    <tr>\n",
              "      <th>1</th>\n",
              "      <td>1</td>\n",
              "      <td>pouvez savoir plaisir recevoir bonne nouvelle</td>\n",
              "    </tr>\n",
              "    <tr>\n",
              "      <th>2</th>\n",
              "      <td>2</td>\n",
              "      <td>paradoxalement boire froid bonne parade</td>\n",
              "    </tr>\n",
              "    <tr>\n",
              "      <th>3</th>\n",
              "      <td>3</td>\n",
              "      <td>étonnant saison mystérieuse</td>\n",
              "    </tr>\n",
              "    <tr>\n",
              "      <th>4</th>\n",
              "      <td>4</td>\n",
              "      <td>corps golo essence surnaturelle monture arrang...</td>\n",
              "    </tr>\n",
              "    <tr>\n",
              "      <th>5</th>\n",
              "      <td>5</td>\n",
              "      <td>jeta cri petit cri voulut dresser débattre rep...</td>\n",
              "    </tr>\n",
              "    <tr>\n",
              "      <th>6</th>\n",
              "      <td>6</td>\n",
              "      <td>madame monsieur fils léo arrive jours retard é...</td>\n",
              "    </tr>\n",
              "    <tr>\n",
              "      <th>7</th>\n",
              "      <td>7</td>\n",
              "      <td>trouvé repas midi</td>\n",
              "    </tr>\n",
              "    <tr>\n",
              "      <th>8</th>\n",
              "      <td>8</td>\n",
              "      <td>racine mal bel bien penser tendant manichéisme...</td>\n",
              "    </tr>\n",
              "    <tr>\n",
              "      <th>9</th>\n",
              "      <td>9</td>\n",
              "      <td>madame</td>\n",
              "    </tr>\n",
              "  </tbody>\n",
              "</table>\n",
              "</div>\n",
              "      <button class=\"colab-df-convert\" onclick=\"convertToInteractive('df-b85221b3-f1a3-4a37-b41c-5a49dddca33f')\"\n",
              "              title=\"Convert this dataframe to an interactive table.\"\n",
              "              style=\"display:none;\">\n",
              "        \n",
              "  <svg xmlns=\"http://www.w3.org/2000/svg\" height=\"24px\"viewBox=\"0 0 24 24\"\n",
              "       width=\"24px\">\n",
              "    <path d=\"M0 0h24v24H0V0z\" fill=\"none\"/>\n",
              "    <path d=\"M18.56 5.44l.94 2.06.94-2.06 2.06-.94-2.06-.94-.94-2.06-.94 2.06-2.06.94zm-11 1L8.5 8.5l.94-2.06 2.06-.94-2.06-.94L8.5 2.5l-.94 2.06-2.06.94zm10 10l.94 2.06.94-2.06 2.06-.94-2.06-.94-.94-2.06-.94 2.06-2.06.94z\"/><path d=\"M17.41 7.96l-1.37-1.37c-.4-.4-.92-.59-1.43-.59-.52 0-1.04.2-1.43.59L10.3 9.45l-7.72 7.72c-.78.78-.78 2.05 0 2.83L4 21.41c.39.39.9.59 1.41.59.51 0 1.02-.2 1.41-.59l7.78-7.78 2.81-2.81c.8-.78.8-2.07 0-2.86zM5.41 20L4 18.59l7.72-7.72 1.47 1.35L5.41 20z\"/>\n",
              "  </svg>\n",
              "      </button>\n",
              "      \n",
              "  <style>\n",
              "    .colab-df-container {\n",
              "      display:flex;\n",
              "      flex-wrap:wrap;\n",
              "      gap: 12px;\n",
              "    }\n",
              "\n",
              "    .colab-df-convert {\n",
              "      background-color: #E8F0FE;\n",
              "      border: none;\n",
              "      border-radius: 50%;\n",
              "      cursor: pointer;\n",
              "      display: none;\n",
              "      fill: #1967D2;\n",
              "      height: 32px;\n",
              "      padding: 0 0 0 0;\n",
              "      width: 32px;\n",
              "    }\n",
              "\n",
              "    .colab-df-convert:hover {\n",
              "      background-color: #E2EBFA;\n",
              "      box-shadow: 0px 1px 2px rgba(60, 64, 67, 0.3), 0px 1px 3px 1px rgba(60, 64, 67, 0.15);\n",
              "      fill: #174EA6;\n",
              "    }\n",
              "\n",
              "    [theme=dark] .colab-df-convert {\n",
              "      background-color: #3B4455;\n",
              "      fill: #D2E3FC;\n",
              "    }\n",
              "\n",
              "    [theme=dark] .colab-df-convert:hover {\n",
              "      background-color: #434B5C;\n",
              "      box-shadow: 0px 1px 3px 1px rgba(0, 0, 0, 0.15);\n",
              "      filter: drop-shadow(0px 1px 2px rgba(0, 0, 0, 0.3));\n",
              "      fill: #FFFFFF;\n",
              "    }\n",
              "  </style>\n",
              "\n",
              "      <script>\n",
              "        const buttonEl =\n",
              "          document.querySelector('#df-b85221b3-f1a3-4a37-b41c-5a49dddca33f button.colab-df-convert');\n",
              "        buttonEl.style.display =\n",
              "          google.colab.kernel.accessAllowed ? 'block' : 'none';\n",
              "\n",
              "        async function convertToInteractive(key) {\n",
              "          const element = document.querySelector('#df-b85221b3-f1a3-4a37-b41c-5a49dddca33f');\n",
              "          const dataTable =\n",
              "            await google.colab.kernel.invokeFunction('convertToInteractive',\n",
              "                                                     [key], {});\n",
              "          if (!dataTable) return;\n",
              "\n",
              "          const docLinkHtml = 'Like what you see? Visit the ' +\n",
              "            '<a target=\"_blank\" href=https://colab.research.google.com/notebooks/data_table.ipynb>data table notebook</a>'\n",
              "            + ' to learn more about interactive tables.';\n",
              "          element.innerHTML = '';\n",
              "          dataTable['output_type'] = 'display_data';\n",
              "          await google.colab.output.renderOutput(dataTable, element);\n",
              "          const docLink = document.createElement('div');\n",
              "          docLink.innerHTML = docLinkHtml;\n",
              "          element.appendChild(docLink);\n",
              "        }\n",
              "      </script>\n",
              "    </div>\n",
              "  </div>\n",
              "  "
            ]
          },
          "metadata": {},
          "execution_count": 41
        }
      ]
    },
    {
      "cell_type": "markdown",
      "source": [
        "#### Tokenization"
      ],
      "metadata": {
        "id": "nAIMoCHR8XE2"
      }
    },
    {
      "cell_type": "code",
      "source": [
        "#Tokenize\n",
        "df['tocken_without_stopwords'] = [nlp(text) for text in df.sentence]\n",
        "\n",
        "#add a columns with the lengh \n",
        "df['len'] = [len(token) for token in df.tocken_without_stopwords]\n",
        "df.head()"
      ],
      "metadata": {
        "colab": {
          "base_uri": "https://localhost:8080/",
          "height": 206
        },
        "id": "ZbyrkQEt8ZXp",
        "outputId": "9e581686-7d4c-49a5-9c7c-0327a105e4de"
      },
      "execution_count": 42,
      "outputs": [
        {
          "output_type": "execute_result",
          "data": {
            "text/plain": [
              "   id                                           sentence difficulty  \\\n",
              "0   0  coûts kilométriques réels diverger sensiblemen...         C1   \n",
              "1   1                    bleu couleur préférée aime vert         A1   \n",
              "2   2           test niveau français site internet école         A1   \n",
              "3   3                                        mari boston         A1   \n",
              "4   4  écoles commerce couloirs places financières ar...         B1   \n",
              "\n",
              "                            tocken_without_stopwords  len  \n",
              "0  (coûts, kilométriques, réels, diverger, sensib...   21  \n",
              "1              (bleu, couleur, préférée, aime, vert)    5  \n",
              "2    (test, niveau, français, site, internet, école)    6  \n",
              "3                                     (mari, boston)    2  \n",
              "4  (écoles, commerce, couloirs, places, financièr...   19  "
            ],
            "text/html": [
              "\n",
              "  <div id=\"df-c5272808-8907-4b98-8738-1646f04b8527\">\n",
              "    <div class=\"colab-df-container\">\n",
              "      <div>\n",
              "<style scoped>\n",
              "    .dataframe tbody tr th:only-of-type {\n",
              "        vertical-align: middle;\n",
              "    }\n",
              "\n",
              "    .dataframe tbody tr th {\n",
              "        vertical-align: top;\n",
              "    }\n",
              "\n",
              "    .dataframe thead th {\n",
              "        text-align: right;\n",
              "    }\n",
              "</style>\n",
              "<table border=\"1\" class=\"dataframe\">\n",
              "  <thead>\n",
              "    <tr style=\"text-align: right;\">\n",
              "      <th></th>\n",
              "      <th>id</th>\n",
              "      <th>sentence</th>\n",
              "      <th>difficulty</th>\n",
              "      <th>tocken_without_stopwords</th>\n",
              "      <th>len</th>\n",
              "    </tr>\n",
              "  </thead>\n",
              "  <tbody>\n",
              "    <tr>\n",
              "      <th>0</th>\n",
              "      <td>0</td>\n",
              "      <td>coûts kilométriques réels diverger sensiblemen...</td>\n",
              "      <td>C1</td>\n",
              "      <td>(coûts, kilométriques, réels, diverger, sensib...</td>\n",
              "      <td>21</td>\n",
              "    </tr>\n",
              "    <tr>\n",
              "      <th>1</th>\n",
              "      <td>1</td>\n",
              "      <td>bleu couleur préférée aime vert</td>\n",
              "      <td>A1</td>\n",
              "      <td>(bleu, couleur, préférée, aime, vert)</td>\n",
              "      <td>5</td>\n",
              "    </tr>\n",
              "    <tr>\n",
              "      <th>2</th>\n",
              "      <td>2</td>\n",
              "      <td>test niveau français site internet école</td>\n",
              "      <td>A1</td>\n",
              "      <td>(test, niveau, français, site, internet, école)</td>\n",
              "      <td>6</td>\n",
              "    </tr>\n",
              "    <tr>\n",
              "      <th>3</th>\n",
              "      <td>3</td>\n",
              "      <td>mari boston</td>\n",
              "      <td>A1</td>\n",
              "      <td>(mari, boston)</td>\n",
              "      <td>2</td>\n",
              "    </tr>\n",
              "    <tr>\n",
              "      <th>4</th>\n",
              "      <td>4</td>\n",
              "      <td>écoles commerce couloirs places financières ar...</td>\n",
              "      <td>B1</td>\n",
              "      <td>(écoles, commerce, couloirs, places, financièr...</td>\n",
              "      <td>19</td>\n",
              "    </tr>\n",
              "  </tbody>\n",
              "</table>\n",
              "</div>\n",
              "      <button class=\"colab-df-convert\" onclick=\"convertToInteractive('df-c5272808-8907-4b98-8738-1646f04b8527')\"\n",
              "              title=\"Convert this dataframe to an interactive table.\"\n",
              "              style=\"display:none;\">\n",
              "        \n",
              "  <svg xmlns=\"http://www.w3.org/2000/svg\" height=\"24px\"viewBox=\"0 0 24 24\"\n",
              "       width=\"24px\">\n",
              "    <path d=\"M0 0h24v24H0V0z\" fill=\"none\"/>\n",
              "    <path d=\"M18.56 5.44l.94 2.06.94-2.06 2.06-.94-2.06-.94-.94-2.06-.94 2.06-2.06.94zm-11 1L8.5 8.5l.94-2.06 2.06-.94-2.06-.94L8.5 2.5l-.94 2.06-2.06.94zm10 10l.94 2.06.94-2.06 2.06-.94-2.06-.94-.94-2.06-.94 2.06-2.06.94z\"/><path d=\"M17.41 7.96l-1.37-1.37c-.4-.4-.92-.59-1.43-.59-.52 0-1.04.2-1.43.59L10.3 9.45l-7.72 7.72c-.78.78-.78 2.05 0 2.83L4 21.41c.39.39.9.59 1.41.59.51 0 1.02-.2 1.41-.59l7.78-7.78 2.81-2.81c.8-.78.8-2.07 0-2.86zM5.41 20L4 18.59l7.72-7.72 1.47 1.35L5.41 20z\"/>\n",
              "  </svg>\n",
              "      </button>\n",
              "      \n",
              "  <style>\n",
              "    .colab-df-container {\n",
              "      display:flex;\n",
              "      flex-wrap:wrap;\n",
              "      gap: 12px;\n",
              "    }\n",
              "\n",
              "    .colab-df-convert {\n",
              "      background-color: #E8F0FE;\n",
              "      border: none;\n",
              "      border-radius: 50%;\n",
              "      cursor: pointer;\n",
              "      display: none;\n",
              "      fill: #1967D2;\n",
              "      height: 32px;\n",
              "      padding: 0 0 0 0;\n",
              "      width: 32px;\n",
              "    }\n",
              "\n",
              "    .colab-df-convert:hover {\n",
              "      background-color: #E2EBFA;\n",
              "      box-shadow: 0px 1px 2px rgba(60, 64, 67, 0.3), 0px 1px 3px 1px rgba(60, 64, 67, 0.15);\n",
              "      fill: #174EA6;\n",
              "    }\n",
              "\n",
              "    [theme=dark] .colab-df-convert {\n",
              "      background-color: #3B4455;\n",
              "      fill: #D2E3FC;\n",
              "    }\n",
              "\n",
              "    [theme=dark] .colab-df-convert:hover {\n",
              "      background-color: #434B5C;\n",
              "      box-shadow: 0px 1px 3px 1px rgba(0, 0, 0, 0.15);\n",
              "      filter: drop-shadow(0px 1px 2px rgba(0, 0, 0, 0.3));\n",
              "      fill: #FFFFFF;\n",
              "    }\n",
              "  </style>\n",
              "\n",
              "      <script>\n",
              "        const buttonEl =\n",
              "          document.querySelector('#df-c5272808-8907-4b98-8738-1646f04b8527 button.colab-df-convert');\n",
              "        buttonEl.style.display =\n",
              "          google.colab.kernel.accessAllowed ? 'block' : 'none';\n",
              "\n",
              "        async function convertToInteractive(key) {\n",
              "          const element = document.querySelector('#df-c5272808-8907-4b98-8738-1646f04b8527');\n",
              "          const dataTable =\n",
              "            await google.colab.kernel.invokeFunction('convertToInteractive',\n",
              "                                                     [key], {});\n",
              "          if (!dataTable) return;\n",
              "\n",
              "          const docLinkHtml = 'Like what you see? Visit the ' +\n",
              "            '<a target=\"_blank\" href=https://colab.research.google.com/notebooks/data_table.ipynb>data table notebook</a>'\n",
              "            + ' to learn more about interactive tables.';\n",
              "          element.innerHTML = '';\n",
              "          dataTable['output_type'] = 'display_data';\n",
              "          await google.colab.output.renderOutput(dataTable, element);\n",
              "          const docLink = document.createElement('div');\n",
              "          docLink.innerHTML = docLinkHtml;\n",
              "          element.appendChild(docLink);\n",
              "        }\n",
              "      </script>\n",
              "    </div>\n",
              "  </div>\n",
              "  "
            ]
          },
          "metadata": {},
          "execution_count": 42
        }
      ]
    },
    {
      "cell_type": "markdown",
      "source": [
        "#### Stemming"
      ],
      "metadata": {
        "id": "_gg5FdTQ8tUW"
      }
    },
    {
      "cell_type": "code",
      "source": [
        "#Removing the end of the worlds and adding a collumn with a numerical label\n",
        "df['stemmed'] = [return_stem(text) for text in df.sentence]\n",
        "df_pred['stemmed'] = [return_stem(text) for text in df_pred.sentence]\n",
        "df['label'] = pd.factorize(df['difficulty'])[0] + 1\n",
        "df.head()"
      ],
      "metadata": {
        "colab": {
          "base_uri": "https://localhost:8080/",
          "height": 206
        },
        "id": "TCITJDHd9NNh",
        "outputId": "447c4e9e-26cf-4c5d-bb87-d14cd33d3dd7"
      },
      "execution_count": 43,
      "outputs": [
        {
          "output_type": "execute_result",
          "data": {
            "text/plain": [
              "   id                                           sentence difficulty  \\\n",
              "0   0  coûts kilométriques réels diverger sensiblemen...         C1   \n",
              "1   1                    bleu couleur préférée aime vert         A1   \n",
              "2   2           test niveau français site internet école         A1   \n",
              "3   3                                        mari boston         A1   \n",
              "4   4  écoles commerce couloirs places financières ar...         B1   \n",
              "\n",
              "                            tocken_without_stopwords  len  \\\n",
              "0  (coûts, kilométriques, réels, diverger, sensib...   21   \n",
              "1              (bleu, couleur, préférée, aime, vert)    5   \n",
              "2    (test, niveau, français, site, internet, école)    6   \n",
              "3                                     (mari, boston)    2   \n",
              "4  (écoles, commerce, couloirs, places, financièr...   19   \n",
              "\n",
              "                                             stemmed  label  \n",
              "0  [coût, kilometr, réel, diverg, sensibl, valeur...      1  \n",
              "1                 [bleu, couleur, préfer, aim, vert]      2  \n",
              "2         [test, niveau, franc, sit, internet, écol]      2  \n",
              "3                                      [mar, boston]      2  \n",
              "4  [écol, commerc, couloir, plac, financi, arriv,...      3  "
            ],
            "text/html": [
              "\n",
              "  <div id=\"df-7f49506b-088a-4d86-9d46-91831326f6e7\">\n",
              "    <div class=\"colab-df-container\">\n",
              "      <div>\n",
              "<style scoped>\n",
              "    .dataframe tbody tr th:only-of-type {\n",
              "        vertical-align: middle;\n",
              "    }\n",
              "\n",
              "    .dataframe tbody tr th {\n",
              "        vertical-align: top;\n",
              "    }\n",
              "\n",
              "    .dataframe thead th {\n",
              "        text-align: right;\n",
              "    }\n",
              "</style>\n",
              "<table border=\"1\" class=\"dataframe\">\n",
              "  <thead>\n",
              "    <tr style=\"text-align: right;\">\n",
              "      <th></th>\n",
              "      <th>id</th>\n",
              "      <th>sentence</th>\n",
              "      <th>difficulty</th>\n",
              "      <th>tocken_without_stopwords</th>\n",
              "      <th>len</th>\n",
              "      <th>stemmed</th>\n",
              "      <th>label</th>\n",
              "    </tr>\n",
              "  </thead>\n",
              "  <tbody>\n",
              "    <tr>\n",
              "      <th>0</th>\n",
              "      <td>0</td>\n",
              "      <td>coûts kilométriques réels diverger sensiblemen...</td>\n",
              "      <td>C1</td>\n",
              "      <td>(coûts, kilométriques, réels, diverger, sensib...</td>\n",
              "      <td>21</td>\n",
              "      <td>[coût, kilometr, réel, diverg, sensibl, valeur...</td>\n",
              "      <td>1</td>\n",
              "    </tr>\n",
              "    <tr>\n",
              "      <th>1</th>\n",
              "      <td>1</td>\n",
              "      <td>bleu couleur préférée aime vert</td>\n",
              "      <td>A1</td>\n",
              "      <td>(bleu, couleur, préférée, aime, vert)</td>\n",
              "      <td>5</td>\n",
              "      <td>[bleu, couleur, préfer, aim, vert]</td>\n",
              "      <td>2</td>\n",
              "    </tr>\n",
              "    <tr>\n",
              "      <th>2</th>\n",
              "      <td>2</td>\n",
              "      <td>test niveau français site internet école</td>\n",
              "      <td>A1</td>\n",
              "      <td>(test, niveau, français, site, internet, école)</td>\n",
              "      <td>6</td>\n",
              "      <td>[test, niveau, franc, sit, internet, écol]</td>\n",
              "      <td>2</td>\n",
              "    </tr>\n",
              "    <tr>\n",
              "      <th>3</th>\n",
              "      <td>3</td>\n",
              "      <td>mari boston</td>\n",
              "      <td>A1</td>\n",
              "      <td>(mari, boston)</td>\n",
              "      <td>2</td>\n",
              "      <td>[mar, boston]</td>\n",
              "      <td>2</td>\n",
              "    </tr>\n",
              "    <tr>\n",
              "      <th>4</th>\n",
              "      <td>4</td>\n",
              "      <td>écoles commerce couloirs places financières ar...</td>\n",
              "      <td>B1</td>\n",
              "      <td>(écoles, commerce, couloirs, places, financièr...</td>\n",
              "      <td>19</td>\n",
              "      <td>[écol, commerc, couloir, plac, financi, arriv,...</td>\n",
              "      <td>3</td>\n",
              "    </tr>\n",
              "  </tbody>\n",
              "</table>\n",
              "</div>\n",
              "      <button class=\"colab-df-convert\" onclick=\"convertToInteractive('df-7f49506b-088a-4d86-9d46-91831326f6e7')\"\n",
              "              title=\"Convert this dataframe to an interactive table.\"\n",
              "              style=\"display:none;\">\n",
              "        \n",
              "  <svg xmlns=\"http://www.w3.org/2000/svg\" height=\"24px\"viewBox=\"0 0 24 24\"\n",
              "       width=\"24px\">\n",
              "    <path d=\"M0 0h24v24H0V0z\" fill=\"none\"/>\n",
              "    <path d=\"M18.56 5.44l.94 2.06.94-2.06 2.06-.94-2.06-.94-.94-2.06-.94 2.06-2.06.94zm-11 1L8.5 8.5l.94-2.06 2.06-.94-2.06-.94L8.5 2.5l-.94 2.06-2.06.94zm10 10l.94 2.06.94-2.06 2.06-.94-2.06-.94-.94-2.06-.94 2.06-2.06.94z\"/><path d=\"M17.41 7.96l-1.37-1.37c-.4-.4-.92-.59-1.43-.59-.52 0-1.04.2-1.43.59L10.3 9.45l-7.72 7.72c-.78.78-.78 2.05 0 2.83L4 21.41c.39.39.9.59 1.41.59.51 0 1.02-.2 1.41-.59l7.78-7.78 2.81-2.81c.8-.78.8-2.07 0-2.86zM5.41 20L4 18.59l7.72-7.72 1.47 1.35L5.41 20z\"/>\n",
              "  </svg>\n",
              "      </button>\n",
              "      \n",
              "  <style>\n",
              "    .colab-df-container {\n",
              "      display:flex;\n",
              "      flex-wrap:wrap;\n",
              "      gap: 12px;\n",
              "    }\n",
              "\n",
              "    .colab-df-convert {\n",
              "      background-color: #E8F0FE;\n",
              "      border: none;\n",
              "      border-radius: 50%;\n",
              "      cursor: pointer;\n",
              "      display: none;\n",
              "      fill: #1967D2;\n",
              "      height: 32px;\n",
              "      padding: 0 0 0 0;\n",
              "      width: 32px;\n",
              "    }\n",
              "\n",
              "    .colab-df-convert:hover {\n",
              "      background-color: #E2EBFA;\n",
              "      box-shadow: 0px 1px 2px rgba(60, 64, 67, 0.3), 0px 1px 3px 1px rgba(60, 64, 67, 0.15);\n",
              "      fill: #174EA6;\n",
              "    }\n",
              "\n",
              "    [theme=dark] .colab-df-convert {\n",
              "      background-color: #3B4455;\n",
              "      fill: #D2E3FC;\n",
              "    }\n",
              "\n",
              "    [theme=dark] .colab-df-convert:hover {\n",
              "      background-color: #434B5C;\n",
              "      box-shadow: 0px 1px 3px 1px rgba(0, 0, 0, 0.15);\n",
              "      filter: drop-shadow(0px 1px 2px rgba(0, 0, 0, 0.3));\n",
              "      fill: #FFFFFF;\n",
              "    }\n",
              "  </style>\n",
              "\n",
              "      <script>\n",
              "        const buttonEl =\n",
              "          document.querySelector('#df-7f49506b-088a-4d86-9d46-91831326f6e7 button.colab-df-convert');\n",
              "        buttonEl.style.display =\n",
              "          google.colab.kernel.accessAllowed ? 'block' : 'none';\n",
              "\n",
              "        async function convertToInteractive(key) {\n",
              "          const element = document.querySelector('#df-7f49506b-088a-4d86-9d46-91831326f6e7');\n",
              "          const dataTable =\n",
              "            await google.colab.kernel.invokeFunction('convertToInteractive',\n",
              "                                                     [key], {});\n",
              "          if (!dataTable) return;\n",
              "\n",
              "          const docLinkHtml = 'Like what you see? Visit the ' +\n",
              "            '<a target=\"_blank\" href=https://colab.research.google.com/notebooks/data_table.ipynb>data table notebook</a>'\n",
              "            + ' to learn more about interactive tables.';\n",
              "          element.innerHTML = '';\n",
              "          dataTable['output_type'] = 'display_data';\n",
              "          await google.colab.output.renderOutput(dataTable, element);\n",
              "          const docLink = document.createElement('div');\n",
              "          docLink.innerHTML = docLinkHtml;\n",
              "          element.appendChild(docLink);\n",
              "        }\n",
              "      </script>\n",
              "    </div>\n",
              "  </div>\n",
              "  "
            ]
          },
          "metadata": {},
          "execution_count": 43
        }
      ]
    },
    {
      "cell_type": "markdown",
      "source": [
        "###Doc2Vec"
      ],
      "metadata": {
        "id": "V6R1OVaF-sgK"
      }
    },
    {
      "cell_type": "code",
      "source": [
        "#Putting Data in a TaggedDocument format\n",
        "documents = []\n",
        "testdocuments = []\n",
        "for ind in df.index:\n",
        "  documents.append(TaggedDocument(df['stemmed'][ind],\n",
        "      [df['label'][ind]]))\n",
        "\n",
        "for ind in df_pred.index:\n",
        "  testdocuments.append(TaggedDocument(df_pred['stemmed'][ind],\n",
        "      tags=None))\n",
        "testdocuments"
      ],
      "metadata": {
        "id": "mR_3YOAg-uwO"
      },
      "execution_count": null,
      "outputs": []
    },
    {
      "cell_type": "code",
      "source": [
        "#Creating a train set and a test set on the TaggedDocument\n",
        "document_train, document_test = train_test_split(documents, test_size=0.2, random_state=0)"
      ],
      "metadata": {
        "id": "eXVoiVCL_yl8"
      },
      "execution_count": 45,
      "outputs": []
    },
    {
      "cell_type": "code",
      "source": [
        "# Preparation BagOfWords\n",
        "model_dbow = Doc2Vec(dm=0, vector_size=300, negative=5, hs=0, min_count=2, sample = 0)\n",
        "model_dbow.build_vocab([x for x in tqdm(document_train)])\n",
        "document = utils.shuffle(document_train)\n",
        "model_dbow.train(documents, total_examples=model_dbow.corpus_count, epochs=model_dbow.epochs)"
      ],
      "metadata": {
        "id": "ypSQH0wYABjB"
      },
      "execution_count": null,
      "outputs": []
    },
    {
      "cell_type": "code",
      "source": [
        "# Vectorization\n",
        "y_train, X_train = vector_for_learning(model_dbow, document_train)\n",
        "y_test, X_test = vector_for_learning(model_dbow, document_test)"
      ],
      "metadata": {
        "id": "7nw5GX9jAi-S"
      },
      "execution_count": 47,
      "outputs": []
    },
    {
      "cell_type": "markdown",
      "source": [
        "###Linear Regression"
      ],
      "metadata": {
        "id": "3SL2lUizB6IF"
      }
    },
    {
      "cell_type": "code",
      "source": [
        "# Fit model on training set\n",
        "logreg = LogisticRegression(solver='lbfgs' ,max_iter=1000, random_state=0)\n",
        "logreg.fit(X_train, y_train)\n",
        "\n",
        "# Predictions\n",
        "y_pred = logreg.predict(X_test)\n",
        "\n",
        "# Evaluation\n",
        "evaluate(y_test, y_pred)"
      ],
      "metadata": {
        "colab": {
          "base_uri": "https://localhost:8080/"
        },
        "id": "JQn2KdDaAtPM",
        "outputId": "88e541ea-3637-4ed3-92db-fbf4ecae6d0f"
      },
      "execution_count": 48,
      "outputs": [
        {
          "output_type": "stream",
          "name": "stdout",
          "text": [
            "CONFUSION MATRIX:\n",
            "[[ 94   8  18   1  29  23]\n",
            " [  2 103  15  40   1   0]\n",
            " [  7  19  78  27  20   9]\n",
            " [  1  59  41  56   5   2]\n",
            " [  8   4  25   3  92  12]\n",
            " [ 15   6  11   2  20 104]]\n",
            "ACCURACY SCORE:\n",
            "0.5490\n",
            "CLASSIFICATION REPORT:\n",
            "\tPrecision: 0.5585\n",
            "\tRecall: 0.5515\n",
            "\tF1_Score: 0.5494\n"
          ]
        }
      ]
    },
    {
      "cell_type": "markdown",
      "source": [
        "##CamemBERT"
      ],
      "metadata": {
        "id": "XYBU2FBYhI9k"
      }
    },
    {
      "cell_type": "code",
      "source": [
        "## Transformation dataFrame to dataSet (ALL DATA)\n",
        "labels = df['difficulty'].values\n",
        "sentences = df['sentence'].values\n",
        "df = pd.DataFrame({\"sentences\": sentences, \"label\": labels})# define data set object\n",
        "features = Features({\"sentences\": Value(\"string\"), \"label\": ClassLabel(num_classes=6, names=['A1','A2','B1','B2','C1','C2'])})\n",
        "ds = Dataset.from_pandas(df, features=features)\n",
        "ds.features"
      ],
      "metadata": {
        "id": "RTRMeM8iosOM",
        "outputId": "19781b71-b370-40de-f7ef-31a991be611c",
        "colab": {
          "base_uri": "https://localhost:8080/"
        }
      },
      "execution_count": 62,
      "outputs": [
        {
          "output_type": "execute_result",
          "data": {
            "text/plain": [
              "{'sentences': Value(dtype='string', id=None),\n",
              " 'label': ClassLabel(names=['A1', 'A2', 'B1', 'B2', 'C1', 'C2'], id=None)}"
            ]
          },
          "metadata": {},
          "execution_count": 62
        }
      ]
    },
    {
      "cell_type": "code",
      "source": [
        "X_train, X_test, y_train, y_test = train_test_split(X, y, test_size=0.2, random_state=0)\n",
        "\n",
        "X_train = pd.DataFrame(X_train)\n",
        "y_train = pd.DataFrame(y_train)\n",
        "## Transformation dataFrame to dataSet (ALL DATA)\n",
        "labels = y_train['difficulty'].values\n",
        "sentences = X_train['sentence'].values\n",
        "df = pd.DataFrame({\"sentences\": sentences, \"label\": labels})# define data set object\n",
        "features = Features({\"sentences\": Value(\"string\"), \"label\": ClassLabel(num_classes=6, names=['A1','A2','B1','B2','C1','C2'])})\n",
        "ds_train = Dataset.from_pandas(df, features=features)\n",
        "ds_train.features"
      ],
      "metadata": {
        "id": "ogyWrZBlqnxf",
        "outputId": "c5d38cdd-9725-431a-b9fa-3b7d95368e23",
        "colab": {
          "base_uri": "https://localhost:8080/"
        }
      },
      "execution_count": 90,
      "outputs": [
        {
          "output_type": "execute_result",
          "data": {
            "text/plain": [
              "{'sentences': Value(dtype='string', id=None),\n",
              " 'label': ClassLabel(names=['A1', 'A2', 'B1', 'B2', 'C1', 'C2'], id=None)}"
            ]
          },
          "metadata": {},
          "execution_count": 90
        }
      ]
    },
    {
      "cell_type": "code",
      "source": [
        "ds_train"
      ],
      "metadata": {
        "id": "4RJHHsvgpG7v",
        "outputId": "f4dd7698-20c0-4e14-b519-e7d5b662ba75",
        "colab": {
          "base_uri": "https://localhost:8080/"
        }
      },
      "execution_count": 91,
      "outputs": [
        {
          "output_type": "execute_result",
          "data": {
            "text/plain": [
              "Dataset({\n",
              "    features: ['sentences', 'label'],\n",
              "    num_rows: 3840\n",
              "})"
            ]
          },
          "metadata": {},
          "execution_count": 91
        }
      ]
    },
    {
      "cell_type": "code",
      "source": [
        "train_dataloader = DataLoader(\n",
        "    ds_train, \n",
        "    batch_size=16, \n",
        "    shuffle=True, \n",
        "    collate_fn=functools.partial(tokenize_batch, tokenizer=tokenizer)\n",
        ")"
      ],
      "metadata": {
        "id": "nhiR1GxPpzLK"
      },
      "execution_count": 96,
      "outputs": []
    },
    {
      "cell_type": "code",
      "source": [
        "num_labels = ds.features[\"label\"].num_classes"
      ],
      "metadata": {
        "id": "G7rdtayLpOw1"
      },
      "execution_count": 93,
      "outputs": []
    },
    {
      "cell_type": "code",
      "source": [
        "lightning_model = LightningModel(\"camembert-base\", num_labels, lr=3e-5, weight_decay=0.)"
      ],
      "metadata": {
        "id": "dqqzBXNTpn3Y",
        "outputId": "2f4ceab0-f69e-48e7-aaa9-1cfe9f1fc4da",
        "colab": {
          "base_uri": "https://localhost:8080/"
        }
      },
      "execution_count": 94,
      "outputs": [
        {
          "output_type": "stream",
          "name": "stderr",
          "text": [
            "Some weights of the model checkpoint at camembert-base were not used when initializing CamembertForSequenceClassification: ['lm_head.decoder.weight', 'lm_head.dense.weight', 'lm_head.dense.bias', 'lm_head.bias', 'lm_head.layer_norm.weight', 'lm_head.layer_norm.bias', 'roberta.pooler.dense.bias', 'roberta.pooler.dense.weight']\n",
            "- This IS expected if you are initializing CamembertForSequenceClassification from the checkpoint of a model trained on another task or with another architecture (e.g. initializing a BertForSequenceClassification model from a BertForPreTraining model).\n",
            "- This IS NOT expected if you are initializing CamembertForSequenceClassification from the checkpoint of a model that you expect to be exactly identical (initializing a BertForSequenceClassification model from a BertForSequenceClassification model).\n",
            "Some weights of CamembertForSequenceClassification were not initialized from the model checkpoint at camembert-base and are newly initialized: ['classifier.dense.weight', 'classifier.out_proj.weight', 'classifier.dense.bias', 'classifier.out_proj.bias']\n",
            "You should probably TRAIN this model on a down-stream task to be able to use it for predictions and inference.\n"
          ]
        }
      ]
    },
    {
      "cell_type": "code",
      "source": [
        "model_checkpoint = pl.callbacks.ModelCheckpoint(monitor=\"valid/acc\", mode=\"max\")\n",
        "\n",
        "camembert_trainer = pl.Trainer(\n",
        "    max_epochs=20,\n",
        "    gpus=1,\n",
        "    callbacks=[\n",
        "        pl.callbacks.EarlyStopping(monitor=\"valid/acc\", patience=4, mode=\"max\"),\n",
        "        model_checkpoint,\n",
        "    ]\n",
        ")"
      ],
      "metadata": {
        "id": "pk9tG8kXpiFc",
        "outputId": "cd477090-b9a9-4ccd-c9c3-93c754e110be",
        "colab": {
          "base_uri": "https://localhost:8080/"
        }
      },
      "execution_count": 95,
      "outputs": [
        {
          "output_type": "stream",
          "name": "stderr",
          "text": [
            "/usr/local/lib/python3.8/dist-packages/pytorch_lightning/trainer/connectors/accelerator_connector.py:441: LightningDeprecationWarning: Setting `Trainer(gpus=1)` is deprecated in v1.7 and will be removed in v2.0. Please use `Trainer(accelerator='gpu', devices=1)` instead.\n",
            "  rank_zero_deprecation(\n",
            "INFO:pytorch_lightning.utilities.rank_zero:GPU available: True (cuda), used: True\n",
            "INFO:pytorch_lightning.utilities.rank_zero:TPU available: False, using: 0 TPU cores\n",
            "INFO:pytorch_lightning.utilities.rank_zero:IPU available: False, using: 0 IPUs\n",
            "INFO:pytorch_lightning.utilities.rank_zero:HPU available: False, using: 0 HPUs\n"
          ]
        }
      ]
    },
    {
      "cell_type": "code",
      "source": [
        "camembert_trainer.fit(lightning_model, train_dataloaders=train_dataloader, val_dataloaders=train_dataloader)\n"
      ],
      "metadata": {
        "id": "ChpuiCPMpkE8",
        "outputId": "aae0031c-5ff3-4f6a-9cdd-516d273d5fa4",
        "colab": {
          "base_uri": "https://localhost:8080/",
          "height": 277,
          "referenced_widgets": [
            "d080167c6b834eb1aba98c6dd5a9bc5d",
            "4fcb12cd5e1e4d7182222bb3d5cd9d3b",
            "a52b5007623e4c10bc92c975f099f94c",
            "0087ff98d4fd4d248de850eef25cf1fd",
            "4716abfb627340e5a73dd6441f3f591c",
            "a2048cd03c944e15b06b9d49231d7c54",
            "63577e394a5e4ee2b0e894baa6f73301",
            "d39b0cf361c8439ea7f0c697446f4f61",
            "d55bb0a6faf346f6b8321d1be099f5ce",
            "0b6eb6d0f061495ca2672ff2a11a3c5b",
            "e6393890f0cd4710a53ec3cd3467b04b",
            "c0e0b872dab949ce87a982c9e05e21d4",
            "8fee11229884444482142ff1ebc2fca8",
            "067e818a4b704719a6594e12be92d9ce",
            "f1e139c468ec43afa980c0b72b217464",
            "1509b568f61f463d846c1c4b291c2e00",
            "c7c3780c866f4032b8f42b6831cc692d",
            "9505a1f36b1848e693fd9a00e6d254b0",
            "e887bd6015d045fa884397d54d70b633",
            "4df6fbc3c3a24a0387fd2d736ffa58b2",
            "8136221041fd44798af6a238c757b4f4",
            "199bb1888a2a4d6ab0cfb53f0398e7ef",
            "6986eb96b3d34eda8be0eab3b15b26c2",
            "8f47c715c3ee438e87e42927f653c50c",
            "e694bd50997c48d19624e85a500bbade",
            "9d884818820f4913958eda7c2555de4f",
            "40c4e7094605452196ef3b064d7b9a21",
            "44afac832c50468ca29a7a0a77facbc8",
            "ee8e536856634e7dab85b229b2fd0007",
            "ed51efbc90d84af38773e1a2820c939c",
            "91542515ae784fa799501401d090bf29",
            "cb22396edf5e419f97d8ed57aca23406",
            "aff189f0f5b8485cb950797a03c5c13d",
            "576aca65f52b47039a68eb46b36d8d0c",
            "d4c2b778b7c44f7f8b9112ef66e61e50",
            "3a276718f75d4340a9a082c003528635",
            "3ffac0baa97d49f9acfe00c5bb89083d",
            "e26e2bac0cbd4f2cbea09657ede84bb7",
            "2ec0d456ab9c4404a39f31dee35c6694",
            "f7725b7cee00424498d23ab341764d5c",
            "528b7bb7c31146a498e113363e4ee88f",
            "8df7bd72604c46ea95dfa5e12948b647",
            "87fa1244e3fb4dadab15a07c9c0dd251",
            "b592ce3b142648529db7a9af5a1561f9",
            "a5478fa5a2674c68a386eb741185cd4b",
            "632c953fba584cfbac7167d9793834e3",
            "d9f73cd9227440b7a47ecf0638ec395b",
            "ed0873fecdb44c73995f2b9e21803914",
            "42440875d9a24a778abea08009bb8b59",
            "70961689c2d846a59f3b0c0b083cff32",
            "a86249d31e3a48509561b4321d65330b",
            "7c8e2af5c19b459eb4283bd1bc6b17ad",
            "5c202681cc8446bd9cd1ab65913a081d",
            "a3fee75673854c8d88e513a0f2d71392",
            "b2005b9e11a643c28073dfd9228ea802"
          ]
        }
      },
      "execution_count": null,
      "outputs": [
        {
          "output_type": "stream",
          "name": "stderr",
          "text": [
            "INFO:pytorch_lightning.accelerators.cuda:LOCAL_RANK: 0 - CUDA_VISIBLE_DEVICES: [0]\n",
            "INFO:pytorch_lightning.callbacks.model_summary:\n",
            "  | Name  | Type                               | Params\n",
            "-------------------------------------------------------------\n",
            "0 | model | CamembertForSequenceClassification | 110 M \n",
            "-------------------------------------------------------------\n",
            "110 M     Trainable params\n",
            "0         Non-trainable params\n",
            "110 M     Total params\n",
            "442.506   Total estimated model params size (MB)\n"
          ]
        },
        {
          "output_type": "display_data",
          "data": {
            "text/plain": [
              "Sanity Checking: 0it [00:00, ?it/s]"
            ],
            "application/vnd.jupyter.widget-view+json": {
              "version_major": 2,
              "version_minor": 0,
              "model_id": "d080167c6b834eb1aba98c6dd5a9bc5d"
            }
          },
          "metadata": {}
        },
        {
          "output_type": "stream",
          "name": "stderr",
          "text": [
            "/usr/local/lib/python3.8/dist-packages/pytorch_lightning/trainer/connectors/data_connector.py:488: PossibleUserWarning: Your `val_dataloader`'s sampler has shuffling enabled, it is strongly recommended that you turn shuffling off for val/test/predict dataloaders.\n",
            "  rank_zero_warn(\n"
          ]
        },
        {
          "output_type": "display_data",
          "data": {
            "text/plain": [
              "Training: 0it [00:00, ?it/s]"
            ],
            "application/vnd.jupyter.widget-view+json": {
              "version_major": 2,
              "version_minor": 0,
              "model_id": "c0e0b872dab949ce87a982c9e05e21d4"
            }
          },
          "metadata": {}
        },
        {
          "output_type": "display_data",
          "data": {
            "text/plain": [
              "Validation: 0it [00:00, ?it/s]"
            ],
            "application/vnd.jupyter.widget-view+json": {
              "version_major": 2,
              "version_minor": 0,
              "model_id": "6986eb96b3d34eda8be0eab3b15b26c2"
            }
          },
          "metadata": {}
        },
        {
          "output_type": "display_data",
          "data": {
            "text/plain": [
              "Validation: 0it [00:00, ?it/s]"
            ],
            "application/vnd.jupyter.widget-view+json": {
              "version_major": 2,
              "version_minor": 0,
              "model_id": "576aca65f52b47039a68eb46b36d8d0c"
            }
          },
          "metadata": {}
        },
        {
          "output_type": "display_data",
          "data": {
            "text/plain": [
              "Validation: 0it [00:00, ?it/s]"
            ],
            "application/vnd.jupyter.widget-view+json": {
              "version_major": 2,
              "version_minor": 0,
              "model_id": "a5478fa5a2674c68a386eb741185cd4b"
            }
          },
          "metadata": {}
        }
      ]
    },
    {
      "cell_type": "code",
      "source": [
        "ID_TO_LABEL = ds.features[\"label\"].names"
      ],
      "metadata": {
        "id": "ytRgc_HHp-zo"
      },
      "execution_count": null,
      "outputs": []
    },
    {
      "cell_type": "code",
      "source": [
        "def get_preds(model, tokenizer, sentence):\n",
        "    tokenized_sentence = tokenizer(sentence, return_tensors=\"pt\")\n",
        "    input_ids, attention_mask = tokenized_sentence.input_ids, tokenized_sentence.attention_mask\n",
        "\n",
        "    out = model(\n",
        "        input_ids=tokenized_sentence.input_ids,\n",
        "        attention_mask=tokenized_sentence.attention_mask\n",
        "    )\n",
        "\n",
        "    logits = out.logits\n",
        "\n",
        "    probas = torch.softmax(logits, -1).squeeze()\n",
        "\n",
        "    pred = torch.argmax(probas)\n",
        "\n",
        "    return ID_TO_LABEL[pred], probas[pred].item()"
      ],
      "metadata": {
        "id": "u05ioDyiqDdZ"
      },
      "execution_count": null,
      "outputs": []
    },
    {
      "cell_type": "code",
      "source": [
        "predictions = pd.DataFrame(columns=['difficulty'])\n",
        "listPred = []"
      ],
      "metadata": {
        "id": "nnq8VSH1sHy4"
      },
      "execution_count": null,
      "outputs": []
    },
    {
      "cell_type": "code",
      "source": [
        "for p in phrases:\n",
        "  test_sentence = p\n",
        "\n",
        "  label_predicted, proba = get_preds(lightning_model.model, tokenizer, test_sentence)\n",
        "\n",
        "  listPred.append(label_predicted)\n",
        "  print(f\"Label: {label_predicted}, confidence: {proba:.2f}\")\n",
        "\n",
        "listPred"
      ],
      "metadata": {
        "id": "GLGX38BisJxD"
      },
      "execution_count": null,
      "outputs": []
    },
    {
      "cell_type": "code",
      "source": [
        "predictions['difficulty'] = listPred"
      ],
      "metadata": {
        "id": "6WR6bce6sPE4"
      },
      "execution_count": null,
      "outputs": []
    },
    {
      "cell_type": "code",
      "source": [
        "evaluate(y_test, y_pred)"
      ],
      "metadata": {
        "id": "VXDxF6cNsP5-"
      },
      "execution_count": null,
      "outputs": []
    }
  ]
}