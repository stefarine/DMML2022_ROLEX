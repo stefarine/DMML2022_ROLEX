{
  "nbformat": 4,
  "nbformat_minor": 0,
  "metadata": {
    "colab": {
      "provenance": [],
      "authorship_tag": "ABX9TyNjdUJ5kvBNBFeT7zBJTeQU",
      "include_colab_link": true
    },
    "kernelspec": {
      "name": "python3",
      "display_name": "Python 3"
    },
    "language_info": {
      "name": "python"
    },
    "accelerator": "GPU",
    "gpuClass": "standard"
  },
  "cells": [
    {
      "cell_type": "markdown",
      "metadata": {
        "id": "view-in-github",
        "colab_type": "text"
      },
      "source": [
        "<a href=\"https://colab.research.google.com/github/stefarine/DMML2022_ROLEX/blob/main/DMML_PROJECT.ipynb\" target=\"_parent\"><img src=\"https://colab.research.google.com/assets/colab-badge.svg\" alt=\"Open In Colab\"/></a>"
      ]
    },
    {
      "cell_type": "markdown",
      "source": [
        "#Importations, installations and statistics\n",
        "\n"
      ],
      "metadata": {
        "id": "v1LkB7I--Yae"
      }
    },
    {
      "cell_type": "markdown",
      "source": [
        "##Importations & intallations"
      ],
      "metadata": {
        "id": "h2aXK3OUATSp"
      }
    },
    {
      "cell_type": "code",
      "source": [
        "!pip install -U spacy\n",
        "!python -m spacy download fr\n",
        "!python -m spacy download fr_core_news_sm\n",
        "!pip install git+https://github.com/ClaudeCoulombe/FrenchLefffLemmatizer.git &> /dev/null\n",
        "!pip install gensim\n",
        "!pip install python-Levenshtein"
      ],
      "metadata": {
        "id": "09LTG_mG6OuT"
      },
      "execution_count": null,
      "outputs": []
    },
    {
      "cell_type": "code",
      "execution_count": null,
      "metadata": {
        "id": "s2wWDwCv-Oh8"
      },
      "outputs": [],
      "source": [
        "import pandas as pd\n",
        "import numpy as np\n",
        "from sklearn.feature_extraction.text import CountVectorizer, TfidfVectorizer\n",
        "from sklearn.linear_model import LogisticRegression, LogisticRegressionCV\n",
        "from sklearn.pipeline import Pipeline\n",
        "from sklearn.model_selection import train_test_split\n",
        "from sklearn.metrics import confusion_matrix, accuracy_score, precision_score, recall_score, f1_score\n",
        "from sklearn import metrics\n",
        "from sklearn.metrics import roc_curve, roc_auc_score\n",
        "from sklearn.model_selection import train_test_split, cross_val_score\n",
        "from sklearn.neighbors import KNeighborsClassifier\n",
        "from sklearn.model_selection import KFold, GridSearchCV\n",
        "from sklearn.neighbors import KNeighborsRegressor\n",
        "import spacy\n",
        "from spacy import displacy\n",
        "import nltk\n",
        "import string\n",
        "from french_lefff_lemmatizer.french_lefff_lemmatizer import FrenchLefffLemmatizer\n",
        "import gensim\n",
        "from gensim.test.utils import common_texts\n",
        "from gensim.models.doc2vec import Doc2Vec, TaggedDocument\n",
        "from sklearn import utils\n",
        "import csv\n",
        "from tqdm import tqdm\n",
        "import multiprocessing\n",
        "\n",
        "\n",
        "random_state=0\n",
        "\n",
        "df = pd.read_csv('training_data.csv')\n",
        "df_pred = pd.read_csv('unlabelled_test_data.csv')"
      ]
    },
    {
      "cell_type": "code",
      "source": [
        "X = df['sentence']\n",
        "y = df['difficulty']\n",
        "X_pred = df_pred['sentence']"
      ],
      "metadata": {
        "id": "6RnY6303AE1T"
      },
      "execution_count": 94,
      "outputs": []
    },
    {
      "cell_type": "markdown",
      "source": [
        "##Descriptive statistics and baseline"
      ],
      "metadata": {
        "id": "KwGre9ldA0BR"
      }
    },
    {
      "cell_type": "code",
      "source": [
        "plot = y.value_counts().plot.bar()"
      ],
      "metadata": {
        "colab": {
          "base_uri": "https://localhost:8080/",
          "height": 269
        },
        "id": "5Cp2bSfe_wx8",
        "outputId": "6d619595-464f-45bb-81f5-13a55f767fda"
      },
      "execution_count": 95,
      "outputs": [
        {
          "output_type": "display_data",
          "data": {
            "text/plain": [
              "<Figure size 432x288 with 1 Axes>"
            ],
            "image/png": "[encoded data removed]"
          },
          "metadata": {
            "needs_background": "light"
          }
        }
      ]
    },
    {
      "cell_type": "code",
      "source": [
        "y.describe()"
      ],
      "metadata": {
        "colab": {
          "base_uri": "https://localhost:8080/"
        },
        "id": "79DVvsiHBbWA",
        "outputId": "ac4d22c9-a883-4155-f58f-1024a68c3c90"
      },
      "execution_count": 96,
      "outputs": [
        {
          "output_type": "execute_result",
          "data": {
            "text/plain": [
              "count     4800\n",
              "unique       6\n",
              "top         A1\n",
              "freq       813\n",
              "Name: difficulty, dtype: object"
            ]
          },
          "metadata": {},
          "execution_count": 96
        }
      ]
    },
    {
      "cell_type": "code",
      "source": [
        "base_rate = (df['difficulty'].value_counts().max()/df['difficulty'].shape[0]).round(4)\n",
        "print('Base rate :')\n",
        "print(base_rate)"
      ],
      "metadata": {
        "colab": {
          "base_uri": "https://localhost:8080/"
        },
        "id": "e4h2gNaXAYZK",
        "outputId": "61a3bccb-18e0-4df4-b1a1-6e85bf754084"
      },
      "execution_count": 97,
      "outputs": [
        {
          "output_type": "stream",
          "name": "stdout",
          "text": [
            "Base rate :\n",
            "0.1694\n"
          ]
        }
      ]
    },
    {
      "cell_type": "markdown",
      "source": [
        "#Models"
      ],
      "metadata": {
        "id": "S31KKwG8Cts_"
      }
    },
    {
      "cell_type": "code",
      "source": [
        "#Define vectorizer and split the set\n",
        "tfidf = TfidfVectorizer(ngram_range=(1, 1))\n",
        "X_train, X_test, y_train, y_test = train_test_split(X, y, test_size=0.2, random_state=0)"
      ],
      "metadata": {
        "id": "adbHRe4UC9gk"
      },
      "execution_count": 19,
      "outputs": []
    },
    {
      "cell_type": "code",
      "source": [
        "##Models Functions"
      ],
      "metadata": {
        "id": "DV2g08FC9Huq"
      },
      "execution_count": null,
      "outputs": []
    },
    {
      "cell_type": "code",
      "source": [
        "#Function to evaluate the model\n",
        "def evaluate(true, pred):\n",
        "    precision = precision_score(true, pred,average='macro')\n",
        "    recall = recall_score(true, pred,average='macro')\n",
        "    f1 = f1_score(true, pred,average='macro')\n",
        "    print(f\"CONFUSION MATRIX:\\n{confusion_matrix(true, pred)}\")\n",
        "    print(f\"ACCURACY SCORE:\\n{accuracy_score(true, pred):.4f}\")\n",
        "    print(f\"CLASSIFICATION REPORT:\\n\\tPrecision: {precision:.4f}\\n\\tRecall: {recall:.4f}\\n\\tF1_Score: {f1:.4f}\")"
      ],
      "metadata": {
        "id": "z8mqzqXtDkwe"
      },
      "execution_count": 98,
      "outputs": []
    },
    {
      "cell_type": "code",
      "source": [
        "#Function to create a pipeline with TFIDF and a classifier\n",
        "def pipeWithTFIDF(myClassifier):\n",
        "  pipe = Pipeline([('vectorizer', tfidf),\n",
        "                 ('classifier', myClassifier)])\n",
        "  return pipe"
      ],
      "metadata": {
        "id": "waLBsgs2NsNr"
      },
      "execution_count": 99,
      "outputs": []
    },
    {
      "cell_type": "code",
      "source": [
        "#Function to fit a model, make pradiction with it and get evaluation stuff\n",
        "def fitPredictAndEvaluateModel(pipe,name):\n",
        "  # Fit model on training set\n",
        "  pipe.fit(X_train, y_train)\n",
        "\n",
        "  # Predictions\n",
        "  y_pred= pipe.predict(X_test)\n",
        "\n",
        "  #Exporting a file with the results\n",
        "  y_pred.to_csv(name+\".csv\")\n",
        "\n",
        "  # Evaluation\n",
        "  evaluate(y_test, y_pred)\n",
        "\n",
        "  return y_pred"
      ],
      "metadata": {
        "id": "-3NxLRi0Qjt1"
      },
      "execution_count": 100,
      "outputs": []
    },
    {
      "cell_type": "code",
      "source": [
        "#Function to make a gride search and print the results\n",
        "def getResultsGridSearch(myGs):\n",
        "  #Pipeline preparation\n",
        "  pipe = pipeWithTFIDF(myGs)\n",
        "\n",
        "  #fit\n",
        "  pipe.fit(X_train, y_train)\n",
        "\n",
        "  #Print results\n",
        "  print('Best Score : ')\n",
        "  print(myGs.best_score_)\n",
        "  print('Best Params : ')\n",
        "  print(myGs.best_params_)"
      ],
      "metadata": {
        "id": "1dqPOhH9VbUb"
      },
      "execution_count": 101,
      "outputs": []
    },
    {
      "cell_type": "code",
      "source": [
        "##Data Cleaning Functions"
      ],
      "metadata": {
        "id": "-tOIRiOy9FPY"
      },
      "execution_count": null,
      "outputs": []
    },
    {
      "cell_type": "code",
      "source": [
        "#Function to remove punctuation\n",
        "def remove_punctuations(text):\n",
        "    for punctuation in string.punctuation:\n",
        "        text = text.replace(punctuation, \" \")\n",
        "    return text"
      ],
      "metadata": {
        "id": "nk-glBIa7j2W"
      },
      "execution_count": 102,
      "outputs": []
    },
    {
      "cell_type": "code",
      "source": [
        "from nltk.stem.snowball import SnowballStemmer\n",
        "\n",
        "#Function for doing stemming\n",
        "def return_stem(sentence):\n",
        "    stemmer = SnowballStemmer(language='french')\n",
        "    doc = nlp(sentence)\n",
        "    return [stemmer.stem(X.text) for X in doc]"
      ],
      "metadata": {
        "id": "D8V5RDCl88YK"
      },
      "execution_count": 103,
      "outputs": []
    },
    {
      "cell_type": "code",
      "source": [
        "## Doc2Vec Functions"
      ],
      "metadata": {
        "id": "o5bXubmJAL9D"
      },
      "execution_count": null,
      "outputs": []
    },
    {
      "cell_type": "code",
      "source": [
        "#Function to vectorize the Train set\n",
        "def vector_for_learning(model, input_docs):\n",
        "    sents = input_docs\n",
        "    targets, feature_vectors = zip(*[(doc.tags[0], model.infer_vector(doc.words, steps=100)) for doc in sents])\n",
        "    return targets, feature_vectors"
      ],
      "metadata": {
        "id": "vLxRu4aiAN_J"
      },
      "execution_count": 104,
      "outputs": []
    },
    {
      "cell_type": "code",
      "source": [
        "#Function to vectorize the prediction Set\n",
        "def vector_for_pred(model, input_docs):\n",
        "    sents = input_docs\n",
        "    feature_vectors = [(model.infer_vector(doc.words, steps=100)) for doc in sents]\n",
        "    return feature_vectors"
      ],
      "metadata": {
        "id": "ja34DNgPARIb"
      },
      "execution_count": 105,
      "outputs": []
    },
    {
      "cell_type": "markdown",
      "source": [
        "## Logistic Regression with TFidf vectoriser (no data cleaning)"
      ],
      "metadata": {
        "id": "95ZH1_rWCviE"
      }
    },
    {
      "cell_type": "code",
      "source": [
        "#Define classifier and pipeline creation\n",
        "LR = LogisticRegression(solver='lbfgs', random_state=0)\n",
        "pipe_LR = pipeWithTFIDF(LR)\n",
        "\n",
        "# fit, predict and evaluate\n",
        "y_pred_LR = fitPredictAndEvaluateModel(pipe_LR,\"pipe_LR\")\n"
      ],
      "metadata": {
        "colab": {
          "base_uri": "https://localhost:8080/",
          "height": 364
        },
        "id": "_Nggt40pC5d6",
        "outputId": "06e53768-49d7-454a-c64d-3c42dce599ac"
      },
      "execution_count": 107,
      "outputs": [
        {
          "output_type": "error",
          "ename": "AttributeError",
          "evalue": "ignored",
          "traceback": [
            "\u001b[0;31m---------------------------------------------------------------------------\u001b[0m",
            "\u001b[0;31mAttributeError\u001b[0m                            Traceback (most recent call last)",
            "\u001b[0;32m<ipython-input-107-115fa4bc1044>\u001b[0m in \u001b[0;36m<module>\u001b[0;34m\u001b[0m\n\u001b[1;32m      4\u001b[0m \u001b[0;34m\u001b[0m\u001b[0m\n\u001b[1;32m      5\u001b[0m \u001b[0;31m# fit, predict and evaluate\u001b[0m\u001b[0;34m\u001b[0m\u001b[0;34m\u001b[0m\u001b[0;34m\u001b[0m\u001b[0m\n\u001b[0;32m----> 6\u001b[0;31m \u001b[0my_pred_LR\u001b[0m \u001b[0;34m=\u001b[0m \u001b[0mfitPredictAndEvaluateModel\u001b[0m\u001b[0;34m(\u001b[0m\u001b[0mpipe_LR\u001b[0m\u001b[0;34m,\u001b[0m\u001b[0;34m\"pipe_LR\"\u001b[0m\u001b[0;34m)\u001b[0m\u001b[0;34m\u001b[0m\u001b[0;34m\u001b[0m\u001b[0m\n\u001b[0m",
            "\u001b[0;32m<ipython-input-100-1c4221ec14b3>\u001b[0m in \u001b[0;36mfitPredictAndEvaluateModel\u001b[0;34m(pipe, name)\u001b[0m\n\u001b[1;32m      2\u001b[0m \u001b[0;32mdef\u001b[0m \u001b[0mfitPredictAndEvaluateModel\u001b[0m\u001b[0;34m(\u001b[0m\u001b[0mpipe\u001b[0m\u001b[0;34m,\u001b[0m\u001b[0mname\u001b[0m\u001b[0;34m)\u001b[0m\u001b[0;34m:\u001b[0m\u001b[0;34m\u001b[0m\u001b[0;34m\u001b[0m\u001b[0m\n\u001b[1;32m      3\u001b[0m   \u001b[0;31m# Fit model on training set\u001b[0m\u001b[0;34m\u001b[0m\u001b[0;34m\u001b[0m\u001b[0;34m\u001b[0m\u001b[0m\n\u001b[0;32m----> 4\u001b[0;31m   \u001b[0mpipe\u001b[0m\u001b[0;34m.\u001b[0m\u001b[0mfit\u001b[0m\u001b[0;34m(\u001b[0m\u001b[0mX_train\u001b[0m\u001b[0;34m,\u001b[0m \u001b[0my_train\u001b[0m\u001b[0;34m)\u001b[0m\u001b[0;34m\u001b[0m\u001b[0;34m\u001b[0m\u001b[0m\n\u001b[0m\u001b[1;32m      5\u001b[0m \u001b[0;34m\u001b[0m\u001b[0m\n\u001b[1;32m      6\u001b[0m   \u001b[0;31m# Predictions\u001b[0m\u001b[0;34m\u001b[0m\u001b[0;34m\u001b[0m\u001b[0;34m\u001b[0m\u001b[0m\n",
            "\u001b[0;32m/usr/local/lib/python3.8/dist-packages/sklearn/pipeline.py\u001b[0m in \u001b[0;36mfit\u001b[0;34m(self, X, y, **fit_params)\u001b[0m\n\u001b[1;32m    388\u001b[0m         \"\"\"\n\u001b[1;32m    389\u001b[0m         \u001b[0mfit_params_steps\u001b[0m \u001b[0;34m=\u001b[0m \u001b[0mself\u001b[0m\u001b[0;34m.\u001b[0m\u001b[0m_check_fit_params\u001b[0m\u001b[0;34m(\u001b[0m\u001b[0;34m**\u001b[0m\u001b[0mfit_params\u001b[0m\u001b[0;34m)\u001b[0m\u001b[0;34m\u001b[0m\u001b[0;34m\u001b[0m\u001b[0m\n\u001b[0;32m--> 390\u001b[0;31m         \u001b[0mXt\u001b[0m \u001b[0;34m=\u001b[0m \u001b[0mself\u001b[0m\u001b[0;34m.\u001b[0m\u001b[0m_fit\u001b[0m\u001b[0;34m(\u001b[0m\u001b[0mX\u001b[0m\u001b[0;34m,\u001b[0m \u001b[0my\u001b[0m\u001b[0;34m,\u001b[0m \u001b[0;34m**\u001b[0m\u001b[0mfit_params_steps\u001b[0m\u001b[0;34m)\u001b[0m\u001b[0;34m\u001b[0m\u001b[0;34m\u001b[0m\u001b[0m\n\u001b[0m\u001b[1;32m    391\u001b[0m         \u001b[0;32mwith\u001b[0m \u001b[0m_print_elapsed_time\u001b[0m\u001b[0;34m(\u001b[0m\u001b[0;34m\"Pipeline\"\u001b[0m\u001b[0;34m,\u001b[0m \u001b[0mself\u001b[0m\u001b[0;34m.\u001b[0m\u001b[0m_log_message\u001b[0m\u001b[0;34m(\u001b[0m\u001b[0mlen\u001b[0m\u001b[0;34m(\u001b[0m\u001b[0mself\u001b[0m\u001b[0;34m.\u001b[0m\u001b[0msteps\u001b[0m\u001b[0;34m)\u001b[0m \u001b[0;34m-\u001b[0m \u001b[0;36m1\u001b[0m\u001b[0;34m)\u001b[0m\u001b[0;34m)\u001b[0m\u001b[0;34m:\u001b[0m\u001b[0;34m\u001b[0m\u001b[0;34m\u001b[0m\u001b[0m\n\u001b[1;32m    392\u001b[0m             \u001b[0;32mif\u001b[0m \u001b[0mself\u001b[0m\u001b[0;34m.\u001b[0m\u001b[0m_final_estimator\u001b[0m \u001b[0;34m!=\u001b[0m \u001b[0;34m\"passthrough\"\u001b[0m\u001b[0;34m:\u001b[0m\u001b[0;34m\u001b[0m\u001b[0;34m\u001b[0m\u001b[0m\n",
            "\u001b[0;32m/usr/local/lib/python3.8/dist-packages/sklearn/pipeline.py\u001b[0m in \u001b[0;36m_fit\u001b[0;34m(self, X, y, **fit_params_steps)\u001b[0m\n\u001b[1;32m    346\u001b[0m                 \u001b[0mcloned_transformer\u001b[0m \u001b[0;34m=\u001b[0m \u001b[0mclone\u001b[0m\u001b[0;34m(\u001b[0m\u001b[0mtransformer\u001b[0m\u001b[0;34m)\u001b[0m\u001b[0;34m\u001b[0m\u001b[0;34m\u001b[0m\u001b[0m\n\u001b[1;32m    347\u001b[0m             \u001b[0;31m# Fit or load from cache the current transformer\u001b[0m\u001b[0;34m\u001b[0m\u001b[0;34m\u001b[0m\u001b[0;34m\u001b[0m\u001b[0m\n\u001b[0;32m--> 348\u001b[0;31m             X, fitted_transformer = fit_transform_one_cached(\n\u001b[0m\u001b[1;32m    349\u001b[0m                 \u001b[0mcloned_transformer\u001b[0m\u001b[0;34m,\u001b[0m\u001b[0;34m\u001b[0m\u001b[0;34m\u001b[0m\u001b[0m\n\u001b[1;32m    350\u001b[0m                 \u001b[0mX\u001b[0m\u001b[0;34m,\u001b[0m\u001b[0;34m\u001b[0m\u001b[0;34m\u001b[0m\u001b[0m\n",
            "\u001b[0;32m/usr/local/lib/python3.8/dist-packages/joblib/memory.py\u001b[0m in \u001b[0;36m__call__\u001b[0;34m(self, *args, **kwargs)\u001b[0m\n\u001b[1;32m    347\u001b[0m \u001b[0;34m\u001b[0m\u001b[0m\n\u001b[1;32m    348\u001b[0m     \u001b[0;32mdef\u001b[0m \u001b[0m__call__\u001b[0m\u001b[0;34m(\u001b[0m\u001b[0mself\u001b[0m\u001b[0;34m,\u001b[0m \u001b[0;34m*\u001b[0m\u001b[0margs\u001b[0m\u001b[0;34m,\u001b[0m \u001b[0;34m**\u001b[0m\u001b[0mkwargs\u001b[0m\u001b[0;34m)\u001b[0m\u001b[0;34m:\u001b[0m\u001b[0;34m\u001b[0m\u001b[0;34m\u001b[0m\u001b[0m\n\u001b[0;32m--> 349\u001b[0;31m         \u001b[0;32mreturn\u001b[0m \u001b[0mself\u001b[0m\u001b[0;34m.\u001b[0m\u001b[0mfunc\u001b[0m\u001b[0;34m(\u001b[0m\u001b[0;34m*\u001b[0m\u001b[0margs\u001b[0m\u001b[0;34m,\u001b[0m \u001b[0;34m**\u001b[0m\u001b[0mkwargs\u001b[0m\u001b[0;34m)\u001b[0m\u001b[0;34m\u001b[0m\u001b[0;34m\u001b[0m\u001b[0m\n\u001b[0m\u001b[1;32m    350\u001b[0m \u001b[0;34m\u001b[0m\u001b[0m\n\u001b[1;32m    351\u001b[0m     \u001b[0;32mdef\u001b[0m \u001b[0mcall_and_shelve\u001b[0m\u001b[0;34m(\u001b[0m\u001b[0mself\u001b[0m\u001b[0;34m,\u001b[0m \u001b[0;34m*\u001b[0m\u001b[0margs\u001b[0m\u001b[0;34m,\u001b[0m \u001b[0;34m**\u001b[0m\u001b[0mkwargs\u001b[0m\u001b[0;34m)\u001b[0m\u001b[0;34m:\u001b[0m\u001b[0;34m\u001b[0m\u001b[0;34m\u001b[0m\u001b[0m\n",
            "\u001b[0;32m/usr/local/lib/python3.8/dist-packages/sklearn/pipeline.py\u001b[0m in \u001b[0;36m_fit_transform_one\u001b[0;34m(transformer, X, y, weight, message_clsname, message, **fit_params)\u001b[0m\n\u001b[1;32m    891\u001b[0m     \u001b[0;32mwith\u001b[0m \u001b[0m_print_elapsed_time\u001b[0m\u001b[0;34m(\u001b[0m\u001b[0mmessage_clsname\u001b[0m\u001b[0;34m,\u001b[0m \u001b[0mmessage\u001b[0m\u001b[0;34m)\u001b[0m\u001b[0;34m:\u001b[0m\u001b[0;34m\u001b[0m\u001b[0;34m\u001b[0m\u001b[0m\n\u001b[1;32m    892\u001b[0m         \u001b[0;32mif\u001b[0m \u001b[0mhasattr\u001b[0m\u001b[0;34m(\u001b[0m\u001b[0mtransformer\u001b[0m\u001b[0;34m,\u001b[0m \u001b[0;34m\"fit_transform\"\u001b[0m\u001b[0;34m)\u001b[0m\u001b[0;34m:\u001b[0m\u001b[0;34m\u001b[0m\u001b[0;34m\u001b[0m\u001b[0m\n\u001b[0;32m--> 893\u001b[0;31m             \u001b[0mres\u001b[0m \u001b[0;34m=\u001b[0m \u001b[0mtransformer\u001b[0m\u001b[0;34m.\u001b[0m\u001b[0mfit_transform\u001b[0m\u001b[0;34m(\u001b[0m\u001b[0mX\u001b[0m\u001b[0;34m,\u001b[0m \u001b[0my\u001b[0m\u001b[0;34m,\u001b[0m \u001b[0;34m**\u001b[0m\u001b[0mfit_params\u001b[0m\u001b[0;34m)\u001b[0m\u001b[0;34m\u001b[0m\u001b[0;34m\u001b[0m\u001b[0m\n\u001b[0m\u001b[1;32m    894\u001b[0m         \u001b[0;32melse\u001b[0m\u001b[0;34m:\u001b[0m\u001b[0;34m\u001b[0m\u001b[0;34m\u001b[0m\u001b[0m\n\u001b[1;32m    895\u001b[0m             \u001b[0mres\u001b[0m \u001b[0;34m=\u001b[0m \u001b[0mtransformer\u001b[0m\u001b[0;34m.\u001b[0m\u001b[0mfit\u001b[0m\u001b[0;34m(\u001b[0m\u001b[0mX\u001b[0m\u001b[0;34m,\u001b[0m \u001b[0my\u001b[0m\u001b[0;34m,\u001b[0m \u001b[0;34m**\u001b[0m\u001b[0mfit_params\u001b[0m\u001b[0;34m)\u001b[0m\u001b[0;34m.\u001b[0m\u001b[0mtransform\u001b[0m\u001b[0;34m(\u001b[0m\u001b[0mX\u001b[0m\u001b[0;34m)\u001b[0m\u001b[0;34m\u001b[0m\u001b[0;34m\u001b[0m\u001b[0m\n",
            "\u001b[0;32m/usr/local/lib/python3.8/dist-packages/sklearn/feature_extraction/text.py\u001b[0m in \u001b[0;36mfit_transform\u001b[0;34m(self, raw_documents, y)\u001b[0m\n\u001b[1;32m   2075\u001b[0m         \"\"\"\n\u001b[1;32m   2076\u001b[0m         \u001b[0mself\u001b[0m\u001b[0;34m.\u001b[0m\u001b[0m_check_params\u001b[0m\u001b[0;34m(\u001b[0m\u001b[0;34m)\u001b[0m\u001b[0;34m\u001b[0m\u001b[0;34m\u001b[0m\u001b[0m\n\u001b[0;32m-> 2077\u001b[0;31m         \u001b[0mX\u001b[0m \u001b[0;34m=\u001b[0m \u001b[0msuper\u001b[0m\u001b[0;34m(\u001b[0m\u001b[0;34m)\u001b[0m\u001b[0;34m.\u001b[0m\u001b[0mfit_transform\u001b[0m\u001b[0;34m(\u001b[0m\u001b[0mraw_documents\u001b[0m\u001b[0;34m)\u001b[0m\u001b[0;34m\u001b[0m\u001b[0;34m\u001b[0m\u001b[0m\n\u001b[0m\u001b[1;32m   2078\u001b[0m         \u001b[0mself\u001b[0m\u001b[0;34m.\u001b[0m\u001b[0m_tfidf\u001b[0m\u001b[0;34m.\u001b[0m\u001b[0mfit\u001b[0m\u001b[0;34m(\u001b[0m\u001b[0mX\u001b[0m\u001b[0;34m)\u001b[0m\u001b[0;34m\u001b[0m\u001b[0;34m\u001b[0m\u001b[0m\n\u001b[1;32m   2079\u001b[0m         \u001b[0;31m# X is already a transformed view of raw_documents so\u001b[0m\u001b[0;34m\u001b[0m\u001b[0;34m\u001b[0m\u001b[0;34m\u001b[0m\u001b[0m\n",
            "\u001b[0;32m/usr/local/lib/python3.8/dist-packages/sklearn/feature_extraction/text.py\u001b[0m in \u001b[0;36mfit_transform\u001b[0;34m(self, raw_documents, y)\u001b[0m\n\u001b[1;32m   1328\u001b[0m                     \u001b[0;32mbreak\u001b[0m\u001b[0;34m\u001b[0m\u001b[0;34m\u001b[0m\u001b[0m\n\u001b[1;32m   1329\u001b[0m \u001b[0;34m\u001b[0m\u001b[0m\n\u001b[0;32m-> 1330\u001b[0;31m         \u001b[0mvocabulary\u001b[0m\u001b[0;34m,\u001b[0m \u001b[0mX\u001b[0m \u001b[0;34m=\u001b[0m \u001b[0mself\u001b[0m\u001b[0;34m.\u001b[0m\u001b[0m_count_vocab\u001b[0m\u001b[0;34m(\u001b[0m\u001b[0mraw_documents\u001b[0m\u001b[0;34m,\u001b[0m \u001b[0mself\u001b[0m\u001b[0;34m.\u001b[0m\u001b[0mfixed_vocabulary_\u001b[0m\u001b[0;34m)\u001b[0m\u001b[0;34m\u001b[0m\u001b[0;34m\u001b[0m\u001b[0m\n\u001b[0m\u001b[1;32m   1331\u001b[0m \u001b[0;34m\u001b[0m\u001b[0m\n\u001b[1;32m   1332\u001b[0m         \u001b[0;32mif\u001b[0m \u001b[0mself\u001b[0m\u001b[0;34m.\u001b[0m\u001b[0mbinary\u001b[0m\u001b[0;34m:\u001b[0m\u001b[0;34m\u001b[0m\u001b[0;34m\u001b[0m\u001b[0m\n",
            "\u001b[0;32m/usr/local/lib/python3.8/dist-packages/sklearn/feature_extraction/text.py\u001b[0m in \u001b[0;36m_count_vocab\u001b[0;34m(self, raw_documents, fixed_vocab)\u001b[0m\n\u001b[1;32m   1199\u001b[0m         \u001b[0;32mfor\u001b[0m \u001b[0mdoc\u001b[0m \u001b[0;32min\u001b[0m \u001b[0mraw_documents\u001b[0m\u001b[0;34m:\u001b[0m\u001b[0;34m\u001b[0m\u001b[0;34m\u001b[0m\u001b[0m\n\u001b[1;32m   1200\u001b[0m             \u001b[0mfeature_counter\u001b[0m \u001b[0;34m=\u001b[0m \u001b[0;34m{\u001b[0m\u001b[0;34m}\u001b[0m\u001b[0;34m\u001b[0m\u001b[0;34m\u001b[0m\u001b[0m\n\u001b[0;32m-> 1201\u001b[0;31m             \u001b[0;32mfor\u001b[0m \u001b[0mfeature\u001b[0m \u001b[0;32min\u001b[0m \u001b[0manalyze\u001b[0m\u001b[0;34m(\u001b[0m\u001b[0mdoc\u001b[0m\u001b[0;34m)\u001b[0m\u001b[0;34m:\u001b[0m\u001b[0;34m\u001b[0m\u001b[0;34m\u001b[0m\u001b[0m\n\u001b[0m\u001b[1;32m   1202\u001b[0m                 \u001b[0;32mtry\u001b[0m\u001b[0;34m:\u001b[0m\u001b[0;34m\u001b[0m\u001b[0;34m\u001b[0m\u001b[0m\n\u001b[1;32m   1203\u001b[0m                     \u001b[0mfeature_idx\u001b[0m \u001b[0;34m=\u001b[0m \u001b[0mvocabulary\u001b[0m\u001b[0;34m[\u001b[0m\u001b[0mfeature\u001b[0m\u001b[0;34m]\u001b[0m\u001b[0;34m\u001b[0m\u001b[0;34m\u001b[0m\u001b[0m\n",
            "\u001b[0;32m/usr/local/lib/python3.8/dist-packages/sklearn/feature_extraction/text.py\u001b[0m in \u001b[0;36m_analyze\u001b[0;34m(doc, analyzer, tokenizer, ngrams, preprocessor, decoder, stop_words)\u001b[0m\n\u001b[1;32m    111\u001b[0m     \u001b[0;32melse\u001b[0m\u001b[0;34m:\u001b[0m\u001b[0;34m\u001b[0m\u001b[0;34m\u001b[0m\u001b[0m\n\u001b[1;32m    112\u001b[0m         \u001b[0;32mif\u001b[0m \u001b[0mpreprocessor\u001b[0m \u001b[0;32mis\u001b[0m \u001b[0;32mnot\u001b[0m \u001b[0;32mNone\u001b[0m\u001b[0;34m:\u001b[0m\u001b[0;34m\u001b[0m\u001b[0;34m\u001b[0m\u001b[0m\n\u001b[0;32m--> 113\u001b[0;31m             \u001b[0mdoc\u001b[0m \u001b[0;34m=\u001b[0m \u001b[0mpreprocessor\u001b[0m\u001b[0;34m(\u001b[0m\u001b[0mdoc\u001b[0m\u001b[0;34m)\u001b[0m\u001b[0;34m\u001b[0m\u001b[0;34m\u001b[0m\u001b[0m\n\u001b[0m\u001b[1;32m    114\u001b[0m         \u001b[0;32mif\u001b[0m \u001b[0mtokenizer\u001b[0m \u001b[0;32mis\u001b[0m \u001b[0;32mnot\u001b[0m \u001b[0;32mNone\u001b[0m\u001b[0;34m:\u001b[0m\u001b[0;34m\u001b[0m\u001b[0;34m\u001b[0m\u001b[0m\n\u001b[1;32m    115\u001b[0m             \u001b[0mdoc\u001b[0m \u001b[0;34m=\u001b[0m \u001b[0mtokenizer\u001b[0m\u001b[0;34m(\u001b[0m\u001b[0mdoc\u001b[0m\u001b[0;34m)\u001b[0m\u001b[0;34m\u001b[0m\u001b[0;34m\u001b[0m\u001b[0m\n",
            "\u001b[0;32m/usr/local/lib/python3.8/dist-packages/sklearn/feature_extraction/text.py\u001b[0m in \u001b[0;36m_preprocess\u001b[0;34m(doc, accent_function, lower)\u001b[0m\n\u001b[1;32m     69\u001b[0m     \"\"\"\n\u001b[1;32m     70\u001b[0m     \u001b[0;32mif\u001b[0m \u001b[0mlower\u001b[0m\u001b[0;34m:\u001b[0m\u001b[0;34m\u001b[0m\u001b[0;34m\u001b[0m\u001b[0m\n\u001b[0;32m---> 71\u001b[0;31m         \u001b[0mdoc\u001b[0m \u001b[0;34m=\u001b[0m \u001b[0mdoc\u001b[0m\u001b[0;34m.\u001b[0m\u001b[0mlower\u001b[0m\u001b[0;34m(\u001b[0m\u001b[0;34m)\u001b[0m\u001b[0;34m\u001b[0m\u001b[0;34m\u001b[0m\u001b[0m\n\u001b[0m\u001b[1;32m     72\u001b[0m     \u001b[0;32mif\u001b[0m \u001b[0maccent_function\u001b[0m \u001b[0;32mis\u001b[0m \u001b[0;32mnot\u001b[0m \u001b[0;32mNone\u001b[0m\u001b[0;34m:\u001b[0m\u001b[0;34m\u001b[0m\u001b[0;34m\u001b[0m\u001b[0m\n\u001b[1;32m     73\u001b[0m         \u001b[0mdoc\u001b[0m \u001b[0;34m=\u001b[0m \u001b[0maccent_function\u001b[0m\u001b[0;34m(\u001b[0m\u001b[0mdoc\u001b[0m\u001b[0;34m)\u001b[0m\u001b[0;34m\u001b[0m\u001b[0;34m\u001b[0m\u001b[0m\n",
            "\u001b[0;31mAttributeError\u001b[0m: 'numpy.ndarray' object has no attribute 'lower'"
          ]
        }
      ]
    },
    {
      "cell_type": "markdown",
      "source": [
        "## KNN & hyperparameter optimization (no data cleaning)"
      ],
      "metadata": {
        "id": "XlrgLzHrERoB"
      }
    },
    {
      "cell_type": "code",
      "source": [
        "# Import KNeighborsClassifier\n",
        "from sklearn.neighbors import KNeighborsClassifier"
      ],
      "metadata": {
        "id": "-MbRX89zRgvl"
      },
      "execution_count": 25,
      "outputs": []
    },
    {
      "cell_type": "markdown",
      "source": [
        "###Knn Basic"
      ],
      "metadata": {
        "id": "XVykmI_ZEVaM"
      }
    },
    {
      "cell_type": "code",
      "source": [
        "# Define classifier and pipeline creation\n",
        "knn = KNeighborsClassifier()\n",
        "pipe_knn = pipeWithTFIDF(knn)\n",
        "\n",
        "# fit, predict and evaluate\n",
        "y_pred_knn = fitPredictAndEvaluateModel(pipe_knn,\"pipe_knn\")"
      ],
      "metadata": {
        "colab": {
          "base_uri": "https://localhost:8080/"
        },
        "id": "MgqngxgrETfD",
        "outputId": "dd5be0bd-6c24-4819-c9a7-7d6bb1c4c1d3"
      },
      "execution_count": 26,
      "outputs": [
        {
          "output_type": "stream",
          "name": "stdout",
          "text": [
            "CONFUSION MATRIX:\n",
            "[[121  28   8   1   1   2]\n",
            " [ 98  51  12   1   1   1]\n",
            " [ 81  39  33   3   1   3]\n",
            " [ 49  30  19  29   3  14]\n",
            " [ 48  36  29  15  29  16]\n",
            " [ 37  29  17  23   9  43]]\n",
            "ACCURACY SCORE:\n",
            "0.3187\n",
            "CLASSIFICATION REPORT:\n",
            "\tPrecision: 0.4007\n",
            "\tRecall: 0.3183\n",
            "\tF1_Score: 0.3022\n"
          ]
        }
      ]
    },
    {
      "cell_type": "markdown",
      "source": [
        "###Knn with hyperparameter optimization "
      ],
      "metadata": {
        "id": "IxBAC36yEwib"
      }
    },
    {
      "cell_type": "code",
      "source": [
        "#Preparation of the GridSearch\n",
        "seed = 0\n",
        "grid_params = { 'n_neighbors' : [5,7,9,11,13,15],\n",
        "               'weights' : ['uniform','distance'],\n",
        "               'metric' : ['minkowski','euclidean','manhattan']}\n",
        "gs = GridSearchCV(KNeighborsClassifier(), grid_params, verbose = 1, cv=3, n_jobs = -1)\n",
        "\n",
        "#GridSearch and Print Results\n",
        "getResultsGridSearch(gs)"
      ],
      "metadata": {
        "colab": {
          "base_uri": "https://localhost:8080/"
        },
        "id": "lxrqEPRjE0U6",
        "outputId": "37219b06-a602-424c-f41e-1e9ec2638a78"
      },
      "execution_count": 27,
      "outputs": [
        {
          "output_type": "stream",
          "name": "stdout",
          "text": [
            "Fitting 3 folds for each of 36 candidates, totalling 108 fits\n",
            "Best Score : \n",
            "0.3466145833333334\n",
            "Best Params : \n",
            "{'metric': 'minkowski', 'n_neighbors': 11, 'weights': 'distance'}\n"
          ]
        }
      ]
    },
    {
      "cell_type": "code",
      "source": [
        "# Define classifier and pipeline creation \n",
        "## This time we put the parameters we got in previous step\n",
        "knn_GS = KNeighborsClassifier(n_neighbors = 11, weights = 'distance',metric = 'minkowski')\n",
        "pipe_knn_GS = pipeWithTFIDF(knn)\n",
        "\n",
        "# fit, predict and evaluate\n",
        "y_pred_knn_GS = fitPredictAndEvaluateModel(pipe_knn_GS,\"pip_knn_GS\")"
      ],
      "metadata": {
        "colab": {
          "base_uri": "https://localhost:8080/"
        },
        "id": "CqNCllR4QaAf",
        "outputId": "59a9c63c-6f6e-48ac-ab42-ecd9d7ccffcd"
      },
      "execution_count": 28,
      "outputs": [
        {
          "output_type": "stream",
          "name": "stdout",
          "text": [
            "CONFUSION MATRIX:\n",
            "[[121  28   8   1   1   2]\n",
            " [ 98  51  12   1   1   1]\n",
            " [ 81  39  33   3   1   3]\n",
            " [ 49  30  19  29   3  14]\n",
            " [ 48  36  29  15  29  16]\n",
            " [ 37  29  17  23   9  43]]\n",
            "ACCURACY SCORE:\n",
            "0.3187\n",
            "CLASSIFICATION REPORT:\n",
            "\tPrecision: 0.4007\n",
            "\tRecall: 0.3183\n",
            "\tF1_Score: 0.3022\n"
          ]
        }
      ]
    },
    {
      "cell_type": "markdown",
      "source": [
        "##Decision Tree & Hyperparameter optimization (no data cleaning))"
      ],
      "metadata": {
        "id": "AMDalKeNSaKr"
      }
    },
    {
      "cell_type": "code",
      "source": [
        "# Import Decision Tree Classifier\n",
        "from sklearn.tree import DecisionTreeClassifier"
      ],
      "metadata": {
        "id": "DeqqJL3oTF09"
      },
      "execution_count": 29,
      "outputs": []
    },
    {
      "cell_type": "markdown",
      "source": [
        "### Decision tree Basic"
      ],
      "metadata": {
        "id": "IqGVDxEBSiVy"
      }
    },
    {
      "cell_type": "code",
      "source": [
        "# Define classifier and pipeline creation\n",
        "dt = DecisionTreeClassifier(random_state=0)\n",
        "pipe_dt = pipeWithTFIDF(dt)\n",
        "\n",
        "# fit, predict and evaluate\n",
        "y_pred_dt = fitPredictAndEvaluateModel(pipe_dt,\"pipe_dt\")"
      ],
      "metadata": {
        "colab": {
          "base_uri": "https://localhost:8080/"
        },
        "id": "PO3bqK_DSc1I",
        "outputId": "542d3a7f-2973-44c7-9a0e-b32f0237a186"
      },
      "execution_count": 30,
      "outputs": [
        {
          "output_type": "stream",
          "name": "stdout",
          "text": [
            "CONFUSION MATRIX:\n",
            "[[78 38 25 11  2  7]\n",
            " [49 54 33 18  3  7]\n",
            " [24 41 37 25 18 15]\n",
            " [10 20 30 38 24 22]\n",
            " [ 8 19 31 39 39 37]\n",
            " [15 13 28 33 30 39]]\n",
            "ACCURACY SCORE:\n",
            "0.2969\n",
            "CLASSIFICATION REPORT:\n",
            "\tPrecision: 0.2986\n",
            "\tRecall: 0.2969\n",
            "\tF1_Score: 0.2945\n"
          ]
        }
      ]
    },
    {
      "cell_type": "markdown",
      "source": [
        "###Decision Tree with hyperparameter optimization"
      ],
      "metadata": {
        "id": "g8a1lcttTZux"
      }
    },
    {
      "cell_type": "code",
      "source": [
        "#Preparation of the GridSearch\n",
        "seed = 0\n",
        "grid_params = {'max_depth' : range(1,60)}\n",
        "gs = GridSearchCV(DecisionTreeClassifier(), grid_params, verbose = 1, cv=3, n_jobs = -1)\n",
        "\n",
        "#GridSearch and Print Results\n",
        "getResultsGridSearch(gs)\n"
      ],
      "metadata": {
        "colab": {
          "base_uri": "https://localhost:8080/"
        },
        "id": "3ozK0b1dUBLW",
        "outputId": "d14c3288-1e34-4bba-d41d-842da87ebddf"
      },
      "execution_count": 31,
      "outputs": [
        {
          "output_type": "stream",
          "name": "stdout",
          "text": [
            "Fitting 3 folds for each of 59 candidates, totalling 177 fits\n",
            "Best Score : \n",
            "0.32786458333333335\n",
            "Best Params : \n",
            "{'max_depth': 50}\n"
          ]
        }
      ]
    },
    {
      "cell_type": "code",
      "source": [
        "# Define classifier and pipeline creation\n",
        "dt = DecisionTreeClassifier(max_depth=43, random_state=0)\n",
        "pipe_dt_GS = pipeWithTFIDF(dt)\n",
        "\n",
        "# fit, predict and evaluate\n",
        "y_pred_dt_GS = fitPredictAndEvaluateModel(pipe_dt_GS,\"pipe_dt_GS\")"
      ],
      "metadata": {
        "colab": {
          "base_uri": "https://localhost:8080/"
        },
        "id": "VqYmKqskWG4C",
        "outputId": "67fda1d9-f4ae-4a91-c3f3-8879128aa37b"
      },
      "execution_count": 32,
      "outputs": [
        {
          "output_type": "stream",
          "name": "stdout",
          "text": [
            "CONFUSION MATRIX:\n",
            "[[84 34 29  7  1  6]\n",
            " [48 53 36 15  4  8]\n",
            " [34 39 38 18 17 14]\n",
            " [ 9 23 27 44 19 22]\n",
            " [14 19 27 47 35 31]\n",
            " [16 12 27 37 32 34]]\n",
            "ACCURACY SCORE:\n",
            "0.3000\n",
            "CLASSIFICATION REPORT:\n",
            "\tPrecision: 0.2987\n",
            "\tRecall: 0.3009\n",
            "\tF1_Score: 0.2947\n"
          ]
        }
      ]
    },
    {
      "cell_type": "markdown",
      "source": [
        "## Random Forest (no data cleaning)"
      ],
      "metadata": {
        "id": "GG4m1owaadYQ"
      }
    },
    {
      "cell_type": "code",
      "source": [
        "from sklearn.ensemble import RandomForestClassifier"
      ],
      "metadata": {
        "id": "ycgLD_weageC"
      },
      "execution_count": 33,
      "outputs": []
    },
    {
      "cell_type": "code",
      "source": [
        "# Define classifier and pipeline creation\n",
        "rf = RandomForestClassifier(random_state=0)\n",
        "pipe_rf = pipeWithTFIDF(rf)\n",
        "\n",
        "# fit, predict and evaluate\n",
        "y_pred_rf = fitPredictAndEvaluateModel(pipe_rf,\"pipe_rf\")"
      ],
      "metadata": {
        "colab": {
          "base_uri": "https://localhost:8080/"
        },
        "id": "MollJ3ViapuQ",
        "outputId": "d6dbeedf-4419-4a72-a5d8-635fda7e7cc1"
      },
      "execution_count": 34,
      "outputs": [
        {
          "output_type": "stream",
          "name": "stdout",
          "text": [
            "CONFUSION MATRIX:\n",
            "[[125  20   7   7   2   0]\n",
            " [ 83  51  21   7   2   0]\n",
            " [ 39  39  47  20   6   9]\n",
            " [ 17  11  13  68  23  12]\n",
            " [ 16  16  23  46  46  26]\n",
            " [ 19  13  10  33  23  60]]\n",
            "ACCURACY SCORE:\n",
            "0.4135\n",
            "CLASSIFICATION REPORT:\n",
            "\tPrecision: 0.4223\n",
            "\tRecall: 0.4165\n",
            "\tF1_Score: 0.4014\n"
          ]
        }
      ]
    },
    {
      "cell_type": "code",
      "source": [
        "LRCV = LogisticRegressionCV(solver='lbfgs',cv=5 ,max_iter=1000, random_state=0)\n",
        "\n",
        "# Define classifier and pipeline creation\n",
        "LRCV = LinearSVC(random_state=0)\n",
        "pipe_LRCV = pipeWithTFIDF(LRCV)\n",
        "\n",
        "# fit, predict and evaluate\n",
        "y_pred_LRCV = fitPredictAndEvaluateModel(pipe_LRCV,\"pipe_LRCV\")"
      ],
      "metadata": {
        "id": "dtV3hN_UCWZl"
      },
      "execution_count": null,
      "outputs": []
    },
    {
      "cell_type": "markdown",
      "source": [
        "##LinearSVC"
      ],
      "metadata": {
        "id": "ipqjaG5Nbz-q"
      }
    },
    {
      "cell_type": "code",
      "source": [
        "from sklearn.svm import LinearSVC"
      ],
      "metadata": {
        "id": "LjISwCFbb4IS"
      },
      "execution_count": 35,
      "outputs": []
    },
    {
      "cell_type": "code",
      "source": [
        "# Define classifier and pipeline creation\n",
        "Lsvc = LinearSVC(random_state=0)\n",
        "pipe_Lsvc = pipeWithTFIDF(Lsvc)\n",
        "\n",
        "# fit, predict and evaluate\n",
        "y_pred_Lsvc = fitPredictAndEvaluateModel(pipe_Lsvc,\"pipe_Lsvc\")"
      ],
      "metadata": {
        "colab": {
          "base_uri": "https://localhost:8080/"
        },
        "id": "jGBM7VlJb9IB",
        "outputId": "7a6e56f1-f0c9-468c-e7b2-5873d6278548"
      },
      "execution_count": 36,
      "outputs": [
        {
          "output_type": "stream",
          "name": "stdout",
          "text": [
            "CONFUSION MATRIX:\n",
            "[[96 39 15  5  3  3]\n",
            " [52 65 32  3  5  7]\n",
            " [13 38 74 10  6 19]\n",
            " [ 5 10 19 61 24 25]\n",
            " [ 8  8 16 35 66 40]\n",
            " [ 6 11  8 16 22 95]]\n",
            "ACCURACY SCORE:\n",
            "0.4760\n",
            "CLASSIFICATION REPORT:\n",
            "\tPrecision: 0.4767\n",
            "\tRecall: 0.4769\n",
            "\tF1_Score: 0.4737\n"
          ]
        }
      ]
    },
    {
      "cell_type": "markdown",
      "source": [
        "##MultinomialNB"
      ],
      "metadata": {
        "id": "P96Tvz-mc29u"
      }
    },
    {
      "cell_type": "code",
      "source": [
        "from sklearn.naive_bayes import MultinomialNB"
      ],
      "metadata": {
        "id": "KESY4KZEc5nY"
      },
      "execution_count": 37,
      "outputs": []
    },
    {
      "cell_type": "code",
      "source": [
        "# Define classifier and pipeline creation\n",
        "mnb = MultinomialNB()\n",
        "pipe_mnb = pipeWithTFIDF(mnb)\n",
        "\n",
        "# fit, predict and evaluate\n",
        "y_pred_mnb = fitPredictAndEvaluateModel(pipe_mnb,\"pipe_mnb\")"
      ],
      "metadata": {
        "colab": {
          "base_uri": "https://localhost:8080/"
        },
        "id": "4tMuNl4bc76c",
        "outputId": "cab2f399-458a-4dfc-f7cd-b1b8689b23d1"
      },
      "execution_count": 38,
      "outputs": [
        {
          "output_type": "stream",
          "name": "stdout",
          "text": [
            "CONFUSION MATRIX:\n",
            "[[ 84  44  25   4   1   3]\n",
            " [ 39  79  31   3   2  10]\n",
            " [  7  43  80   6   4  20]\n",
            " [  1  10  23  60  20  30]\n",
            " [  2   9  15  25  53  69]\n",
            " [  5  13   8  10  15 107]]\n",
            "ACCURACY SCORE:\n",
            "0.4823\n",
            "CLASSIFICATION REPORT:\n",
            "\tPrecision: 0.5014\n",
            "\tRecall: 0.4839\n",
            "\tF1_Score: 0.4795\n"
          ]
        }
      ]
    },
    {
      "cell_type": "markdown",
      "source": [
        "##Ensembles\n",
        "\n"
      ],
      "metadata": {
        "id": "lLa5YVLddsDN"
      }
    },
    {
      "cell_type": "code",
      "source": [
        "from sklearn.ensemble import VotingClassifier"
      ],
      "metadata": {
        "id": "3kLiFCZ4duTo"
      },
      "execution_count": 39,
      "outputs": []
    },
    {
      "cell_type": "code",
      "source": [
        "#Definition of an ensemble with a LR and a MNB\n",
        "soft_voting_clf = VotingClassifier(estimators=[('LR', pipe_LR), ('mnb', pipe_mnb) ], voting='soft')\n",
        "\n",
        "#Train\n",
        "soft_voting_clf.fit(X_train, y_train) # training\n",
        "\n",
        "#Pred\n",
        "y_pred = soft_voting_clf.predict(X_test)\n",
        "\n",
        "#Evaluate\n",
        "evaluate(y_test, y_pred)"
      ],
      "metadata": {
        "id": "R8D3Mo_8d9IP",
        "outputId": "25fb576e-4015-492c-e3fa-6dcadfa0feef",
        "colab": {
          "base_uri": "https://localhost:8080/"
        }
      },
      "execution_count": 40,
      "outputs": [
        {
          "output_type": "stream",
          "name": "stdout",
          "text": [
            "CONFUSION MATRIX:\n",
            "[[ 91  36  22   7   2   3]\n",
            " [ 48  69  30   4   4   9]\n",
            " [ 12  38  70  13   5  22]\n",
            " [  5   4  18  65  26  26]\n",
            " [  4   5  15  32  63  54]\n",
            " [  3   9  10  15  18 103]]\n",
            "ACCURACY SCORE:\n",
            "0.4802\n",
            "CLASSIFICATION REPORT:\n",
            "\tPrecision: 0.4829\n",
            "\tRecall: 0.4818\n",
            "\tF1_Score: 0.4773\n"
          ]
        }
      ]
    },
    {
      "cell_type": "markdown",
      "source": [
        "##Doc2Vec & Logistic Regression (With data cleaning)"
      ],
      "metadata": {
        "id": "jekvZA3TfweS"
      }
    },
    {
      "cell_type": "markdown",
      "source": [
        "###Data Cleaning"
      ],
      "metadata": {
        "id": "AYTjjGmKf5r9"
      }
    },
    {
      "cell_type": "markdown",
      "source": [
        "#### StopWords and punctuation"
      ],
      "metadata": {
        "id": "pt2I2n8Nf7vm"
      }
    },
    {
      "cell_type": "code",
      "source": [
        "nltk.download('wordnet')\n",
        "nltk.download('punkt')\n",
        "nltk.download('stopwords')\n",
        "nlp = spacy.load('fr_core_news_sm')"
      ],
      "metadata": {
        "id": "ylC38VLx7yg-",
        "outputId": "c86d18c0-dd6d-4c61-87d0-99fef4488ea2",
        "colab": {
          "base_uri": "https://localhost:8080/"
        }
      },
      "execution_count": 62,
      "outputs": [
        {
          "output_type": "stream",
          "name": "stderr",
          "text": [
            "[nltk_data] Downloading package wordnet to /root/nltk_data...\n",
            "[nltk_data]   Package wordnet is already up-to-date!\n",
            "[nltk_data] Downloading package punkt to /root/nltk_data...\n",
            "[nltk_data]   Package punkt is already up-to-date!\n",
            "[nltk_data] Downloading package stopwords to /root/nltk_data...\n",
            "[nltk_data]   Package stopwords is already up-to-date!\n"
          ]
        }
      ]
    },
    {
      "cell_type": "code",
      "source": [
        "#Convert to lowercase\n",
        "df['sentence'] = df['sentence'].str.lower()\n",
        "df_pred['sentence'] = df_pred['sentence'].str.lower()\n",
        "\n",
        "#Remove punctuation\n",
        "df['sentence'] = df['sentence'].apply(remove_punctuations)\n",
        "df_pred['sentence'] = df_pred['sentence'].apply(remove_punctuations)"
      ],
      "metadata": {
        "id": "YFBkL7Xef4LL"
      },
      "execution_count": 63,
      "outputs": []
    },
    {
      "cell_type": "code",
      "source": [
        "#Define list of stopwords\n",
        "french_stopwords = spacy.lang.fr.stop_words.STOP_WORDS\n",
        "french_stopwords.add('a')\n",
        "french_stopwords.add('c')\n",
        "french_stopwords.add('d')\n",
        "french_stopwords.add('e')\n",
        "french_stopwords.add('j')\n",
        "french_stopwords.add('l')\n",
        "french_stopwords.add('m')\n",
        "french_stopwords.add('n')\n",
        "french_stopwords.add('s')\n",
        "french_stopwords.add('t')\n",
        "french_stopwords.add('y')\n",
        "french_stopwords.add('qu')"
      ],
      "metadata": {
        "id": "s4nk1n7f7-7N"
      },
      "execution_count": 64,
      "outputs": []
    },
    {
      "cell_type": "code",
      "source": [
        "#Remove stopwords\n",
        "df['sentence'] = df['sentence'].apply(lambda x: ' '.join([word for word in x.split() if word not in (french_stopwords)]))\n",
        "df_pred['sentence'] = df_pred['sentence'].apply(lambda x: ' '.join([word for word in x.split() if word not in (french_stopwords)]))\n",
        "df_pred.head(10)"
      ],
      "metadata": {
        "id": "v6suzpAn8NNP",
        "outputId": "8d87f658-2a61-4190-f3b2-9c356f792aaf",
        "colab": {
          "base_uri": "https://localhost:8080/",
          "height": 363
        }
      },
      "execution_count": 65,
      "outputs": [
        {
          "output_type": "execute_result",
          "data": {
            "text/plain": [
              "   id                                           sentence\n",
              "0   0               dûmes excuser propos eûmes prononcés\n",
              "1   1      pouvez savoir plaisir recevoir bonne nouvelle\n",
              "2   2            paradoxalement boire froid bonne parade\n",
              "3   3                        étonnant saison mystérieuse\n",
              "4   4  corps golo essence surnaturelle monture arrang...\n",
              "5   5  jeta cri petit cri voulut dresser débattre rep...\n",
              "6   6  madame monsieur fils léo arrive jours retard é...\n",
              "7   7                                  trouvé repas midi\n",
              "8   8  racine mal bel bien penser tendant manichéisme...\n",
              "9   9                                             madame"
            ],
            "text/html": [
              "\n",
              "  <div id=\"df-ca8f52c2-11c3-40ca-90e5-ca67bb0092f3\">\n",
              "    <div class=\"colab-df-container\">\n",
              "      <div>\n",
              "<style scoped>\n",
              "    .dataframe tbody tr th:only-of-type {\n",
              "        vertical-align: middle;\n",
              "    }\n",
              "\n",
              "    .dataframe tbody tr th {\n",
              "        vertical-align: top;\n",
              "    }\n",
              "\n",
              "    .dataframe thead th {\n",
              "        text-align: right;\n",
              "    }\n",
              "</style>\n",
              "<table border=\"1\" class=\"dataframe\">\n",
              "  <thead>\n",
              "    <tr style=\"text-align: right;\">\n",
              "      <th></th>\n",
              "      <th>id</th>\n",
              "      <th>sentence</th>\n",
              "    </tr>\n",
              "  </thead>\n",
              "  <tbody>\n",
              "    <tr>\n",
              "      <th>0</th>\n",
              "      <td>0</td>\n",
              "      <td>dûmes excuser propos eûmes prononcés</td>\n",
              "    </tr>\n",
              "    <tr>\n",
              "      <th>1</th>\n",
              "      <td>1</td>\n",
              "      <td>pouvez savoir plaisir recevoir bonne nouvelle</td>\n",
              "    </tr>\n",
              "    <tr>\n",
              "      <th>2</th>\n",
              "      <td>2</td>\n",
              "      <td>paradoxalement boire froid bonne parade</td>\n",
              "    </tr>\n",
              "    <tr>\n",
              "      <th>3</th>\n",
              "      <td>3</td>\n",
              "      <td>étonnant saison mystérieuse</td>\n",
              "    </tr>\n",
              "    <tr>\n",
              "      <th>4</th>\n",
              "      <td>4</td>\n",
              "      <td>corps golo essence surnaturelle monture arrang...</td>\n",
              "    </tr>\n",
              "    <tr>\n",
              "      <th>5</th>\n",
              "      <td>5</td>\n",
              "      <td>jeta cri petit cri voulut dresser débattre rep...</td>\n",
              "    </tr>\n",
              "    <tr>\n",
              "      <th>6</th>\n",
              "      <td>6</td>\n",
              "      <td>madame monsieur fils léo arrive jours retard é...</td>\n",
              "    </tr>\n",
              "    <tr>\n",
              "      <th>7</th>\n",
              "      <td>7</td>\n",
              "      <td>trouvé repas midi</td>\n",
              "    </tr>\n",
              "    <tr>\n",
              "      <th>8</th>\n",
              "      <td>8</td>\n",
              "      <td>racine mal bel bien penser tendant manichéisme...</td>\n",
              "    </tr>\n",
              "    <tr>\n",
              "      <th>9</th>\n",
              "      <td>9</td>\n",
              "      <td>madame</td>\n",
              "    </tr>\n",
              "  </tbody>\n",
              "</table>\n",
              "</div>\n",
              "      <button class=\"colab-df-convert\" onclick=\"convertToInteractive('df-ca8f52c2-11c3-40ca-90e5-ca67bb0092f3')\"\n",
              "              title=\"Convert this dataframe to an interactive table.\"\n",
              "              style=\"display:none;\">\n",
              "        \n",
              "  <svg xmlns=\"http://www.w3.org/2000/svg\" height=\"24px\"viewBox=\"0 0 24 24\"\n",
              "       width=\"24px\">\n",
              "    <path d=\"M0 0h24v24H0V0z\" fill=\"none\"/>\n",
              "    <path d=\"M18.56 5.44l.94 2.06.94-2.06 2.06-.94-2.06-.94-.94-2.06-.94 2.06-2.06.94zm-11 1L8.5 8.5l.94-2.06 2.06-.94-2.06-.94L8.5 2.5l-.94 2.06-2.06.94zm10 10l.94 2.06.94-2.06 2.06-.94-2.06-.94-.94-2.06-.94 2.06-2.06.94z\"/><path d=\"M17.41 7.96l-1.37-1.37c-.4-.4-.92-.59-1.43-.59-.52 0-1.04.2-1.43.59L10.3 9.45l-7.72 7.72c-.78.78-.78 2.05 0 2.83L4 21.41c.39.39.9.59 1.41.59.51 0 1.02-.2 1.41-.59l7.78-7.78 2.81-2.81c.8-.78.8-2.07 0-2.86zM5.41 20L4 18.59l7.72-7.72 1.47 1.35L5.41 20z\"/>\n",
              "  </svg>\n",
              "      </button>\n",
              "      \n",
              "  <style>\n",
              "    .colab-df-container {\n",
              "      display:flex;\n",
              "      flex-wrap:wrap;\n",
              "      gap: 12px;\n",
              "    }\n",
              "\n",
              "    .colab-df-convert {\n",
              "      background-color: #E8F0FE;\n",
              "      border: none;\n",
              "      border-radius: 50%;\n",
              "      cursor: pointer;\n",
              "      display: none;\n",
              "      fill: #1967D2;\n",
              "      height: 32px;\n",
              "      padding: 0 0 0 0;\n",
              "      width: 32px;\n",
              "    }\n",
              "\n",
              "    .colab-df-convert:hover {\n",
              "      background-color: #E2EBFA;\n",
              "      box-shadow: 0px 1px 2px rgba(60, 64, 67, 0.3), 0px 1px 3px 1px rgba(60, 64, 67, 0.15);\n",
              "      fill: #174EA6;\n",
              "    }\n",
              "\n",
              "    [theme=dark] .colab-df-convert {\n",
              "      background-color: #3B4455;\n",
              "      fill: #D2E3FC;\n",
              "    }\n",
              "\n",
              "    [theme=dark] .colab-df-convert:hover {\n",
              "      background-color: #434B5C;\n",
              "      box-shadow: 0px 1px 3px 1px rgba(0, 0, 0, 0.15);\n",
              "      filter: drop-shadow(0px 1px 2px rgba(0, 0, 0, 0.3));\n",
              "      fill: #FFFFFF;\n",
              "    }\n",
              "  </style>\n",
              "\n",
              "      <script>\n",
              "        const buttonEl =\n",
              "          document.querySelector('#df-ca8f52c2-11c3-40ca-90e5-ca67bb0092f3 button.colab-df-convert');\n",
              "        buttonEl.style.display =\n",
              "          google.colab.kernel.accessAllowed ? 'block' : 'none';\n",
              "\n",
              "        async function convertToInteractive(key) {\n",
              "          const element = document.querySelector('#df-ca8f52c2-11c3-40ca-90e5-ca67bb0092f3');\n",
              "          const dataTable =\n",
              "            await google.colab.kernel.invokeFunction('convertToInteractive',\n",
              "                                                     [key], {});\n",
              "          if (!dataTable) return;\n",
              "\n",
              "          const docLinkHtml = 'Like what you see? Visit the ' +\n",
              "            '<a target=\"_blank\" href=https://colab.research.google.com/notebooks/data_table.ipynb>data table notebook</a>'\n",
              "            + ' to learn more about interactive tables.';\n",
              "          element.innerHTML = '';\n",
              "          dataTable['output_type'] = 'display_data';\n",
              "          await google.colab.output.renderOutput(dataTable, element);\n",
              "          const docLink = document.createElement('div');\n",
              "          docLink.innerHTML = docLinkHtml;\n",
              "          element.appendChild(docLink);\n",
              "        }\n",
              "      </script>\n",
              "    </div>\n",
              "  </div>\n",
              "  "
            ]
          },
          "metadata": {},
          "execution_count": 65
        }
      ]
    },
    {
      "cell_type": "markdown",
      "source": [
        "#### Tokenization"
      ],
      "metadata": {
        "id": "nAIMoCHR8XE2"
      }
    },
    {
      "cell_type": "code",
      "source": [
        "#Tokenize\n",
        "df['tocken_without_stopwords'] = [nlp(text) for text in df.sentence]\n",
        "\n",
        "#add a columns with the lengh \n",
        "df['len'] = [len(token) for token in df.tocken_without_stopwords]\n",
        "df.head()"
      ],
      "metadata": {
        "id": "ZbyrkQEt8ZXp",
        "outputId": "445266fb-6554-42e7-f79a-a07c5840cfc3",
        "colab": {
          "base_uri": "https://localhost:8080/",
          "height": 206
        }
      },
      "execution_count": 66,
      "outputs": [
        {
          "output_type": "execute_result",
          "data": {
            "text/plain": [
              "   id                                           sentence difficulty  \\\n",
              "0   0  coûts kilométriques réels diverger sensiblemen...         C1   \n",
              "1   1                    bleu couleur préférée aime vert         A1   \n",
              "2   2           test niveau français site internet école         A1   \n",
              "3   3                                        mari boston         A1   \n",
              "4   4  écoles commerce couloirs places financières ar...         B1   \n",
              "\n",
              "                            tocken_without_stopwords  len  \n",
              "0  (coûts, kilométriques, réels, diverger, sensib...   21  \n",
              "1              (bleu, couleur, préférée, aime, vert)    5  \n",
              "2    (test, niveau, français, site, internet, école)    6  \n",
              "3                                     (mari, boston)    2  \n",
              "4  (écoles, commerce, couloirs, places, financièr...   19  "
            ],
            "text/html": [
              "\n",
              "  <div id=\"df-9b3876e6-86db-4ab6-979f-d3270da565f0\">\n",
              "    <div class=\"colab-df-container\">\n",
              "      <div>\n",
              "<style scoped>\n",
              "    .dataframe tbody tr th:only-of-type {\n",
              "        vertical-align: middle;\n",
              "    }\n",
              "\n",
              "    .dataframe tbody tr th {\n",
              "        vertical-align: top;\n",
              "    }\n",
              "\n",
              "    .dataframe thead th {\n",
              "        text-align: right;\n",
              "    }\n",
              "</style>\n",
              "<table border=\"1\" class=\"dataframe\">\n",
              "  <thead>\n",
              "    <tr style=\"text-align: right;\">\n",
              "      <th></th>\n",
              "      <th>id</th>\n",
              "      <th>sentence</th>\n",
              "      <th>difficulty</th>\n",
              "      <th>tocken_without_stopwords</th>\n",
              "      <th>len</th>\n",
              "    </tr>\n",
              "  </thead>\n",
              "  <tbody>\n",
              "    <tr>\n",
              "      <th>0</th>\n",
              "      <td>0</td>\n",
              "      <td>coûts kilométriques réels diverger sensiblemen...</td>\n",
              "      <td>C1</td>\n",
              "      <td>(coûts, kilométriques, réels, diverger, sensib...</td>\n",
              "      <td>21</td>\n",
              "    </tr>\n",
              "    <tr>\n",
              "      <th>1</th>\n",
              "      <td>1</td>\n",
              "      <td>bleu couleur préférée aime vert</td>\n",
              "      <td>A1</td>\n",
              "      <td>(bleu, couleur, préférée, aime, vert)</td>\n",
              "      <td>5</td>\n",
              "    </tr>\n",
              "    <tr>\n",
              "      <th>2</th>\n",
              "      <td>2</td>\n",
              "      <td>test niveau français site internet école</td>\n",
              "      <td>A1</td>\n",
              "      <td>(test, niveau, français, site, internet, école)</td>\n",
              "      <td>6</td>\n",
              "    </tr>\n",
              "    <tr>\n",
              "      <th>3</th>\n",
              "      <td>3</td>\n",
              "      <td>mari boston</td>\n",
              "      <td>A1</td>\n",
              "      <td>(mari, boston)</td>\n",
              "      <td>2</td>\n",
              "    </tr>\n",
              "    <tr>\n",
              "      <th>4</th>\n",
              "      <td>4</td>\n",
              "      <td>écoles commerce couloirs places financières ar...</td>\n",
              "      <td>B1</td>\n",
              "      <td>(écoles, commerce, couloirs, places, financièr...</td>\n",
              "      <td>19</td>\n",
              "    </tr>\n",
              "  </tbody>\n",
              "</table>\n",
              "</div>\n",
              "      <button class=\"colab-df-convert\" onclick=\"convertToInteractive('df-9b3876e6-86db-4ab6-979f-d3270da565f0')\"\n",
              "              title=\"Convert this dataframe to an interactive table.\"\n",
              "              style=\"display:none;\">\n",
              "        \n",
              "  <svg xmlns=\"http://www.w3.org/2000/svg\" height=\"24px\"viewBox=\"0 0 24 24\"\n",
              "       width=\"24px\">\n",
              "    <path d=\"M0 0h24v24H0V0z\" fill=\"none\"/>\n",
              "    <path d=\"M18.56 5.44l.94 2.06.94-2.06 2.06-.94-2.06-.94-.94-2.06-.94 2.06-2.06.94zm-11 1L8.5 8.5l.94-2.06 2.06-.94-2.06-.94L8.5 2.5l-.94 2.06-2.06.94zm10 10l.94 2.06.94-2.06 2.06-.94-2.06-.94-.94-2.06-.94 2.06-2.06.94z\"/><path d=\"M17.41 7.96l-1.37-1.37c-.4-.4-.92-.59-1.43-.59-.52 0-1.04.2-1.43.59L10.3 9.45l-7.72 7.72c-.78.78-.78 2.05 0 2.83L4 21.41c.39.39.9.59 1.41.59.51 0 1.02-.2 1.41-.59l7.78-7.78 2.81-2.81c.8-.78.8-2.07 0-2.86zM5.41 20L4 18.59l7.72-7.72 1.47 1.35L5.41 20z\"/>\n",
              "  </svg>\n",
              "      </button>\n",
              "      \n",
              "  <style>\n",
              "    .colab-df-container {\n",
              "      display:flex;\n",
              "      flex-wrap:wrap;\n",
              "      gap: 12px;\n",
              "    }\n",
              "\n",
              "    .colab-df-convert {\n",
              "      background-color: #E8F0FE;\n",
              "      border: none;\n",
              "      border-radius: 50%;\n",
              "      cursor: pointer;\n",
              "      display: none;\n",
              "      fill: #1967D2;\n",
              "      height: 32px;\n",
              "      padding: 0 0 0 0;\n",
              "      width: 32px;\n",
              "    }\n",
              "\n",
              "    .colab-df-convert:hover {\n",
              "      background-color: #E2EBFA;\n",
              "      box-shadow: 0px 1px 2px rgba(60, 64, 67, 0.3), 0px 1px 3px 1px rgba(60, 64, 67, 0.15);\n",
              "      fill: #174EA6;\n",
              "    }\n",
              "\n",
              "    [theme=dark] .colab-df-convert {\n",
              "      background-color: #3B4455;\n",
              "      fill: #D2E3FC;\n",
              "    }\n",
              "\n",
              "    [theme=dark] .colab-df-convert:hover {\n",
              "      background-color: #434B5C;\n",
              "      box-shadow: 0px 1px 3px 1px rgba(0, 0, 0, 0.15);\n",
              "      filter: drop-shadow(0px 1px 2px rgba(0, 0, 0, 0.3));\n",
              "      fill: #FFFFFF;\n",
              "    }\n",
              "  </style>\n",
              "\n",
              "      <script>\n",
              "        const buttonEl =\n",
              "          document.querySelector('#df-9b3876e6-86db-4ab6-979f-d3270da565f0 button.colab-df-convert');\n",
              "        buttonEl.style.display =\n",
              "          google.colab.kernel.accessAllowed ? 'block' : 'none';\n",
              "\n",
              "        async function convertToInteractive(key) {\n",
              "          const element = document.querySelector('#df-9b3876e6-86db-4ab6-979f-d3270da565f0');\n",
              "          const dataTable =\n",
              "            await google.colab.kernel.invokeFunction('convertToInteractive',\n",
              "                                                     [key], {});\n",
              "          if (!dataTable) return;\n",
              "\n",
              "          const docLinkHtml = 'Like what you see? Visit the ' +\n",
              "            '<a target=\"_blank\" href=https://colab.research.google.com/notebooks/data_table.ipynb>data table notebook</a>'\n",
              "            + ' to learn more about interactive tables.';\n",
              "          element.innerHTML = '';\n",
              "          dataTable['output_type'] = 'display_data';\n",
              "          await google.colab.output.renderOutput(dataTable, element);\n",
              "          const docLink = document.createElement('div');\n",
              "          docLink.innerHTML = docLinkHtml;\n",
              "          element.appendChild(docLink);\n",
              "        }\n",
              "      </script>\n",
              "    </div>\n",
              "  </div>\n",
              "  "
            ]
          },
          "metadata": {},
          "execution_count": 66
        }
      ]
    },
    {
      "cell_type": "markdown",
      "source": [
        "#### Stemming"
      ],
      "metadata": {
        "id": "_gg5FdTQ8tUW"
      }
    },
    {
      "cell_type": "code",
      "source": [
        "#Removing the end of the worlds and adding a collumn with a numerical label\n",
        "df['stemmed'] = [return_stem(text) for text in df.sentence]\n",
        "df_pred['stemmed'] = [return_stem(text) for text in df_pred.sentence]\n",
        "df['label'] = pd.factorize(df['difficulty'])[0] + 1\n",
        "df.head()"
      ],
      "metadata": {
        "id": "TCITJDHd9NNh",
        "outputId": "1c715284-066a-4483-8de3-16e4bcca8fed",
        "colab": {
          "base_uri": "https://localhost:8080/",
          "height": 320
        }
      },
      "execution_count": 70,
      "outputs": [
        {
          "output_type": "execute_result",
          "data": {
            "text/plain": [
              "   id                                           sentence difficulty  \\\n",
              "0   0  coûts kilométriques réels diverger sensiblemen...         C1   \n",
              "1   1                    bleu couleur préférée aime vert         A1   \n",
              "2   2           test niveau français site internet école         A1   \n",
              "3   3                                        mari boston         A1   \n",
              "4   4  écoles commerce couloirs places financières ar...         B1   \n",
              "\n",
              "                            tocken_without_stopwords  len  \\\n",
              "0  (coûts, kilométriques, réels, diverger, sensib...   21   \n",
              "1              (bleu, couleur, préférée, aime, vert)    5   \n",
              "2    (test, niveau, français, site, internet, école)    6   \n",
              "3                                     (mari, boston)    2   \n",
              "4  (écoles, commerce, couloirs, places, financièr...   19   \n",
              "\n",
              "                                             stemmed  label  \n",
              "0  [coût, kilometr, réel, diverg, sensibl, valeur...      1  \n",
              "1                 [bleu, couleur, préfer, aim, vert]      2  \n",
              "2         [test, niveau, franc, sit, internet, écol]      2  \n",
              "3                                      [mar, boston]      2  \n",
              "4  [écol, commerc, couloir, plac, financi, arriv,...      3  "
            ],
            "text/html": [
              "\n",
              "  <div id=\"df-140a82e5-80b7-4b37-bfa3-88cb3bd8dcc6\">\n",
              "    <div class=\"colab-df-container\">\n",
              "      <div>\n",
              "<style scoped>\n",
              "    .dataframe tbody tr th:only-of-type {\n",
              "        vertical-align: middle;\n",
              "    }\n",
              "\n",
              "    .dataframe tbody tr th {\n",
              "        vertical-align: top;\n",
              "    }\n",
              "\n",
              "    .dataframe thead th {\n",
              "        text-align: right;\n",
              "    }\n",
              "</style>\n",
              "<table border=\"1\" class=\"dataframe\">\n",
              "  <thead>\n",
              "    <tr style=\"text-align: right;\">\n",
              "      <th></th>\n",
              "      <th>id</th>\n",
              "      <th>sentence</th>\n",
              "      <th>difficulty</th>\n",
              "      <th>tocken_without_stopwords</th>\n",
              "      <th>len</th>\n",
              "      <th>stemmed</th>\n",
              "      <th>label</th>\n",
              "    </tr>\n",
              "  </thead>\n",
              "  <tbody>\n",
              "    <tr>\n",
              "      <th>0</th>\n",
              "      <td>0</td>\n",
              "      <td>coûts kilométriques réels diverger sensiblemen...</td>\n",
              "      <td>C1</td>\n",
              "      <td>(coûts, kilométriques, réels, diverger, sensib...</td>\n",
              "      <td>21</td>\n",
              "      <td>[coût, kilometr, réel, diverg, sensibl, valeur...</td>\n",
              "      <td>1</td>\n",
              "    </tr>\n",
              "    <tr>\n",
              "      <th>1</th>\n",
              "      <td>1</td>\n",
              "      <td>bleu couleur préférée aime vert</td>\n",
              "      <td>A1</td>\n",
              "      <td>(bleu, couleur, préférée, aime, vert)</td>\n",
              "      <td>5</td>\n",
              "      <td>[bleu, couleur, préfer, aim, vert]</td>\n",
              "      <td>2</td>\n",
              "    </tr>\n",
              "    <tr>\n",
              "      <th>2</th>\n",
              "      <td>2</td>\n",
              "      <td>test niveau français site internet école</td>\n",
              "      <td>A1</td>\n",
              "      <td>(test, niveau, français, site, internet, école)</td>\n",
              "      <td>6</td>\n",
              "      <td>[test, niveau, franc, sit, internet, écol]</td>\n",
              "      <td>2</td>\n",
              "    </tr>\n",
              "    <tr>\n",
              "      <th>3</th>\n",
              "      <td>3</td>\n",
              "      <td>mari boston</td>\n",
              "      <td>A1</td>\n",
              "      <td>(mari, boston)</td>\n",
              "      <td>2</td>\n",
              "      <td>[mar, boston]</td>\n",
              "      <td>2</td>\n",
              "    </tr>\n",
              "    <tr>\n",
              "      <th>4</th>\n",
              "      <td>4</td>\n",
              "      <td>écoles commerce couloirs places financières ar...</td>\n",
              "      <td>B1</td>\n",
              "      <td>(écoles, commerce, couloirs, places, financièr...</td>\n",
              "      <td>19</td>\n",
              "      <td>[écol, commerc, couloir, plac, financi, arriv,...</td>\n",
              "      <td>3</td>\n",
              "    </tr>\n",
              "  </tbody>\n",
              "</table>\n",
              "</div>\n",
              "      <button class=\"colab-df-convert\" onclick=\"convertToInteractive('df-140a82e5-80b7-4b37-bfa3-88cb3bd8dcc6')\"\n",
              "              title=\"Convert this dataframe to an interactive table.\"\n",
              "              style=\"display:none;\">\n",
              "        \n",
              "  <svg xmlns=\"http://www.w3.org/2000/svg\" height=\"24px\"viewBox=\"0 0 24 24\"\n",
              "       width=\"24px\">\n",
              "    <path d=\"M0 0h24v24H0V0z\" fill=\"none\"/>\n",
              "    <path d=\"M18.56 5.44l.94 2.06.94-2.06 2.06-.94-2.06-.94-.94-2.06-.94 2.06-2.06.94zm-11 1L8.5 8.5l.94-2.06 2.06-.94-2.06-.94L8.5 2.5l-.94 2.06-2.06.94zm10 10l.94 2.06.94-2.06 2.06-.94-2.06-.94-.94-2.06-.94 2.06-2.06.94z\"/><path d=\"M17.41 7.96l-1.37-1.37c-.4-.4-.92-.59-1.43-.59-.52 0-1.04.2-1.43.59L10.3 9.45l-7.72 7.72c-.78.78-.78 2.05 0 2.83L4 21.41c.39.39.9.59 1.41.59.51 0 1.02-.2 1.41-.59l7.78-7.78 2.81-2.81c.8-.78.8-2.07 0-2.86zM5.41 20L4 18.59l7.72-7.72 1.47 1.35L5.41 20z\"/>\n",
              "  </svg>\n",
              "      </button>\n",
              "      \n",
              "  <style>\n",
              "    .colab-df-container {\n",
              "      display:flex;\n",
              "      flex-wrap:wrap;\n",
              "      gap: 12px;\n",
              "    }\n",
              "\n",
              "    .colab-df-convert {\n",
              "      background-color: #E8F0FE;\n",
              "      border: none;\n",
              "      border-radius: 50%;\n",
              "      cursor: pointer;\n",
              "      display: none;\n",
              "      fill: #1967D2;\n",
              "      height: 32px;\n",
              "      padding: 0 0 0 0;\n",
              "      width: 32px;\n",
              "    }\n",
              "\n",
              "    .colab-df-convert:hover {\n",
              "      background-color: #E2EBFA;\n",
              "      box-shadow: 0px 1px 2px rgba(60, 64, 67, 0.3), 0px 1px 3px 1px rgba(60, 64, 67, 0.15);\n",
              "      fill: #174EA6;\n",
              "    }\n",
              "\n",
              "    [theme=dark] .colab-df-convert {\n",
              "      background-color: #3B4455;\n",
              "      fill: #D2E3FC;\n",
              "    }\n",
              "\n",
              "    [theme=dark] .colab-df-convert:hover {\n",
              "      background-color: #434B5C;\n",
              "      box-shadow: 0px 1px 3px 1px rgba(0, 0, 0, 0.15);\n",
              "      filter: drop-shadow(0px 1px 2px rgba(0, 0, 0, 0.3));\n",
              "      fill: #FFFFFF;\n",
              "    }\n",
              "  </style>\n",
              "\n",
              "      <script>\n",
              "        const buttonEl =\n",
              "          document.querySelector('#df-140a82e5-80b7-4b37-bfa3-88cb3bd8dcc6 button.colab-df-convert');\n",
              "        buttonEl.style.display =\n",
              "          google.colab.kernel.accessAllowed ? 'block' : 'none';\n",
              "\n",
              "        async function convertToInteractive(key) {\n",
              "          const element = document.querySelector('#df-140a82e5-80b7-4b37-bfa3-88cb3bd8dcc6');\n",
              "          const dataTable =\n",
              "            await google.colab.kernel.invokeFunction('convertToInteractive',\n",
              "                                                     [key], {});\n",
              "          if (!dataTable) return;\n",
              "\n",
              "          const docLinkHtml = 'Like what you see? Visit the ' +\n",
              "            '<a target=\"_blank\" href=https://colab.research.google.com/notebooks/data_table.ipynb>data table notebook</a>'\n",
              "            + ' to learn more about interactive tables.';\n",
              "          element.innerHTML = '';\n",
              "          dataTable['output_type'] = 'display_data';\n",
              "          await google.colab.output.renderOutput(dataTable, element);\n",
              "          const docLink = document.createElement('div');\n",
              "          docLink.innerHTML = docLinkHtml;\n",
              "          element.appendChild(docLink);\n",
              "        }\n",
              "      </script>\n",
              "    </div>\n",
              "  </div>\n",
              "  "
            ]
          },
          "metadata": {},
          "execution_count": 70
        }
      ]
    },
    {
      "cell_type": "markdown",
      "source": [
        "###Doc2Vec"
      ],
      "metadata": {
        "id": "V6R1OVaF-sgK"
      }
    },
    {
      "cell_type": "code",
      "source": [
        "#Putting Data in a TaggedDocument format\n",
        "documents = []\n",
        "testdocuments = []\n",
        "for ind in df.index:\n",
        "  documents.append(TaggedDocument(df['stemmed'][ind],\n",
        "      [df['label'][ind]]))\n",
        "\n",
        "for ind in df_pred.index:\n",
        "  testdocuments.append(TaggedDocument(df_pred['stemmed'][ind],\n",
        "      tags=None))\n",
        "testdocuments"
      ],
      "metadata": {
        "id": "mR_3YOAg-uwO"
      },
      "execution_count": null,
      "outputs": []
    },
    {
      "cell_type": "code",
      "source": [
        "#Creating a train set and a test set on the TaggedDocument\n",
        "document_train, document_test = train_test_split(documents, test_size=0.2, random_state=0)"
      ],
      "metadata": {
        "id": "eXVoiVCL_yl8"
      },
      "execution_count": 72,
      "outputs": []
    },
    {
      "cell_type": "code",
      "source": [
        "# Preparation BagOfWords\n",
        "model_dbow = Doc2Vec(dm=0, vector_size=300, negative=5, hs=0, min_count=2, sample = 0)\n",
        "model_dbow.build_vocab([x for x in tqdm(document_train)])\n",
        "document = utils.shuffle(document_train)\n",
        "model_dbow.train(documents, total_examples=model_dbow.corpus_count, epochs=model_dbow.epochs)"
      ],
      "metadata": {
        "id": "ypSQH0wYABjB"
      },
      "execution_count": null,
      "outputs": []
    },
    {
      "cell_type": "code",
      "source": [
        "# Vectorization\n",
        "y_train, X_train = vector_for_learning(model_dbow, document_train)\n",
        "y_test, X_test = vector_for_learning(model_dbow, document_test)"
      ],
      "metadata": {
        "id": "7nw5GX9jAi-S"
      },
      "execution_count": 79,
      "outputs": []
    },
    {
      "cell_type": "markdown",
      "source": [
        "###Linear Regression"
      ],
      "metadata": {
        "id": "3SL2lUizB6IF"
      }
    },
    {
      "cell_type": "code",
      "source": [
        "# Fit model on training set\n",
        "logreg = LogisticRegression(solver='lbfgs' ,max_iter=1000, random_state=0)\n",
        "logreg.fit(X_train, y_train)\n",
        "\n",
        "# Predictions\n",
        "y_pred = logreg.predict(X_test)\n",
        "\n",
        "# Evaluation\n",
        "evaluate(y_test, y_pred)"
      ],
      "metadata": {
        "id": "JQn2KdDaAtPM",
        "outputId": "7fcbd025-fb1f-4b33-edc2-9b8ef9dbaa2b",
        "colab": {
          "base_uri": "https://localhost:8080/"
        }
      },
      "execution_count": 92,
      "outputs": [
        {
          "output_type": "stream",
          "name": "stdout",
          "text": [
            "CONFUSION MATRIX:\n",
            "[[ 87   9  20   1  30  26]\n",
            " [  1 104  19  36   1   0]\n",
            " [  5  19  80  26  22   8]\n",
            " [  1  57  40  58   6   2]\n",
            " [  7   4  27   3  87  16]\n",
            " [ 15   6  11   2  20 104]]\n",
            "ACCURACY SCORE:\n",
            "0.5417\n",
            "CLASSIFICATION REPORT:\n",
            "\tPrecision: 0.5550\n",
            "\tRecall: 0.5442\n",
            "\tF1_Score: 0.5420\n"
          ]
        }
      ]
    }
  ]
}