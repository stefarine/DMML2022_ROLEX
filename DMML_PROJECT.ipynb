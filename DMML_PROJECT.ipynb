{
  "nbformat": 4,
  "nbformat_minor": 0,
  "metadata": {
    "colab": {
      "provenance": [],
      "toc_visible": true,
      "authorship_tag": "ABX9TyNhfPSsghULdOpopntpyLoy",
      "include_colab_link": true
    },
    "kernelspec": {
      "name": "python3",
      "display_name": "Python 3"
    },
    "language_info": {
      "name": "python"
    }
  },
  "cells": [
    {
      "cell_type": "markdown",
      "metadata": {
        "id": "view-in-github",
        "colab_type": "text"
      },
      "source": [
        "<a href=\"https://colab.research.google.com/github/stefarine/DMML2022_ROLEX/blob/main/DMML_PROJECT.ipynb\" target=\"_parent\"><img src=\"https://colab.research.google.com/assets/colab-badge.svg\" alt=\"Open In Colab\"/></a>"
      ]
    },
    {
      "cell_type": "markdown",
      "source": [
        "#Data Importation and statistics"
      ],
      "metadata": {
        "id": "v1LkB7I--Yae"
      }
    },
    {
      "cell_type": "markdown",
      "source": [
        "##Importation "
      ],
      "metadata": {
        "id": "h2aXK3OUATSp"
      }
    },
    {
      "cell_type": "code",
      "execution_count": 2,
      "metadata": {
        "id": "s2wWDwCv-Oh8"
      },
      "outputs": [],
      "source": [
        "import pandas as pd\n",
        "import numpy as np\n",
        "from sklearn.feature_extraction.text import CountVectorizer, TfidfVectorizer\n",
        "from sklearn.linear_model import LogisticRegression, LogisticRegressionCV\n",
        "from sklearn.pipeline import Pipeline\n",
        "from sklearn.model_selection import train_test_split\n",
        "from sklearn.metrics import confusion_matrix, accuracy_score, precision_score, recall_score, f1_score\n",
        "from sklearn import metrics\n",
        "from sklearn.metrics import roc_curve, roc_auc_score\n",
        "from sklearn.model_selection import train_test_split, cross_val_score\n",
        "from sklearn.neighbors import KNeighborsClassifier\n",
        "from sklearn.model_selection import KFold, GridSearchCV\n",
        "from sklearn.neighbors import KNeighborsRegressor\n",
        "\n",
        "random_state=0\n",
        "\n",
        "df = pd.read_csv('training_data.csv')\n",
        "df_pred = pd.read_csv('unlabelled_test_data.csv')"
      ]
    },
    {
      "cell_type": "code",
      "source": [
        "X = df['sentence']\n",
        "y = df['difficulty']\n",
        "X_pred = df_pred['sentence']"
      ],
      "metadata": {
        "id": "6RnY6303AE1T"
      },
      "execution_count": 3,
      "outputs": []
    },
    {
      "cell_type": "markdown",
      "source": [
        "##Descriptive statistics and baseline"
      ],
      "metadata": {
        "id": "KwGre9ldA0BR"
      }
    },
    {
      "cell_type": "code",
      "source": [
        "plot = y.value_counts().plot.bar()"
      ],
      "metadata": {
        "colab": {
          "base_uri": "https://localhost:8080/",
          "height": 269
        },
        "id": "5Cp2bSfe_wx8",
        "outputId": "f45278f4-6148-4d39-dae3-2be396e63e9d"
      },
      "execution_count": 4,
      "outputs": [
        {
          "output_type": "display_data",
          "data": {
            "text/plain": [
              "<Figure size 432x288 with 1 Axes>"
            ],
            "image/png": "[encoded data removed]"
          },
          "metadata": {
            "needs_background": "light"
          }
        }
      ]
    },
    {
      "cell_type": "code",
      "source": [
        "y.describe()"
      ],
      "metadata": {
        "colab": {
          "base_uri": "https://localhost:8080/"
        },
        "id": "79DVvsiHBbWA",
        "outputId": "e9d0bb13-41cb-4986-f194-d55ec0df9cbc"
      },
      "execution_count": 5,
      "outputs": [
        {
          "output_type": "execute_result",
          "data": {
            "text/plain": [
              "count     4800\n",
              "unique       6\n",
              "top         A1\n",
              "freq       813\n",
              "Name: difficulty, dtype: object"
            ]
          },
          "metadata": {},
          "execution_count": 5
        }
      ]
    },
    {
      "cell_type": "code",
      "source": [
        "base_rate = (df['difficulty'].value_counts().max()/df['difficulty'].shape[0]).round(4)\n",
        "print('Base rate :')\n",
        "print(base_rate)"
      ],
      "metadata": {
        "colab": {
          "base_uri": "https://localhost:8080/"
        },
        "id": "e4h2gNaXAYZK",
        "outputId": "2212fbef-48d2-4a28-973f-b7f31fde64d2"
      },
      "execution_count": 6,
      "outputs": [
        {
          "output_type": "stream",
          "name": "stdout",
          "text": [
            "Base rate :\n",
            "0.1694\n"
          ]
        }
      ]
    },
    {
      "cell_type": "markdown",
      "source": [
        "#Models"
      ],
      "metadata": {
        "id": "S31KKwG8Cts_"
      }
    },
    {
      "cell_type": "code",
      "source": [
        "#Define vectorizer and split the set\n",
        "tfidf = TfidfVectorizer(ngram_range=(1, 1))\n",
        "X_train, X_test, y_train, y_test = train_test_split(X, y, test_size=0.2, random_state=0)"
      ],
      "metadata": {
        "id": "adbHRe4UC9gk"
      },
      "execution_count": 7,
      "outputs": []
    },
    {
      "cell_type": "code",
      "source": [
        "# Function to evaluate the model\n",
        "def evaluate(true, pred):\n",
        "    precision = precision_score(true, pred,average='macro')\n",
        "    recall = recall_score(true, pred,average='macro')\n",
        "    f1 = f1_score(true, pred,average='macro')\n",
        "    print(f\"CONFUSION MATRIX:\\n{confusion_matrix(true, pred)}\")\n",
        "    print(f\"ACCURACY SCORE:\\n{accuracy_score(true, pred):.4f}\")\n",
        "    print(f\"CLASSIFICATION REPORT:\\n\\tPrecision: {precision:.4f}\\n\\tRecall: {recall:.4f}\\n\\tF1_Score: {f1:.4f}\")"
      ],
      "metadata": {
        "id": "z8mqzqXtDkwe"
      },
      "execution_count": 8,
      "outputs": []
    },
    {
      "cell_type": "code",
      "source": [
        "#Function to create a pipeline with TFIDF and a classifier\n",
        "def pipeWithTFIDF(myClassifier):\n",
        "  pipe = Pipeline([('vectorizer', tfidf),\n",
        "                 ('classifier', myClassifier)])\n",
        "  return pipe"
      ],
      "metadata": {
        "id": "waLBsgs2NsNr"
      },
      "execution_count": 13,
      "outputs": []
    },
    {
      "cell_type": "code",
      "source": [
        "#Method to fit a model, make pradiction with it and get evaluation stuff\n",
        "def fitPredictAndEvaluateModel(pipe):\n",
        "  # Fit model on training set\n",
        "  pipe.fit(X_train, y_train)\n",
        "\n",
        "  # Predictions\n",
        "  y_pred= pipe.predict(X_test)\n",
        "\n",
        "  # Evaluation\n",
        "  evaluate(y_test, y_pred)\n",
        "\n",
        "  return y_pred"
      ],
      "metadata": {
        "id": "-3NxLRi0Qjt1"
      },
      "execution_count": 14,
      "outputs": []
    },
    {
      "cell_type": "code",
      "source": [
        "#Method to make a gride search and print the results\n",
        "def getResultsGridSearch(myGs):\n",
        "  #Pipeline preparation\n",
        "  pipe = pipeWithTFIDF(myGs)\n",
        "\n",
        "  #fit\n",
        "  pipe.fit(X_train, y_train)\n",
        "\n",
        "  #Print results\n",
        "  print('Best Score : ')\n",
        "  print(myGs.best_score_)\n",
        "  print('Best Params : ')\n",
        "  print(myGs.best_params_)"
      ],
      "metadata": {
        "id": "1dqPOhH9VbUb"
      },
      "execution_count": 15,
      "outputs": []
    },
    {
      "cell_type": "markdown",
      "source": [
        "## Logistic Regression with TFidf vectoriser (no data cleaning)"
      ],
      "metadata": {
        "id": "95ZH1_rWCviE"
      }
    },
    {
      "cell_type": "code",
      "source": [
        "#Define classifier and pipeline creation\n",
        "LR = LogisticRegression(solver='lbfgs', random_state=0)\n",
        "pipe_LR = pipeWithTFIDF(LR)\n",
        "\n",
        "# fit, predict and evaluate\n",
        "y_pred_LR = fitPredictAndEvaluateModel(pipe_LR)\n"
      ],
      "metadata": {
        "colab": {
          "base_uri": "https://localhost:8080/"
        },
        "id": "_Nggt40pC5d6",
        "outputId": "b052a536-16ac-465e-fea3-61c94dc7d101"
      },
      "execution_count": 16,
      "outputs": [
        {
          "output_type": "stream",
          "name": "stdout",
          "text": [
            "CONFUSION MATRIX:\n",
            "[[93 31 21 10  4  2]\n",
            " [54 60 30  6  6  8]\n",
            " [12 38 64 17  9 20]\n",
            " [ 6  6 15 66 27 24]\n",
            " [ 4  4 10 37 73 45]\n",
            " [ 7  8  8 19 24 92]]\n",
            "ACCURACY SCORE:\n",
            "0.4667\n",
            "CLASSIFICATION REPORT:\n",
            "\tPrecision: 0.4645\n",
            "\tRecall: 0.4677\n",
            "\tF1_Score: 0.4640\n"
          ]
        }
      ]
    },
    {
      "cell_type": "markdown",
      "source": [
        "## KNN & hyperparameter optimization (no data cleaning)"
      ],
      "metadata": {
        "id": "XlrgLzHrERoB"
      }
    },
    {
      "cell_type": "code",
      "source": [
        "# Import KNeighborsClassifier\n",
        "from sklearn.neighbors import KNeighborsClassifier"
      ],
      "metadata": {
        "id": "-MbRX89zRgvl"
      },
      "execution_count": 17,
      "outputs": []
    },
    {
      "cell_type": "markdown",
      "source": [
        "###Knn Basic"
      ],
      "metadata": {
        "id": "XVykmI_ZEVaM"
      }
    },
    {
      "cell_type": "code",
      "source": [
        "# Define classifier and pipeline creation\n",
        "knn = KNeighborsClassifier()\n",
        "pipe_knn = pipeWithTFIDF(knn)\n",
        "\n",
        "# fit, predict and evaluate\n",
        "y_pred_knn = fitPredictAndEvaluateModel(pipe_knn)"
      ],
      "metadata": {
        "colab": {
          "base_uri": "https://localhost:8080/"
        },
        "id": "MgqngxgrETfD",
        "outputId": "ba4154ef-d16b-4515-8a6e-ac32df8a41e4"
      },
      "execution_count": 18,
      "outputs": [
        {
          "output_type": "stream",
          "name": "stdout",
          "text": [
            "CONFUSION MATRIX:\n",
            "[[121  28   8   1   1   2]\n",
            " [ 98  51  12   1   1   1]\n",
            " [ 81  39  33   3   1   3]\n",
            " [ 49  30  19  29   3  14]\n",
            " [ 48  36  29  15  29  16]\n",
            " [ 37  29  17  23   9  43]]\n",
            "ACCURACY SCORE:\n",
            "0.3187\n",
            "CLASSIFICATION REPORT:\n",
            "\tPrecision: 0.4007\n",
            "\tRecall: 0.3183\n",
            "\tF1_Score: 0.3022\n"
          ]
        }
      ]
    },
    {
      "cell_type": "markdown",
      "source": [
        "###Knn with hyperparameter optimization "
      ],
      "metadata": {
        "id": "IxBAC36yEwib"
      }
    },
    {
      "cell_type": "code",
      "source": [
        "#Preparation of the GridSearch\n",
        "seed = 0\n",
        "grid_params = { 'n_neighbors' : [5,7,9,11,13,15],\n",
        "               'weights' : ['uniform','distance'],\n",
        "               'metric' : ['minkowski','euclidean','manhattan']}\n",
        "gs = GridSearchCV(KNeighborsClassifier(), grid_params, verbose = 1, cv=3, n_jobs = -1)\n",
        "\n",
        "#GridSearch and Print Results\n",
        "getResultsGridSearch(gs)"
      ],
      "metadata": {
        "colab": {
          "base_uri": "https://localhost:8080/"
        },
        "id": "lxrqEPRjE0U6",
        "outputId": "33ccdfbc-1ec9-438d-bbb6-69a10c79d517"
      },
      "execution_count": 19,
      "outputs": [
        {
          "output_type": "stream",
          "name": "stdout",
          "text": [
            "Fitting 3 folds for each of 36 candidates, totalling 108 fits\n",
            "Best Score : \n",
            "0.3466145833333334\n",
            "Best Params : \n",
            "{'metric': 'minkowski', 'n_neighbors': 11, 'weights': 'distance'}\n"
          ]
        }
      ]
    },
    {
      "cell_type": "code",
      "source": [
        "# Define classifier and pipeline creation \n",
        "## This time we put the parameters we got in previous step\n",
        "knn_GS = KNeighborsClassifier(n_neighbors = 11, weights = 'distance',metric = 'minkowski')\n",
        "pipe_knn = pipeWithTFIDF(knn)\n",
        "\n",
        "# fit, predict and evaluate\n",
        "y_pred_knn_GS = fitPredictAndEvaluateModel(pipe_knn)"
      ],
      "metadata": {
        "colab": {
          "base_uri": "https://localhost:8080/"
        },
        "id": "CqNCllR4QaAf",
        "outputId": "d716f205-e0d5-4a1d-a694-26387117c009"
      },
      "execution_count": 40,
      "outputs": [
        {
          "output_type": "stream",
          "name": "stdout",
          "text": [
            "CONFUSION MATRIX:\n",
            "[[121  28   8   1   1   2]\n",
            " [ 98  51  12   1   1   1]\n",
            " [ 81  39  33   3   1   3]\n",
            " [ 49  30  19  29   3  14]\n",
            " [ 48  36  29  15  29  16]\n",
            " [ 37  29  17  23   9  43]]\n",
            "ACCURACY SCORE:\n",
            "0.3187\n",
            "CLASSIFICATION REPORT:\n",
            "\tPrecision: 0.4007\n",
            "\tRecall: 0.3183\n",
            "\tF1_Score: 0.3022\n"
          ]
        }
      ]
    },
    {
      "cell_type": "markdown",
      "source": [
        "##Decision Tree & Hyperparameter optimization (no data cleaning))"
      ],
      "metadata": {
        "id": "AMDalKeNSaKr"
      }
    },
    {
      "cell_type": "code",
      "source": [
        "# Import Decision Tree Classifier\n",
        "from sklearn.tree import DecisionTreeClassifier"
      ],
      "metadata": {
        "id": "DeqqJL3oTF09"
      },
      "execution_count": 21,
      "outputs": []
    },
    {
      "cell_type": "markdown",
      "source": [
        "### Decision tree Basic"
      ],
      "metadata": {
        "id": "IqGVDxEBSiVy"
      }
    },
    {
      "cell_type": "code",
      "source": [
        "# Define classifier and pipeline creation\n",
        "dt = DecisionTreeClassifier(random_state=0)\n",
        "pipe_dt = pipeWithTFIDF(dt)\n",
        "\n",
        "# fit, predict and evaluate\n",
        "y_pred_dt = fitPredictAndEvaluateModel(pipe_dt)"
      ],
      "metadata": {
        "colab": {
          "base_uri": "https://localhost:8080/"
        },
        "id": "PO3bqK_DSc1I",
        "outputId": "93adea3d-4401-4a86-d931-872fab957f6d"
      },
      "execution_count": 46,
      "outputs": [
        {
          "output_type": "stream",
          "name": "stdout",
          "text": [
            "CONFUSION MATRIX:\n",
            "[[78 38 25 11  2  7]\n",
            " [49 54 33 18  3  7]\n",
            " [24 41 37 25 18 15]\n",
            " [10 20 30 38 24 22]\n",
            " [ 8 19 31 39 39 37]\n",
            " [15 13 28 33 30 39]]\n",
            "ACCURACY SCORE:\n",
            "0.2969\n",
            "CLASSIFICATION REPORT:\n",
            "\tPrecision: 0.2986\n",
            "\tRecall: 0.2969\n",
            "\tF1_Score: 0.2945\n"
          ]
        }
      ]
    },
    {
      "cell_type": "markdown",
      "source": [
        "###Decision Tree with hyperparameter optimization"
      ],
      "metadata": {
        "id": "g8a1lcttTZux"
      }
    },
    {
      "cell_type": "code",
      "source": [
        "#Preparation of the GridSearch\n",
        "seed = 0\n",
        "grid_params = {'max_depth' : range(1,60)}\n",
        "gs = GridSearchCV(DecisionTreeClassifier(), grid_params, verbose = 1, cv=3, n_jobs = -1)\n",
        "\n",
        "#GridSearch and Print Results\n",
        "getResultsGridSearch(gs)\n"
      ],
      "metadata": {
        "colab": {
          "base_uri": "https://localhost:8080/"
        },
        "id": "3ozK0b1dUBLW",
        "outputId": "5d788c2e-41dd-463f-a3e7-4fcab24da937"
      },
      "execution_count": 50,
      "outputs": [
        {
          "output_type": "stream",
          "name": "stdout",
          "text": [
            "Fitting 3 folds for each of 59 candidates, totalling 177 fits\n",
            "Best Score : \n",
            "0.3260416666666666\n",
            "Best Params : \n",
            "{'max_depth': 47}\n"
          ]
        }
      ]
    },
    {
      "cell_type": "code",
      "source": [
        "# Define classifier and pipeline creation\n",
        "dt = DecisionTreeClassifier(max_depth=43, random_state=0)\n",
        "pipe_dt_GS = pipeWithTFIDF(dt)\n",
        "\n",
        "# fit, predict and evaluate\n",
        "y_pred_dt_GS = fitPredictAndEvaluateModel(pipe_dt_GS)"
      ],
      "metadata": {
        "colab": {
          "base_uri": "https://localhost:8080/"
        },
        "id": "VqYmKqskWG4C",
        "outputId": "9dabc317-68a4-47cd-bb47-ecc2fd3b5bae"
      },
      "execution_count": 48,
      "outputs": [
        {
          "output_type": "stream",
          "name": "stdout",
          "text": [
            "CONFUSION MATRIX:\n",
            "[[84 34 29  7  1  6]\n",
            " [48 53 36 15  4  8]\n",
            " [34 39 38 18 17 14]\n",
            " [ 9 23 27 44 19 22]\n",
            " [14 19 27 47 35 31]\n",
            " [16 12 27 37 32 34]]\n",
            "ACCURACY SCORE:\n",
            "0.3000\n",
            "CLASSIFICATION REPORT:\n",
            "\tPrecision: 0.2987\n",
            "\tRecall: 0.3009\n",
            "\tF1_Score: 0.2947\n"
          ]
        }
      ]
    },
    {
      "cell_type": "markdown",
      "source": [
        "## Random Forest (no data cleaning)"
      ],
      "metadata": {
        "id": "GG4m1owaadYQ"
      }
    },
    {
      "cell_type": "code",
      "source": [
        "from sklearn.ensemble import RandomForestClassifier"
      ],
      "metadata": {
        "id": "ycgLD_weageC"
      },
      "execution_count": 51,
      "outputs": []
    },
    {
      "cell_type": "code",
      "source": [
        "# Define classifier and pipeline creation\n",
        "rf = RandomForestClassifier(random_state=0)\n",
        "pipe_rf = pipeWithTFIDF(rf)\n",
        "\n",
        "# fit, predict and evaluate\n",
        "y_pred_rf = fitPredictAndEvaluateModel(pipe_rf)"
      ],
      "metadata": {
        "id": "MollJ3ViapuQ",
        "outputId": "bcfa32eb-1e43-4f2e-d8d5-8bfab3d3deb5",
        "colab": {
          "base_uri": "https://localhost:8080/"
        }
      },
      "execution_count": 52,
      "outputs": [
        {
          "output_type": "stream",
          "name": "stdout",
          "text": [
            "CONFUSION MATRIX:\n",
            "[[125  20   7   7   2   0]\n",
            " [ 83  51  21   7   2   0]\n",
            " [ 39  39  47  20   6   9]\n",
            " [ 17  11  13  68  23  12]\n",
            " [ 16  16  23  46  46  26]\n",
            " [ 19  13  10  33  23  60]]\n",
            "ACCURACY SCORE:\n",
            "0.4135\n",
            "CLASSIFICATION REPORT:\n",
            "\tPrecision: 0.4223\n",
            "\tRecall: 0.4165\n",
            "\tF1_Score: 0.4014\n"
          ]
        }
      ]
    }
  ]
}